{
 "cells": [
  {
   "cell_type": "markdown",
   "metadata": {},
   "source": [
    "# Tarea N°3\n",
    "\n",
    "\n",
    "<div>\n",
    "<img src=\"https://i.ibb.co/v3CvVz9/udd-short.png\" width=\"150\"/>\n",
    "    <br>\n",
    "    <strong>Universidad del Desarrollo</strong><br>\n",
    "    <em>Profesor: Tomás Fontecilla </em><br>\n",
    "\n",
    "</div>\n",
    "\n",
    "# Machine Learning: Laboratorio 03\n",
    "*12 de Octubre de 2024*\n",
    "\n",
    "**Nombre Estudiante(s)**: `Gabriel Álvarez Martínez - Valeska Farías Caicedo - Constanza Perez Pulido - Rosario Valderrama Labarca\n",
    "\n",
    "\n",
    "## 1. Objetivo\n",
    "\n",
    "En este laboratorio deberá *aplicar* los algoritmos aprendidos en la clase e investigar del uso de la libreria python scikit-learn y sus funciones más útiles para estos métodos. Su meta es realizar un análisis de datos completo probando los distintos métodos supervisados vistos hasta ahora (Naive Bayes, Análisis de Discriminante, Regresión Logística).\n",
    "\n",
    "Para esto utilizará la base load_breast_cancer anteriormente utilizada. Además los siguientes comandos de la librería sklearn, para la siguiente base:\n",
    "\n",
    "```\n",
    "# X, y =fetch_openml(\"titanic\", version=1, as_frame=True, return_X_y=True)\n",
    "X.drop(['boat', 'body', 'home.dest'], axis=1, inplace=Tru```\n",
    "```"
   ]
  },
  {
   "cell_type": "markdown",
   "metadata": {},
   "source": [
    "Por último, nos gustaría saber el destino de los dos pasajeros de los cuales se presentan sus boletos en el Titanic. También, nos interesa entender si la edad es un elemento determinante para la sobrevida."
   ]
  },
  {
   "cell_type": "markdown",
   "metadata": {},
   "source": [
    "## 2. Introducción  \n",
    "\n",
    "En el presente laboratorio se utilizaron dos dataframe:\n",
    "\n",
    "- load_breast_cancer, con el cual se pretende entrenar un modelo para predecir si el tumor de un paciente es maligno o benigno.\n",
    "- titanic, cel este df se desea predecir si los pasajeros sobreviven o no.\n",
    "\n",
    "Para lograr lo anterior, se utilizaron algoritmos de clasificación supervisados, para eso se utilizará Análisis de Discriminante Lineal (LDA) con el primer df (load_breast_cancer) y se realizará una regresión lineal además de  Naive Bayes para el df Titanic.\n",
    "\n",
    "Adcionalmente, se desea conocer el destino de dos pasajeros en específico que mantienen las siguientes caracteristicas según su ticket de embarque:  \n",
    "\n",
    "Pasajero N°1:  \n",
    "\n",
    "  - Nombre: Miss Helene ragnhild Ostby\n",
    "  - Sexo: Femenino\n",
    "  - Edad: 22 años\n",
    "  - Clase en la que viaja: 1ra. clase\n",
    "  - Cabin: B-36\n",
    "  - Embarque: Cherbourg  \n",
    "\n",
    "Pasajero N°2:  \n",
    "  - Nombre: Mr. Frederick Edward Giles\n",
    "  - Sexo: Masculino\n",
    "  - Edad: 21\n",
    "  - Clase en la que viaja: 2da. clase\n",
    "  - Cabin: Desconocida\n",
    "  - Embarque: Southampton  \n",
    "\n",
    "Para predecir si los dos pasajeros indicados sobreviven o no, se utiliza un árbol de clasificación que será entrenado para identificar las caracteristicas de los pasajeros que sobreviven y los que no, luego de eso podremos determinar el destino de ambos. el destino de ambos."
   ]
  },
  {
   "cell_type": "markdown",
   "metadata": {},
   "source": [
    "## 3. Importación de paquetes"
   ]
  },
  {
   "cell_type": "code",
   "execution_count": 199,
   "metadata": {
    "id": "ZxuDJge7J8pF"
   },
   "outputs": [],
   "source": [
    "import pandas as pd\n",
    "import matplotlib.pyplot as plt\n",
    "import seaborn as sns\n",
    "from sklearn.datasets import fetch_openml\n",
    "from sklearn.model_selection import train_test_split\n",
    "from sklearn.linear_model import LogisticRegression\n",
    "from sklearn.metrics import accuracy_score, recall_score, confusion_matrix"
   ]
  },
  {
   "cell_type": "markdown",
   "metadata": {},
   "source": [
    "## 4. Obtención del Dataset"
   ]
  },
  {
   "cell_type": "markdown",
   "metadata": {},
   "source": [
    "### 4.1. load_titanic"
   ]
  },
  {
   "cell_type": "code",
   "execution_count": 200,
   "metadata": {},
   "outputs": [
    {
     "name": "stdout",
     "output_type": "stream",
     "text": [
      "Index(['pclass', 'name', 'sex', 'age', 'sibsp', 'parch', 'ticket', 'fare',\n",
      "       'cabin', 'embarked', 'boat', 'body', 'home.dest'],\n",
      "      dtype='object')\n"
     ]
    }
   ],
   "source": [
    "X_titanic, y_titanic = fetch_openml(\"titanic\", version=1, as_frame=True, return_X_y=True)\n",
    "print(X_titanic.columns)"
   ]
  },
  {
   "cell_type": "code",
   "execution_count": 201,
   "metadata": {},
   "outputs": [
    {
     "data": {
      "text/html": [
       "<div>\n",
       "<style scoped>\n",
       "    .dataframe tbody tr th:only-of-type {\n",
       "        vertical-align: middle;\n",
       "    }\n",
       "\n",
       "    .dataframe tbody tr th {\n",
       "        vertical-align: top;\n",
       "    }\n",
       "\n",
       "    .dataframe thead th {\n",
       "        text-align: right;\n",
       "    }\n",
       "</style>\n",
       "<table border=\"1\" class=\"dataframe\">\n",
       "  <thead>\n",
       "    <tr style=\"text-align: right;\">\n",
       "      <th></th>\n",
       "      <th>pclass</th>\n",
       "      <th>name</th>\n",
       "      <th>sex</th>\n",
       "      <th>age</th>\n",
       "      <th>sibsp</th>\n",
       "      <th>parch</th>\n",
       "      <th>ticket</th>\n",
       "      <th>fare</th>\n",
       "      <th>cabin</th>\n",
       "      <th>embarked</th>\n",
       "      <th>boat</th>\n",
       "      <th>body</th>\n",
       "      <th>home.dest</th>\n",
       "    </tr>\n",
       "  </thead>\n",
       "  <tbody>\n",
       "    <tr>\n",
       "      <th>0</th>\n",
       "      <td>1</td>\n",
       "      <td>Allen, Miss. Elisabeth Walton</td>\n",
       "      <td>female</td>\n",
       "      <td>29.0000</td>\n",
       "      <td>0</td>\n",
       "      <td>0</td>\n",
       "      <td>24160</td>\n",
       "      <td>211.3375</td>\n",
       "      <td>B5</td>\n",
       "      <td>S</td>\n",
       "      <td>2</td>\n",
       "      <td>NaN</td>\n",
       "      <td>St Louis, MO</td>\n",
       "    </tr>\n",
       "    <tr>\n",
       "      <th>1</th>\n",
       "      <td>1</td>\n",
       "      <td>Allison, Master. Hudson Trevor</td>\n",
       "      <td>male</td>\n",
       "      <td>0.9167</td>\n",
       "      <td>1</td>\n",
       "      <td>2</td>\n",
       "      <td>113781</td>\n",
       "      <td>151.5500</td>\n",
       "      <td>C22 C26</td>\n",
       "      <td>S</td>\n",
       "      <td>11</td>\n",
       "      <td>NaN</td>\n",
       "      <td>Montreal, PQ / Chesterville, ON</td>\n",
       "    </tr>\n",
       "    <tr>\n",
       "      <th>2</th>\n",
       "      <td>1</td>\n",
       "      <td>Allison, Miss. Helen Loraine</td>\n",
       "      <td>female</td>\n",
       "      <td>2.0000</td>\n",
       "      <td>1</td>\n",
       "      <td>2</td>\n",
       "      <td>113781</td>\n",
       "      <td>151.5500</td>\n",
       "      <td>C22 C26</td>\n",
       "      <td>S</td>\n",
       "      <td>NaN</td>\n",
       "      <td>NaN</td>\n",
       "      <td>Montreal, PQ / Chesterville, ON</td>\n",
       "    </tr>\n",
       "    <tr>\n",
       "      <th>3</th>\n",
       "      <td>1</td>\n",
       "      <td>Allison, Mr. Hudson Joshua Creighton</td>\n",
       "      <td>male</td>\n",
       "      <td>30.0000</td>\n",
       "      <td>1</td>\n",
       "      <td>2</td>\n",
       "      <td>113781</td>\n",
       "      <td>151.5500</td>\n",
       "      <td>C22 C26</td>\n",
       "      <td>S</td>\n",
       "      <td>NaN</td>\n",
       "      <td>135.0</td>\n",
       "      <td>Montreal, PQ / Chesterville, ON</td>\n",
       "    </tr>\n",
       "    <tr>\n",
       "      <th>4</th>\n",
       "      <td>1</td>\n",
       "      <td>Allison, Mrs. Hudson J C (Bessie Waldo Daniels)</td>\n",
       "      <td>female</td>\n",
       "      <td>25.0000</td>\n",
       "      <td>1</td>\n",
       "      <td>2</td>\n",
       "      <td>113781</td>\n",
       "      <td>151.5500</td>\n",
       "      <td>C22 C26</td>\n",
       "      <td>S</td>\n",
       "      <td>NaN</td>\n",
       "      <td>NaN</td>\n",
       "      <td>Montreal, PQ / Chesterville, ON</td>\n",
       "    </tr>\n",
       "  </tbody>\n",
       "</table>\n",
       "</div>"
      ],
      "text/plain": [
       "   pclass                                             name     sex      age  \\\n",
       "0       1                    Allen, Miss. Elisabeth Walton  female  29.0000   \n",
       "1       1                   Allison, Master. Hudson Trevor    male   0.9167   \n",
       "2       1                     Allison, Miss. Helen Loraine  female   2.0000   \n",
       "3       1             Allison, Mr. Hudson Joshua Creighton    male  30.0000   \n",
       "4       1  Allison, Mrs. Hudson J C (Bessie Waldo Daniels)  female  25.0000   \n",
       "\n",
       "   sibsp  parch  ticket      fare    cabin embarked boat   body  \\\n",
       "0      0      0   24160  211.3375       B5        S    2    NaN   \n",
       "1      1      2  113781  151.5500  C22 C26        S   11    NaN   \n",
       "2      1      2  113781  151.5500  C22 C26        S  NaN    NaN   \n",
       "3      1      2  113781  151.5500  C22 C26        S  NaN  135.0   \n",
       "4      1      2  113781  151.5500  C22 C26        S  NaN    NaN   \n",
       "\n",
       "                         home.dest  \n",
       "0                     St Louis, MO  \n",
       "1  Montreal, PQ / Chesterville, ON  \n",
       "2  Montreal, PQ / Chesterville, ON  \n",
       "3  Montreal, PQ / Chesterville, ON  \n",
       "4  Montreal, PQ / Chesterville, ON  "
      ]
     },
     "execution_count": 201,
     "metadata": {},
     "output_type": "execute_result"
    }
   ],
   "source": [
    "X_titanic.head(5)"
   ]
  },
  {
   "cell_type": "code",
   "execution_count": 202,
   "metadata": {},
   "outputs": [
    {
     "name": "stdout",
     "output_type": "stream",
     "text": [
      "Dimensiones del dataset (filas, columnas): (1309, 13)\n",
      "\n",
      "Información general del dataset:\n",
      "<class 'pandas.core.frame.DataFrame'>\n",
      "RangeIndex: 1309 entries, 0 to 1308\n",
      "Data columns (total 13 columns):\n",
      " #   Column     Non-Null Count  Dtype   \n",
      "---  ------     --------------  -----   \n",
      " 0   pclass     1309 non-null   int64   \n",
      " 1   name       1309 non-null   object  \n",
      " 2   sex        1309 non-null   category\n",
      " 3   age        1046 non-null   float64 \n",
      " 4   sibsp      1309 non-null   int64   \n",
      " 5   parch      1309 non-null   int64   \n",
      " 6   ticket     1309 non-null   object  \n",
      " 7   fare       1308 non-null   float64 \n",
      " 8   cabin      295 non-null    object  \n",
      " 9   embarked   1307 non-null   category\n",
      " 10  boat       486 non-null    object  \n",
      " 11  body       121 non-null    float64 \n",
      " 12  home.dest  745 non-null    object  \n",
      "dtypes: category(2), float64(3), int64(3), object(5)\n",
      "memory usage: 115.4+ KB\n",
      "None\n",
      "\n",
      "Valores nulos por columna:\n",
      "pclass          0\n",
      "name            0\n",
      "sex             0\n",
      "age           263\n",
      "sibsp           0\n",
      "parch           0\n",
      "ticket          0\n",
      "fare            1\n",
      "cabin        1014\n",
      "embarked        2\n",
      "boat          823\n",
      "body         1188\n",
      "home.dest     564\n",
      "dtype: int64\n"
     ]
    }
   ],
   "source": [
    "print(\"Dimensiones del dataset (filas, columnas):\", X_titanic.shape)\n",
    "\n",
    "print(\"\\nInformación general del dataset:\")\n",
    "print(X_titanic.info())\n",
    "\n",
    "print(\"\\nValores nulos por columna:\")\n",
    "print(X_titanic.isnull().sum())"
   ]
  },
  {
   "cell_type": "markdown",
   "metadata": {},
   "source": [
    "**pclass:**\n",
    "Clase del boleto del pasajero.\n",
    "*Valores:*\n",
    "1: Primera clase\n",
    "2: Segunda clase\n",
    "3: Tercera clase\n",
    "\n",
    "**name:**\n",
    "Nombre del pasajero.\n",
    "\n",
    "**sex:**\n",
    "Sexo del pasajero.\n",
    "*Valores:*\n",
    "\"male\": Hombre\n",
    "\"female\": Mujer\n",
    "\n",
    "**age:**\n",
    "Edad del pasajero en años.\n",
    "*Valores:*\n",
    "Numérica (entero), con presencia de NaN.\n",
    "\n",
    "**sibsp:**\n",
    "Número de hermanos y cónyuges a bordo del Titanic.\n",
    "*Valores:*\n",
    "Número entero.\n",
    "\n",
    "**parch:**\n",
    "Número de padres e hijos a bordo del Titanic.\n",
    "*Valores:*\n",
    "Número entero.\n",
    "\n",
    "**ticket:**\n",
    "Número de ticket del pasajero por el boleto.\n",
    "\n",
    "**fare:**\n",
    "Tarifa pagada por el pasajero por su billete.\n",
    "*Valores:* Precio en libras.\n",
    "\n",
    "**cabin:**\n",
    "Identificación de cabina del pasajero a bordo.\n",
    "\n",
    "**embarked:**\n",
    "Puerto donde el pasajero embarcó.\n",
    "*Valores:*\n",
    "\"C\": Cherburgo\n",
    "\"Q\": Queenstown\n",
    "\"S\": Southampton\n",
    "Tipo: Categórica.\n",
    "\n",
    "**boat:**\n",
    "Número de bote que rescató al pasajero luego del hundimiento.\n",
    "\n",
    "**body:**\n",
    "Número de cuerpo que se encontró luego del hundimiento.\n",
    "\n",
    "**home.dest:**\n",
    "Lugar de destino o lugar de residencia."
   ]
  },
  {
   "cell_type": "markdown",
   "metadata": {},
   "source": [
    "# MÉTODOS SUPERVISADOS"
   ]
  },
  {
   "cell_type": "markdown",
   "metadata": {},
   "source": [
    "# *Incluir interpretación de LDA*"
   ]
  },
  {
   "cell_type": "markdown",
   "metadata": {
    "id": "70lI-5cdfPy3"
   },
   "source": [
    "## DF Titanic\n",
    "\n",
    "Para este método se utlizará el data frame Titanic,  que tiene las siguientes variables:  \n",
    "\n",
    "- survived: Indica si el pasajero sobrevivió (1) o no (0).\n",
    "- pclass: Clase del boleto del pasajero (1ra, 2da, 3ra clase).\n",
    "- sex: Género del pasajero.\n",
    "- age: Edad del pasajero.\n",
    "- sibsp: Número de hermanos/cónyuges a bordo.\n",
    "- parch: Número de padres/hijos a bordo.\n",
    "- fare: Tarifa pagada por el boleto.\n",
    "- embarked: Puerto de embarque (C = Cherburgo, Q = Queenstown, S = Southampton).\n",
    "- survived: indica si el pasajero sobrevive 1, no sobrevive 0. (target)  \n",
    "  \n",
    "Sin embargo, para utlizar el df Titanic debemos realizar un análisis previo respecto de como se manejaran los datos nulos, para ello se realizará lo siguiente:  \n",
    "\n",
    " - Identificar que variables tienen valores nulos\n",
    " - Seleccionar el método que se utilizará para imputar los valores nulos\n"
   ]
  },
  {
   "cell_type": "code",
   "execution_count": 203,
   "metadata": {},
   "outputs": [
    {
     "name": "stdout",
     "output_type": "stream",
     "text": [
      "Cantidad de elementos nulos en X:\n",
      "pclass         0\n",
      "name           0\n",
      "sex            0\n",
      "age          263\n",
      "sibsp          0\n",
      "parch          0\n",
      "ticket         0\n",
      "fare           1\n",
      "cabin       1014\n",
      "embarked       2\n",
      "dtype: int64\n",
      "Cantidad de elementos nulos en y:\n",
      "0\n"
     ]
    }
   ],
   "source": [
    "# Se quitan las columnas boat, body y home.dest del dataset\n",
    "X_titanic.drop(['boat', 'body', 'home.dest'], axis=1, inplace=True)\n",
    "# Se indentifican las columnas con nulos en X\n",
    "print(f'Cantidad de elementos nulos en X:\\n{X_titanic.isnull().sum()}')\n",
    "# Se identifica los nulos en y\n",
    "print(f'Cantidad de elementos nulos en y:\\n{y_titanic.isnull().sum()}')"
   ]
  },
  {
   "cell_type": "markdown",
   "metadata": {},
   "source": [
    "Al revisar la cantidad de datos nulos que contiene el data frame titanic, observamos que la variable **age (edad)** tiene 263 observaciones nulas y **cabin (cabina)**. Para solucionar esto utilizaremos imputación de datos con la moda, pero condiconada a otras variable para lograr mayor acertividad al momento de imputar.  \n",
    "\n",
    "- Para *cabin* utilizamos *pclass* y *sex* para imputar según la moda del grupo.\n",
    "- Para *age* utlizamos *pclass* , *sex*  y *cabin* para imputar según la moda del grupo.\n",
    "\n",
    "Al realizar estos pasos se lograr imputar la totalidad de los nulos en *cabin*, sin embargo, en *age* quedan 16 observaciones que no es posible imputar porque no existe una moda para la combinación de valores de las 3 variables en conjunto, por lo tanto en el caso de esas 16 observaciones se imputará con la media de *age* por si sola."
   ]
  },
  {
   "cell_type": "code",
   "execution_count": 204,
   "metadata": {},
   "outputs": [
    {
     "name": "stdout",
     "output_type": "stream",
     "text": [
      "0\n"
     ]
    }
   ],
   "source": [
    "# reemplazamos con la moda según pclass y sex\n",
    "X_titanic['cabin'] = X_titanic['cabin'].astype('category')\n",
    "# Función para imputar la moda condicionalmente\n",
    "def impute_mode(row):\n",
    "    if pd.isnull(row['cabin']):\n",
    "        mode_value = X_titanic[(X_titanic['pclass'] == row['pclass']) & (X_titanic['sex'] == row['sex'])]['cabin'].mode()\n",
    "        return mode_value[0] if not mode_value.empty else row['cabin']  # Retorna la moda si existe\n",
    "    else:\n",
    "        return row['cabin']\n",
    "# Aplicar la función\n",
    "X_titanic['cabin'] = X_titanic.apply(impute_mode, axis=1)\n",
    "# Comprobar resultados\n",
    "print(X_titanic['cabin'].isnull().sum())"
   ]
  },
  {
   "cell_type": "code",
   "execution_count": 205,
   "metadata": {},
   "outputs": [
    {
     "name": "stdout",
     "output_type": "stream",
     "text": [
      "16\n"
     ]
    }
   ],
   "source": [
    "# reemplazamos con la moda considerando pclass, sex y cabin\n",
    "X_titanic['age'] = X_titanic['age'].astype('category')\n",
    "# Función para imputar la moda condicionalmente\n",
    "def impute_mode(row):\n",
    "    if pd.isnull(row['age']):\n",
    "        mode_value = X_titanic[(X_titanic['pclass'] == row['pclass']) & (X_titanic['sex'] == row['sex']) & (X_titanic['cabin'] == row['cabin'])]['age'].mode()\n",
    "        return mode_value[0] if not mode_value.empty else row['age']  # Retorna la moda si existe\n",
    "    else:\n",
    "        return row['age']\n",
    "# Aplicar la función\n",
    "X_titanic['age'] = X_titanic.apply(impute_mode, axis=1)\n",
    "# Comprobar resultados\n",
    "print(X_titanic['age'].isnull().sum())"
   ]
  },
  {
   "cell_type": "markdown",
   "metadata": {},
   "source": [
    "Quedan 16 observaciones con datos nulos, esto puede ser debido a que no existe una moda para el cruce de variables propuesto. Asi que imputamos por la media de *age*"
   ]
  },
  {
   "cell_type": "code",
   "execution_count": 206,
   "metadata": {},
   "outputs": [
    {
     "name": "stdout",
     "output_type": "stream",
     "text": [
      "0\n"
     ]
    }
   ],
   "source": [
    "# Calcular la media de la columna 'Age'\n",
    "mean_age = X_titanic['age'].mean()\n",
    "# Imputar los valores faltantes con la media\n",
    "X_titanic.fillna({'age': mean_age}, inplace=True)\n",
    "# Verificar que no haya más valores faltantes en 'Age'\n",
    "print(X_titanic['age'].isnull().sum())\n",
    "\n",
    "# Transformar age a cuatro categorías: Niño, Joven, Adulto y Adulto Mayor\n",
    "X_titanic['age'] = pd.cut(X_titanic['age'], bins=[0, 12, 30, 60, 100], labels=['Nino', 'Joven', 'Adulto', 'Adulto_Mayor'])"
   ]
  },
  {
   "cell_type": "code",
   "execution_count": 207,
   "metadata": {},
   "outputs": [
    {
     "name": "stdout",
     "output_type": "stream",
     "text": [
      "      pclass  sibsp  parch      fare  embarked_Q  embarked_S  sex_male  \\\n",
      "0          1      0      0  211.3375       False        True     False   \n",
      "1          1      1      2  151.5500       False        True      True   \n",
      "2          1      1      2  151.5500       False        True     False   \n",
      "3          1      1      2  151.5500       False        True      True   \n",
      "4          1      1      2  151.5500       False        True     False   \n",
      "...      ...    ...    ...       ...         ...         ...       ...   \n",
      "1304       3      1      0   14.4542       False       False     False   \n",
      "1305       3      1      0   14.4542       False       False     False   \n",
      "1306       3      0      0    7.2250       False       False      True   \n",
      "1307       3      0      0    7.2250       False       False      True   \n",
      "1308       3      0      0    7.8750       False        True      True   \n",
      "\n",
      "      age_Nino  age_Joven  age_Adulto  age_Adulto_Mayor  \n",
      "0        False       True       False             False  \n",
      "1         True      False       False             False  \n",
      "2         True      False       False             False  \n",
      "3        False       True       False             False  \n",
      "4        False       True       False             False  \n",
      "...        ...        ...         ...               ...  \n",
      "1304     False       True       False             False  \n",
      "1305     False       True       False             False  \n",
      "1306     False       True       False             False  \n",
      "1307     False       True       False             False  \n",
      "1308     False       True       False             False  \n",
      "\n",
      "[1309 rows x 11 columns]\n"
     ]
    }
   ],
   "source": [
    "# La columna fare tiene un valor faltante, por lo que se imputa con la media\n",
    "X_titanic.fillna({'fare': X_titanic['fare'].mean()}, inplace=True)\n",
    "# La columna 'embarked' y 'sex' son categóricas, por lo que se convierten en dummies\n",
    "X_titanic = pd.get_dummies(X_titanic, columns=['embarked', 'sex'], drop_first=True)\n",
    "X_titanic = pd.get_dummies(X_titanic, columns=['age'], drop_first=False)\n",
    "# Se eliminan las columnas 'name', 'ticket' y 'cabin' del dataset pertenecen a variables identificadoras\n",
    "X_titanic_final = X_titanic.drop(['name', 'ticket', 'cabin'], axis=1)\n",
    "print(X_titanic_final)\n"
   ]
  },
  {
   "cell_type": "markdown",
   "metadata": {},
   "source": [
    "# Regresión Logística  \n",
    "\n",
    "AL no existir nulos, los datos están preparados para aplicar Regresión Logística y Naive Bayes"
   ]
  },
  {
   "cell_type": "code",
   "execution_count": 208,
   "metadata": {
    "id": "t6QGVyZgZmMQ"
   },
   "outputs": [],
   "source": [
    "# Dividir los datos en entrenamiento y prueba\n",
    "X_train, X_test, y_train, y_test = train_test_split(X_titanic_final, y_titanic, test_size=0.2, random_state=42)\n",
    "\n",
    "# Entrenar un modelo de regresión logística\n",
    "model = LogisticRegression(max_iter=10000)\n",
    "model.fit(X_train, y_train)\n",
    "\n",
    "# Hacer predicciones\n",
    "y_pred = model.predict(X_test)\n"
   ]
  },
  {
   "cell_type": "markdown",
   "metadata": {
    "id": "JsHAqdhta9ZD"
   },
   "source": [
    "X1: Contiene las características (todas las columnas excepto 'target').\n",
    "\n",
    "y1: Contiene la etiqueta (columna 'target').\n",
    "\n",
    "Luego, se dividen los datos en conjuntos de entrenamiento y prueba, y se entrena un modelo de Regresión Logística."
   ]
  },
  {
   "cell_type": "code",
   "execution_count": 209,
   "metadata": {
    "colab": {
     "base_uri": "https://localhost:8080/"
    },
    "id": "F3KwLCxFcScC",
    "outputId": "5571ab8d-4b35-424e-fcb0-603c643d7269"
   },
   "outputs": [
    {
     "name": "stdout",
     "output_type": "stream",
     "text": [
      "Exactitud del modelo (RL): 0.7519\n",
      "Recall del modelo (RL): 0.6102\n"
     ]
    }
   ],
   "source": [
    "# Calcular la precisión (accuracy) y el recall\n",
    "accuracy_rl = accuracy_score(y_test, y_pred)\n",
    "recall_rl = recall_score(y_test, y_pred, pos_label='1')\n",
    "\n",
    "print(f\"Exactitud del modelo (RL): {accuracy_rl:.4f}\")\n",
    "print(f\"Recall del modelo (RL): {recall_rl:.4f}\")"
   ]
  },
  {
   "cell_type": "code",
   "execution_count": 210,
   "metadata": {
    "colab": {
     "base_uri": "https://localhost:8080/",
     "height": 472
    },
    "id": "Q5DLX3zXbh5a",
    "outputId": "fefe5e89-858c-4edc-c086-6edf87dc3612"
   },
   "outputs": [
    {
     "data": {
      "image/png": "[encoded data removed]",
      "text/plain": [
       "<Figure size 640x480 with 2 Axes>"
      ]
     },
     "metadata": {},
     "output_type": "display_data"
    }
   ],
   "source": [
    "# Calcular la matriz de confusión\n",
    "conf_matrix_rl = confusion_matrix(y_test, y_pred)\n",
    "\n",
    "# Graficar la matriz de confusión\n",
    "sns.heatmap(conf_matrix_rl, annot=True, fmt='d', cmap='Blues', xticklabels=['No sobrevivió', 'Sobrevivió'], yticklabels=['No sobrevivió', 'Sobrevivió'])\n",
    "plt.ylabel('Valor Real')\n",
    "plt.xlabel('Predicción')\n",
    "plt.title('Matriz de Confusión RL')\n",
    "plt.show()"
   ]
  },
  {
   "cell_type": "code",
   "execution_count": 211,
   "metadata": {},
   "outputs": [
    {
     "name": "stdout",
     "output_type": "stream",
     "text": [
      "Coeficiente de age_Nino: 1.4012\n",
      "Coeficiente de age_Joven: -0.2869\n",
      "Coeficiente de age_Adulto: -0.2479\n",
      "Coeficiente de age_Adulto_Mayor: -0.8639\n"
     ]
    }
   ],
   "source": [
    "coefficients = pd.DataFrame(model.coef_, columns=X_train.columns)\n",
    "\n",
    "print(f'Coeficiente de age_Nino: {coefficients[\"age_Nino\"].values[0]:0.4f}')\n",
    "print(f'Coeficiente de age_Joven: {coefficients[\"age_Joven\"].values[0]:0.4f}')\n",
    "print(f'Coeficiente de age_Adulto: {coefficients[\"age_Adulto\"].values[0]:0.4f}')\n",
    "print(f'Coeficiente de age_Adulto_Mayor: {coefficients[\"age_Adulto_Mayor\"].values[0]:0.4f}')\n"
   ]
  },
  {
   "cell_type": "markdown",
   "metadata": {},
   "source": [
    "Los coeficientes encontrados en el modelo relacionados a la edad muestran que a medida que la edad aumenta, la probabilidad de sobrevivir disminuye. En este sentido, se puede observar que si el pasajero es niño, existe una relación positiva con la probabilidad de sobrevivir. Esta probabilidad disminuye a medida que la edad aumenta siendo la edad de adulto mayor la que tiene una mayor probabilidad de no sobrevivir."
   ]
  },
  {
   "cell_type": "markdown",
   "metadata": {},
   "source": [
    "# Destino de los pasajeros"
   ]
  },
  {
   "cell_type": "code",
   "execution_count": 212,
   "metadata": {},
   "outputs": [
    {
     "name": "stdout",
     "output_type": "stream",
     "text": [
      "Miss Helene Ragnhild Ostby sobrevivió según predicción: Sí\n",
      "Miss Helene Ragnhild Ostby sobrevivió según valor real: Sí\n",
      "Mr. Frederick Edward Giles sobrevivió según predicción: No\n",
      "Mr. Frederick Edward Giles sobrevivió según valor real: No\n"
     ]
    }
   ],
   "source": [
    "# Se busca el nombre en el dataset de la primera persona \"Miss Helene Ragnhild Ostby\"\n",
    "person1 = X_titanic[X_titanic['name'].str.contains('Helene Ragnhil')]\n",
    "# Se eliminan las columnas 'name', 'ticket' y 'cabin' del dataset pertenecen a variables identificadoras\n",
    "person1 = person1.drop(['name', 'ticket', 'cabin'], axis=1)\n",
    "# Se realiza la predicción\n",
    "survived = model.predict(person1)\n",
    "print(f'Miss Helene Ragnhild Ostby sobrevivió según predicción: {\"Sí\" if int(survived[0]) else \"No\"}')\n",
    "# Se obtiene el index de la primera persona para obtener el valor real de la variable objetivo\n",
    "index_person1 = person1.index[0]\n",
    "print(f'Miss Helene Ragnhild Ostby sobrevivió según valor real: {\"Sí\" if y_titanic[index_person1] == \"1\" else \"No\"}')\n",
    "\n",
    "# Se busca el nombre en el dataset de la segunda persona \"Mr. Frederick Edward Giles\"\n",
    "person2 = X_titanic[X_titanic['name'].str.contains('Frederick Edward')]\n",
    "# Se eliminan las columnas 'name', 'ticket' y 'cabin' del dataset pertenecen a variables identificadoras\n",
    "person2 = person2.drop(['name', 'ticket', 'cabin'], axis=1)\n",
    "# Se realiza la predicción\n",
    "survived = model.predict(person2)\n",
    "print(f'Mr. Frederick Edward Giles sobrevivió según predicción: {\"Sí\" if int(survived[0]) else \"No\"}')\n",
    "# Se obtiene el index de la segunda persona para obtener el valor real de la variable objetivo\n",
    "index_person2 = person2.index[0]\n",
    "print(f'Mr. Frederick Edward Giles sobrevivió según valor real: {\"Sí\" if y_titanic[index_person2] == \"1\" else \"No\"}')"
   ]
  }
 ],
 "metadata": {
  "colab": {
   "provenance": []
  },
  "kernelspec": {
   "display_name": ".venv",
   "language": "python",
   "name": "python3"
  },
  "language_info": {
   "codemirror_mode": {
    "name": "ipython",
    "version": 3
   },
   "file_extension": ".py",
   "mimetype": "text/x-python",
   "name": "python",
   "nbconvert_exporter": "python",
   "pygments_lexer": "ipython3",
   "version": "3.10.9"
  }
 },
 "nbformat": 4,
 "nbformat_minor": 4
}
