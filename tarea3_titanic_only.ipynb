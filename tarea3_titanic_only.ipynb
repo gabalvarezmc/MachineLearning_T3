{
 "cells": [
  {
   "cell_type": "markdown",
   "metadata": {},
   "source": [
    "# Tarea N°3\n",
    "\n",
    "\n",
    "<div>\n",
    "<img src=\"https://i.ibb.co/v3CvVz9/udd-short.png\" width=\"150\"/>\n",
    "    <br>\n",
    "    <strong>Universidad del Desarrollo</strong><br>\n",
    "    <em>Profesor: Tomás Fontecilla </em><br>\n",
    "\n",
    "</div>\n",
    "\n",
    "# Machine Learning: Laboratorio 03\n",
    "*12 de Octubre de 2024*\n",
    "\n",
    "**Nombre Estudiante(s)**: `Gabriel Álvarez Martínez - Valeska Farías Caicedo - Constanza Perez Pulido - Rosario Valderrama Labarca\n",
    "\n",
    "\n",
    "## 1. Objetivo\n",
    "\n",
    "En este laboratorio deberá *aplicar* los algoritmos aprendidos en la clase e investigar del uso de la libreria python scikit-learn y sus funciones más útiles para estos métodos. Su meta es realizar un análisis de datos completo probando los distintos métodos supervisados vistos hasta ahora (Naive Bayes, Análisis de Discriminante, Regresión Logística).\n",
    "\n",
    "Para esto utilizará la base load_breast_cancer anteriormente utilizada. Además los siguientes comandos de la librería sklearn, para la siguiente base:\n",
    "\n",
    "```\n",
    "# X, y =fetch_openml(\"titanic\", version=1, as_frame=True, return_X_y=True)\n",
    "X.drop(['boat', 'body', 'home.dest'], axis=1, inplace=Tru```\n",
    "```"
   ]
  },
  {
   "cell_type": "markdown",
   "metadata": {},
   "source": [
    "Por último, nos gustaría saber el destino de los dos pasajeros de los cuales se presentan sus boletos en el Titanic. También, nos interesa entender si la edad es un elemento determinante para la sobrevida."
   ]
  },
  {
   "cell_type": "markdown",
   "metadata": {},
   "source": [
    "## 2. Introducción  \n",
    "\n",
    "En el presente laboratorio se utilizaron dos dataframe:\n",
    "\n",
    "- load_breast_cancer, con el cual se pretende entrenar un modelo para predecir si el tumor de un paciente es maligno o benigno.\n",
    "- titanic, cel este df se desea predecir si los pasajeros sobreviven o no.\n",
    "\n",
    "Para lograr lo anterior, se utilizaron algoritmos de clasificación supervisados, para eso se utilizará Análisis de Discriminante Lineal (LDA) con el primer df (load_breast_cancer) y se realizará una regresión lineal además de  Naive Bayes para el df Titanic.\n",
    "\n",
    "Adcionalmente, se desea conocer el destino de dos pasajeros en específico que mantienen las siguientes caracteristicas según su ticket de embarque:  \n",
    "\n",
    "Pasajero N°1:  \n",
    "\n",
    "  - Nombre: Miss Helene ragnhild Ostby\n",
    "  - Sexo: Femenino\n",
    "  - Edad: 22 años\n",
    "  - Clase en la que viaja: 1ra. clase\n",
    "  - Cabin: B-36\n",
    "  - Embarque: Cherbourg  \n",
    "\n",
    "Pasajero N°2:  \n",
    "  - Nombre: Mr. Frederick Edward Giles\n",
    "  - Sexo: Masculino\n",
    "  - Edad: 21\n",
    "  - Clase en la que viaja: 2da. clase\n",
    "  - Cabin: Desconocida\n",
    "  - Embarque: Southampton  \n",
    "\n",
    "Para predecir si los dos pasajeros indicados sobreviven o no, se utiliza un árbol de clasificación que será entrenado para identificar las caracteristicas de los pasajeros que sobreviven y los que no, luego de eso podremos determinar el destino de ambos. el destino de ambos."
   ]
  },
  {
   "cell_type": "markdown",
   "metadata": {},
   "source": [
    "## 3. Importación de paquetes"
   ]
  },
  {
   "cell_type": "code",
   "execution_count": 1,
   "metadata": {
    "id": "ZxuDJge7J8pF"
   },
   "outputs": [],
   "source": [
    "import pandas as pd\n",
    "import matplotlib.pyplot as plt\n",
    "import seaborn as sns\n",
    "from sklearn.datasets import fetch_openml\n",
    "from sklearn.model_selection import train_test_split\n",
    "from sklearn.linear_model import LogisticRegression\n",
    "from sklearn.metrics import accuracy_score, recall_score, confusion_matrix"
   ]
  },
  {
   "cell_type": "markdown",
   "metadata": {},
   "source": [
    "## 4. Obtención del Dataset"
   ]
  },
  {
   "cell_type": "markdown",
   "metadata": {},
   "source": [
    "### 4.2. load_titanic"
   ]
  },
  {
   "cell_type": "code",
   "execution_count": 2,
   "metadata": {},
   "outputs": [
    {
     "name": "stdout",
     "output_type": "stream",
     "text": [
      "Index(['pclass', 'name', 'sex', 'age', 'sibsp', 'parch', 'ticket', 'fare',\n",
      "       'cabin', 'embarked', 'boat', 'body', 'home.dest'],\n",
      "      dtype='object')\n"
     ]
    }
   ],
   "source": [
    "X_titanic, y_titanic = fetch_openml(\"titanic\", version=1, as_frame=True, return_X_y=True)\n",
    "print(X_titanic.columns)"
   ]
  },
  {
   "cell_type": "code",
   "execution_count": 3,
   "metadata": {},
   "outputs": [
    {
     "data": {
      "text/html": [
       "<div>\n",
       "<style scoped>\n",
       "    .dataframe tbody tr th:only-of-type {\n",
       "        vertical-align: middle;\n",
       "    }\n",
       "\n",
       "    .dataframe tbody tr th {\n",
       "        vertical-align: top;\n",
       "    }\n",
       "\n",
       "    .dataframe thead th {\n",
       "        text-align: right;\n",
       "    }\n",
       "</style>\n",
       "<table border=\"1\" class=\"dataframe\">\n",
       "  <thead>\n",
       "    <tr style=\"text-align: right;\">\n",
       "      <th></th>\n",
       "      <th>pclass</th>\n",
       "      <th>name</th>\n",
       "      <th>sex</th>\n",
       "      <th>age</th>\n",
       "      <th>sibsp</th>\n",
       "      <th>parch</th>\n",
       "      <th>ticket</th>\n",
       "      <th>fare</th>\n",
       "      <th>cabin</th>\n",
       "      <th>embarked</th>\n",
       "      <th>boat</th>\n",
       "      <th>body</th>\n",
       "      <th>home.dest</th>\n",
       "    </tr>\n",
       "  </thead>\n",
       "  <tbody>\n",
       "    <tr>\n",
       "      <th>0</th>\n",
       "      <td>1</td>\n",
       "      <td>Allen, Miss. Elisabeth Walton</td>\n",
       "      <td>female</td>\n",
       "      <td>29.0000</td>\n",
       "      <td>0</td>\n",
       "      <td>0</td>\n",
       "      <td>24160</td>\n",
       "      <td>211.3375</td>\n",
       "      <td>B5</td>\n",
       "      <td>S</td>\n",
       "      <td>2</td>\n",
       "      <td>NaN</td>\n",
       "      <td>St Louis, MO</td>\n",
       "    </tr>\n",
       "    <tr>\n",
       "      <th>1</th>\n",
       "      <td>1</td>\n",
       "      <td>Allison, Master. Hudson Trevor</td>\n",
       "      <td>male</td>\n",
       "      <td>0.9167</td>\n",
       "      <td>1</td>\n",
       "      <td>2</td>\n",
       "      <td>113781</td>\n",
       "      <td>151.5500</td>\n",
       "      <td>C22 C26</td>\n",
       "      <td>S</td>\n",
       "      <td>11</td>\n",
       "      <td>NaN</td>\n",
       "      <td>Montreal, PQ / Chesterville, ON</td>\n",
       "    </tr>\n",
       "    <tr>\n",
       "      <th>2</th>\n",
       "      <td>1</td>\n",
       "      <td>Allison, Miss. Helen Loraine</td>\n",
       "      <td>female</td>\n",
       "      <td>2.0000</td>\n",
       "      <td>1</td>\n",
       "      <td>2</td>\n",
       "      <td>113781</td>\n",
       "      <td>151.5500</td>\n",
       "      <td>C22 C26</td>\n",
       "      <td>S</td>\n",
       "      <td>NaN</td>\n",
       "      <td>NaN</td>\n",
       "      <td>Montreal, PQ / Chesterville, ON</td>\n",
       "    </tr>\n",
       "    <tr>\n",
       "      <th>3</th>\n",
       "      <td>1</td>\n",
       "      <td>Allison, Mr. Hudson Joshua Creighton</td>\n",
       "      <td>male</td>\n",
       "      <td>30.0000</td>\n",
       "      <td>1</td>\n",
       "      <td>2</td>\n",
       "      <td>113781</td>\n",
       "      <td>151.5500</td>\n",
       "      <td>C22 C26</td>\n",
       "      <td>S</td>\n",
       "      <td>NaN</td>\n",
       "      <td>135.0</td>\n",
       "      <td>Montreal, PQ / Chesterville, ON</td>\n",
       "    </tr>\n",
       "    <tr>\n",
       "      <th>4</th>\n",
       "      <td>1</td>\n",
       "      <td>Allison, Mrs. Hudson J C (Bessie Waldo Daniels)</td>\n",
       "      <td>female</td>\n",
       "      <td>25.0000</td>\n",
       "      <td>1</td>\n",
       "      <td>2</td>\n",
       "      <td>113781</td>\n",
       "      <td>151.5500</td>\n",
       "      <td>C22 C26</td>\n",
       "      <td>S</td>\n",
       "      <td>NaN</td>\n",
       "      <td>NaN</td>\n",
       "      <td>Montreal, PQ / Chesterville, ON</td>\n",
       "    </tr>\n",
       "  </tbody>\n",
       "</table>\n",
       "</div>"
      ],
      "text/plain": [
       "   pclass                                             name     sex      age  \\\n",
       "0       1                    Allen, Miss. Elisabeth Walton  female  29.0000   \n",
       "1       1                   Allison, Master. Hudson Trevor    male   0.9167   \n",
       "2       1                     Allison, Miss. Helen Loraine  female   2.0000   \n",
       "3       1             Allison, Mr. Hudson Joshua Creighton    male  30.0000   \n",
       "4       1  Allison, Mrs. Hudson J C (Bessie Waldo Daniels)  female  25.0000   \n",
       "\n",
       "   sibsp  parch  ticket      fare    cabin embarked boat   body  \\\n",
       "0      0      0   24160  211.3375       B5        S    2    NaN   \n",
       "1      1      2  113781  151.5500  C22 C26        S   11    NaN   \n",
       "2      1      2  113781  151.5500  C22 C26        S  NaN    NaN   \n",
       "3      1      2  113781  151.5500  C22 C26        S  NaN  135.0   \n",
       "4      1      2  113781  151.5500  C22 C26        S  NaN    NaN   \n",
       "\n",
       "                         home.dest  \n",
       "0                     St Louis, MO  \n",
       "1  Montreal, PQ / Chesterville, ON  \n",
       "2  Montreal, PQ / Chesterville, ON  \n",
       "3  Montreal, PQ / Chesterville, ON  \n",
       "4  Montreal, PQ / Chesterville, ON  "
      ]
     },
     "execution_count": 3,
     "metadata": {},
     "output_type": "execute_result"
    }
   ],
   "source": [
    "X_titanic.head(5)"
   ]
  },
  {
   "cell_type": "code",
   "execution_count": 4,
   "metadata": {},
   "outputs": [
    {
     "name": "stdout",
     "output_type": "stream",
     "text": [
      "Dimensiones del dataset (filas, columnas): (1309, 13)\n",
      "\n",
      "Información general del dataset:\n",
      "<class 'pandas.core.frame.DataFrame'>\n",
      "RangeIndex: 1309 entries, 0 to 1308\n",
      "Data columns (total 13 columns):\n",
      " #   Column     Non-Null Count  Dtype   \n",
      "---  ------     --------------  -----   \n",
      " 0   pclass     1309 non-null   int64   \n",
      " 1   name       1309 non-null   object  \n",
      " 2   sex        1309 non-null   category\n",
      " 3   age        1046 non-null   float64 \n",
      " 4   sibsp      1309 non-null   int64   \n",
      " 5   parch      1309 non-null   int64   \n",
      " 6   ticket     1309 non-null   object  \n",
      " 7   fare       1308 non-null   float64 \n",
      " 8   cabin      295 non-null    object  \n",
      " 9   embarked   1307 non-null   category\n",
      " 10  boat       486 non-null    object  \n",
      " 11  body       121 non-null    float64 \n",
      " 12  home.dest  745 non-null    object  \n",
      "dtypes: category(2), float64(3), int64(3), object(5)\n",
      "memory usage: 115.4+ KB\n",
      "None\n",
      "\n",
      "Valores nulos por columna:\n",
      "pclass          0\n",
      "name            0\n",
      "sex             0\n",
      "age           263\n",
      "sibsp           0\n",
      "parch           0\n",
      "ticket          0\n",
      "fare            1\n",
      "cabin        1014\n",
      "embarked        2\n",
      "boat          823\n",
      "body         1188\n",
      "home.dest     564\n",
      "dtype: int64\n"
     ]
    }
   ],
   "source": [
    "print(\"Dimensiones del dataset (filas, columnas):\", X_titanic.shape)\n",
    "\n",
    "print(\"\\nInformación general del dataset:\")\n",
    "print(X_titanic.info())\n",
    "\n",
    "print(\"\\nValores nulos por columna:\")\n",
    "print(X_titanic.isnull().sum())"
   ]
  },
  {
   "cell_type": "markdown",
   "metadata": {},
   "source": [
    "**pclass:**\n",
    "Clase del boleto del pasajero.\n",
    "*Valores:*\n",
    "1: Primera clase\n",
    "2: Segunda clase\n",
    "3: Tercera clase\n",
    "\n",
    "**name:**\n",
    "Nombre del pasajero.\n",
    "\n",
    "**sex:**\n",
    "Sexo del pasajero.\n",
    "*Valores:*\n",
    "\"male\": Hombre\n",
    "\"female\": Mujer\n",
    "\n",
    "**age:**\n",
    "Edad del pasajero en años.\n",
    "*Valores:*\n",
    "Numérica (entero), con presencia de NaN.\n",
    "\n",
    "**sibsp:**\n",
    "Número de hermanos y cónyuges a bordo del Titanic.\n",
    "*Valores:*\n",
    "Número entero.\n",
    "\n",
    "**parch:**\n",
    "Número de padres e hijos a bordo del Titanic.\n",
    "*Valores:*\n",
    "Número entero.\n",
    "\n",
    "**ticket:**\n",
    "Número de ticket del pasajero por el boleto.\n",
    "\n",
    "**fare:**\n",
    "Tarifa pagada por el pasajero por su billete.\n",
    "*Valores:* Precio en libras.\n",
    "\n",
    "**cabin:**\n",
    "Identificación de cabina del pasajero a bordo.\n",
    "\n",
    "**embarked:**\n",
    "Puerto donde el pasajero embarcó.\n",
    "*Valores:*\n",
    "\"C\": Cherburgo\n",
    "\"Q\": Queenstown\n",
    "\"S\": Southampton\n",
    "Tipo: Categórica.\n",
    "\n",
    "**boat:**\n",
    "Número de bote que rescató al pasajero luego del hundimiento.\n",
    "\n",
    "**body:**\n",
    "Número de cuerpo que se encontró luego del hundimiento.\n",
    "\n",
    "**home.dest:**\n",
    "Lugar de destino o lugar de residencia."
   ]
  },
  {
   "cell_type": "markdown",
   "metadata": {},
   "source": [
    "# MÉTODOS SUPERVISADOS"
   ]
  },
  {
   "cell_type": "markdown",
   "metadata": {},
   "source": [
    "# *Incluir interpretación de LDA*"
   ]
  },
  {
   "cell_type": "markdown",
   "metadata": {
    "id": "70lI-5cdfPy3"
   },
   "source": [
    "## DF Titanic\n",
    "\n",
    "Para este método se utlizará el data frame Titanic,  que tiene las siguientes variables:  \n",
    "\n",
    "- survived: Indica si el pasajero sobrevivió (1) o no (0).\n",
    "- pclass: Clase del boleto del pasajero (1ra, 2da, 3ra clase).\n",
    "- sex: Género del pasajero.\n",
    "- age: Edad del pasajero.\n",
    "- sibsp: Número de hermanos/cónyuges a bordo.\n",
    "- parch: Número de padres/hijos a bordo.\n",
    "- fare: Tarifa pagada por el boleto.\n",
    "- embarked: Puerto de embarque (C = Cherburgo, Q = Queenstown, S = Southampton).\n",
    "- survived: indica si el pasajero sobrevive 1, no sobrevive 0. (target)  \n",
    "  \n",
    "Sin embargo, para utlizar el df Titanic debemos realizar un análisis previo respecto de como se manejaran los datos nulos, para ello se realizará lo siguiente:  \n",
    "\n",
    " - Identificar que variables tienen valores nulos\n",
    " - Seleccionar el método que se utilizará para imputar los valores nulos\n"
   ]
  },
  {
   "cell_type": "code",
   "execution_count": 5,
   "metadata": {},
   "outputs": [],
   "source": [
    "X_titanic, y_titanic = fetch_openml(\"titanic\", version=1, as_frame=True, return_X_y=True)\n",
    "X_titanic.drop(['boat', 'body', 'home.dest'], axis=1, inplace=True)"
   ]
  },
  {
   "cell_type": "code",
   "execution_count": 6,
   "metadata": {},
   "outputs": [
    {
     "name": "stdout",
     "output_type": "stream",
     "text": [
      "Index(['pclass', 'name', 'sex', 'age', 'sibsp', 'parch', 'ticket', 'fare',\n",
      "       'cabin', 'embarked'],\n",
      "      dtype='object')\n"
     ]
    }
   ],
   "source": [
    "#nombres de las columnas (variables)\n",
    "print(X_titanic.columns)"
   ]
  },
  {
   "cell_type": "code",
   "execution_count": 7,
   "metadata": {},
   "outputs": [
    {
     "name": "stdout",
     "output_type": "stream",
     "text": [
      "pclass         0\n",
      "name           0\n",
      "sex            0\n",
      "age          263\n",
      "sibsp          0\n",
      "parch          0\n",
      "ticket         0\n",
      "fare           1\n",
      "cabin       1014\n",
      "embarked       2\n",
      "dtype: int64\n"
     ]
    }
   ],
   "source": [
    "# indentifica las columnas con nulos\n",
    "print(X_titanic.isnull().sum())"
   ]
  },
  {
   "cell_type": "code",
   "execution_count": 8,
   "metadata": {},
   "outputs": [
    {
     "name": "stdout",
     "output_type": "stream",
     "text": [
      "0\n"
     ]
    }
   ],
   "source": [
    "#identifica los nulos en target\n",
    "print(y_titanic.isnull().sum())"
   ]
  },
  {
   "cell_type": "markdown",
   "metadata": {},
   "source": [
    "Al revisar la cantidad de datos nulos que contiene el data frame titanic, observamos que la variable **age (edad)** tiene 263 observaciones nulas y **cabin (cabina)**. Para solucionar esto utilizaremos imputación de datos con la moda, pero condiconada a otras variable para lograr mayor acertividad al momento de imputar.  \n",
    "\n",
    "- Para *cabin* utilizamos *pclass* y *sex* para imputar según la moda del grupo.\n",
    "- Para *age* utlizamos *pclass* , *sex*  y *cabin* para imputar según la moda del grupo.\n",
    "\n",
    "Al realizar estos pasos se lograr imputar la totalidad de los nulos en *cabin*, sin embargo, en *age* quedan 16 observaciones que no es posible imputar porque no existe una moda para la combinación de valores de las 3 variables en conjunto, por lo tanto en el caso de esas 16 observaciones se imputará con la media de *age* por si sola."
   ]
  },
  {
   "cell_type": "markdown",
   "metadata": {},
   "source": [
    "**NOTA: cambie el nombre de X, y a X1, y1 para diferenciar los nombres con la base de cancer**"
   ]
  },
  {
   "cell_type": "code",
   "execution_count": 9,
   "metadata": {},
   "outputs": [
    {
     "name": "stdout",
     "output_type": "stream",
     "text": [
      "0\n"
     ]
    }
   ],
   "source": [
    "# reemplazamos con la moda según pclass y sex\n",
    "X_titanic['cabin'] = X_titanic['cabin'].astype('category')\n",
    "\n",
    "# Función para imputar la moda condicionalmente\n",
    "def impute_mode(row):\n",
    "    if pd.isnull(row['cabin']):\n",
    "        mode_value = X_titanic[(X_titanic['pclass'] == row['pclass']) & (X_titanic['sex'] == row['sex'])]['cabin'].mode()\n",
    "        return mode_value[0] if not mode_value.empty else row['cabin']  # Retorna la moda si existe\n",
    "    else:\n",
    "        return row['cabin']\n",
    "\n",
    "# Aplicar la función\n",
    "X_titanic['cabin'] = X_titanic.apply(impute_mode, axis=1)\n",
    "\n",
    "# Comprobar resultados\n",
    "print(X_titanic['cabin'].isnull().sum())"
   ]
  },
  {
   "cell_type": "code",
   "execution_count": 10,
   "metadata": {},
   "outputs": [
    {
     "name": "stdout",
     "output_type": "stream",
     "text": [
      "16\n"
     ]
    }
   ],
   "source": [
    "# reemplazamos con la moda considerando pclass, sex y cabin\n",
    "X_titanic['age'] = X_titanic['age'].astype('category')\n",
    "\n",
    "# Función para imputar la moda condicionalmente\n",
    "def impute_mode(row):\n",
    "    if pd.isnull(row['age']):\n",
    "        mode_value = X_titanic[(X_titanic['pclass'] == row['pclass']) & (X_titanic['sex'] == row['sex']) & (X_titanic['cabin'] == row['cabin'])]['age'].mode()\n",
    "        return mode_value[0] if not mode_value.empty else row['age']  # Retorna la moda si existe\n",
    "    else:\n",
    "        return row['age']\n",
    "\n",
    "# Aplicar la función\n",
    "X_titanic['age'] = X_titanic.apply(impute_mode, axis=1)\n",
    "\n",
    "# Comprobar resultados\n",
    "print(X_titanic['age'].isnull().sum())"
   ]
  },
  {
   "cell_type": "markdown",
   "metadata": {},
   "source": [
    "quedan 16 observaciones con datos nulos, esto puede ser debido a que no existe una moda para el cruce de variables propuesto. Asi que imputamos por la media de *age*"
   ]
  },
  {
   "cell_type": "code",
   "execution_count": 11,
   "metadata": {},
   "outputs": [
    {
     "name": "stdout",
     "output_type": "stream",
     "text": [
      "0\n"
     ]
    }
   ],
   "source": [
    "# Calcular la media de la columna 'Age'\n",
    "mean_age = X_titanic['age'].mean()\n",
    "\n",
    "# Imputar los valores faltantes con la media\n",
    "X_titanic.fillna({'age': mean_age}, inplace=True)\n",
    "\n",
    "# Verificar que no haya más valores faltantes en 'Age'\n",
    "print(X_titanic['age'].isnull().sum())"
   ]
  },
  {
   "cell_type": "code",
   "execution_count": 12,
   "metadata": {},
   "outputs": [],
   "source": [
    "X_titanic.fillna({'fare': X_titanic['fare'].mean()}, inplace=True)"
   ]
  },
  {
   "cell_type": "markdown",
   "metadata": {},
   "source": [
    "# Regresión Logística  \n",
    "\n",
    "AL no existir nulos, los datos están preparados para aplicar Regresión Logística y Naive Bayes"
   ]
  },
  {
   "cell_type": "code",
   "execution_count": 13,
   "metadata": {},
   "outputs": [
    {
     "name": "stdout",
     "output_type": "stream",
     "text": [
      "      pclass sex      age  sibsp  parch      fare\n",
      "0          1   1  29.0000      0      0  211.3375\n",
      "1          1   0   0.9167      1      2  151.5500\n",
      "2          1   1   2.0000      1      2  151.5500\n",
      "3          1   0  30.0000      1      2  151.5500\n",
      "4          1   1  25.0000      1      2  151.5500\n",
      "...      ...  ..      ...    ...    ...       ...\n",
      "1304       3   1  14.5000      1      0   14.4542\n",
      "1305       3   1  18.0000      1      0   14.4542\n",
      "1306       3   0  26.5000      0      0    7.2250\n",
      "1307       3   0  27.0000      0      0    7.2250\n",
      "1308       3   0  29.0000      0      0    7.8750\n",
      "\n",
      "[1309 rows x 6 columns]\n"
     ]
    }
   ],
   "source": [
    "X_titanic.drop(['name', 'ticket', 'cabin', 'embarked'], axis=1, inplace=True)\n",
    "X_titanic['sex'] = X_titanic['sex'].map({'male': 0, 'female': 1})\n",
    "print(X_titanic)"
   ]
  },
  {
   "cell_type": "code",
   "execution_count": 15,
   "metadata": {
    "id": "t6QGVyZgZmMQ"
   },
   "outputs": [],
   "source": [
    "# Dividir los datos en entrenamiento y prueba\n",
    "X_train, X_test, y_train, y_test = train_test_split(X_titanic, y_titanic, test_size=0.2, random_state=42)\n",
    "\n",
    "# Entrenar un modelo de regresión logística\n",
    "model = LogisticRegression(max_iter=10000)\n",
    "model.fit(X_train, y_train)\n",
    "\n",
    "# Hacer predicciones\n",
    "y_pred = model.predict(X_test)\n"
   ]
  },
  {
   "cell_type": "markdown",
   "metadata": {
    "id": "JsHAqdhta9ZD"
   },
   "source": [
    "X1: Contiene las características (todas las columnas excepto 'target').\n",
    "\n",
    "y1: Contiene la etiqueta (columna 'target').\n",
    "\n",
    "Luego, se dividen los datos en conjuntos de entrenamiento y prueba, y se entrena un modelo de Regresión Logística."
   ]
  },
  {
   "cell_type": "code",
   "execution_count": 16,
   "metadata": {
    "colab": {
     "base_uri": "https://localhost:8080/"
    },
    "id": "F3KwLCxFcScC",
    "outputId": "5571ab8d-4b35-424e-fcb0-603c643d7269"
   },
   "outputs": [
    {
     "name": "stdout",
     "output_type": "stream",
     "text": [
      "Exactitud del modelo (RL): 0.7786\n",
      "Recall del modelo (RL): 0.6441\n"
     ]
    }
   ],
   "source": [
    "# Calcular la precisión (accuracy) y el recall\n",
    "accuracy_rl = accuracy_score(y_test, y_pred)\n",
    "recall_rl = recall_score(y_test, y_pred, pos_label='1')\n",
    "\n",
    "print(f\"Exactitud del modelo (RL): {accuracy_rl:.4f}\")\n",
    "print(f\"Recall del modelo (RL): {recall_rl:.4f}\")"
   ]
  },
  {
   "cell_type": "code",
   "execution_count": 17,
   "metadata": {
    "colab": {
     "base_uri": "https://localhost:8080/",
     "height": 472
    },
    "id": "Q5DLX3zXbh5a",
    "outputId": "fefe5e89-858c-4edc-c086-6edf87dc3612"
   },
   "outputs": [
    {
     "data": {
      "image/png": "[encoded data removed]",
      "text/plain": [
       "<Figure size 640x480 with 2 Axes>"
      ]
     },
     "metadata": {},
     "output_type": "display_data"
    }
   ],
   "source": [
    "# Calcular la matriz de confusión\n",
    "conf_matrix_rl = confusion_matrix(y_test, y_pred)\n",
    "\n",
    "# Graficar la matriz de confusión\n",
    "sns.heatmap(conf_matrix_rl, annot=True, fmt='d', cmap='Blues', xticklabels=['No sobrevivió', 'Sobrevivió'], yticklabels=['No sobrevivió', 'Sobrevivió'])\n",
    "plt.ylabel('Valor Real')\n",
    "plt.xlabel('Predicción')\n",
    "plt.title('Matriz de Confusión RL')\n",
    "plt.show()"
   ]
  },
  {
   "cell_type": "markdown",
   "metadata": {},
   "source": [
    "# Destino de los pasajeros"
   ]
  }
 ],
 "metadata": {
  "colab": {
   "provenance": []
  },
  "kernelspec": {
   "display_name": ".venv",
   "language": "python",
   "name": "python3"
  },
  "language_info": {
   "codemirror_mode": {
    "name": "ipython",
    "version": 3
   },
   "file_extension": ".py",
   "mimetype": "text/x-python",
   "name": "python",
   "nbconvert_exporter": "python",
   "pygments_lexer": "ipython3",
   "version": "3.10.9"
  }
 },
 "nbformat": 4,
 "nbformat_minor": 4
}
