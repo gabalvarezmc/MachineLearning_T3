{
 "cells": [
  {
   "cell_type": "markdown",
   "metadata": {},
   "source": [
    "# Tarea N°3\n",
    "\n",
    "\n",
    "<div>\n",
    "<img src=\"https://i.ibb.co/v3CvVz9/udd-short.png\" width=\"150\"/>\n",
    "    <br>\n",
    "    <strong>Universidad del Desarrollo</strong><br>\n",
    "    <em>Profesor: Tomás Fontecilla </em><br>\n",
    "\n",
    "</div>\n",
    "\n",
    "# Machine Learning: Laboratorio 03\n",
    "*12 de Octubre de 2024*\n",
    "\n",
    "**Nombre Estudiante(s)**: `Gabriel Álvarez Martínez - Valeska Farías Caicedo - Constanza Perez Pulido - Rosario Valderrama Labarca\n",
    "\n",
    "\n",
    "## 1. Objetivo\n",
    "\n",
    "En este laboratorio deberá *aplicar* los algoritmos aprendidos en la clase e investigar del uso de la libreria python scikit-learn y sus funciones más útiles para estos métodos. Su meta es realizar un análisis de datos completo probando los distintos métodos supervisados vistos hasta ahora (Naive Bayes, Análisis de Discriminante, Regresión Logística).\n",
    "\n",
    "Para esto utilizará la base load_breast_cancer anteriormente utilizada. Además los siguientes comandos de la librería sklearn, para la siguiente base:\n",
    "\n",
    "```\n",
    "# X, y =fetch_openml(\"titanic\", version=1, as_frame=True, return_X_y=True)\n",
    "X.drop(['boat', 'body', 'home.dest'], axis=1, inplace=Tru```\n",
    "```"
   ]
  },
  {
   "cell_type": "markdown",
   "metadata": {},
   "source": [
    "Por último, nos gustaría saber el destino de los dos pasajeros de los cuales se presentan sus boletos en el Titanic. También, nos interesa entender si la edad es un elemento determinante para la sobrevida."
   ]
  },
  {
   "cell_type": "markdown",
   "metadata": {},
   "source": [
    "## 2. Introducción  \n",
    "\n",
    "En el presente laboratorio se utilizaron dos dataframe:\n",
    "\n",
    "- `load_breast_cancer`, con el cual se pretende entrenar un modelo para predecir si el tumor de un paciente es maligno o benigno.\n",
    "- `titanic`, con el cual se pretender entrenar un modelo para predecir si los pasajeros sobreviven o no.\n",
    "\n",
    "Para lograr lo anterior, se utilizaron algoritmos de clasificación supervisados, para eso se utilizará Análisis de Discriminante Lineal (LDA) con el primer df (load_breast_cancer) y se realizará una regresión lineal además de  Naive Bayes para el df Titanic.\n",
    "\n",
    "Adcionalmente, se desea conocer el destino de dos pasajeros en específico que mantienen las siguientes caracteristicas según su ticket de embarque:  \n",
    "\n",
    "Pasajero N°1:  \n",
    "\n",
    "  - Nombre: Miss Helene ragnhild Ostby\n",
    "  - Sexo: Femenino\n",
    "  - Edad: 22 años\n",
    "  - Clase en la que viaja: 1ra. clase\n",
    "  - Cabin: B-36\n",
    "  - Embarque: Cherbourg  \n",
    "\n",
    "Pasajero N°2:  \n",
    "  - Nombre: Mr. Frederick Edward Giles\n",
    "  - Sexo: Masculino\n",
    "  - Edad: 21\n",
    "  - Clase en la que viaja: 2da. clase\n",
    "  - Cabin: Desconocida\n",
    "  - Embarque: Southampton  \n",
    "\n",
    "Para predecir si los dos pasajeros indicados sobreviven o no, se utiliza un árbol de clasificación que será entrenado para identificar las caracteristicas de los pasajeros que sobreviven y los que no, luego de eso podremos determinar el destino de ambos. el destino de ambos."
   ]
  },
  {
   "cell_type": "markdown",
   "metadata": {},
   "source": [
    "## 3. Importación de paquetes"
   ]
  },
  {
   "cell_type": "code",
   "execution_count": 11,
   "metadata": {
    "id": "ZxuDJge7J8pF"
   },
   "outputs": [],
   "source": [
    "import pandas as pd\n",
    "import matplotlib.pyplot as plt\n",
    "import seaborn as sns\n",
    "from sklearn.datasets import fetch_openml\n",
    "from sklearn.model_selection import train_test_split\n",
    "from sklearn.linear_model import LogisticRegression\n",
    "from sklearn.metrics import accuracy_score, recall_score, confusion_matrix, f1_score, precision_score, classification_report\n",
    "from sklearn.naive_bayes import GaussianNB"
   ]
  },
  {
   "cell_type": "markdown",
   "metadata": {},
   "source": [
    "## 4. Obtención del Dataset"
   ]
  },
  {
   "cell_type": "markdown",
   "metadata": {},
   "source": [
    "La descarga del dataset `titanic` se realiza desde OpenML por medio de fetch_openml. Esta función de scikit-learn permite la descarga de datasets desde la plataforma OpenML.\n",
    "\n",
    "Para este caso, se imprimen las variables predictorias como X_titanic."
   ]
  },
  {
   "cell_type": "markdown",
   "metadata": {},
   "source": [
    "### 4.1. load_titanic"
   ]
  },
  {
   "cell_type": "markdown",
   "metadata": {},
   "source": [
    "El naufragio del Titanic es uno de los eventos más trágicos y conocidos de la historia marítima. En su viaje inaugural, el 15 de abril de 1912, el Titanic, que era en su momento el barco más grande del mundo, colisionó con un iceberg y se hundió en el Océano Atlántico. De los más de 2,200 pasajeros y tripulantes a bordo, solo alrededor de 700 sobrevivieron. Este evento ha sido objeto de muchos estudios y análisis, con el fin de entender mejor los factores que influyeron en la supervivencia de los pasajeros."
   ]
  },
  {
   "cell_type": "markdown",
   "metadata": {},
   "source": [
    "El propósito de este dataset es permitir la exploración y el análisis de los factores que pudieron influir en la supervivencia de los pasajeros, tales como su clase de boleto, sexo, edad, entre otros.\n",
    "\n",
    "Estructura del Dataset:\n",
    "'pclass', 'name', 'sex', 'age', 'sibsp', 'parch', 'ticket', 'fare', 'cabin', 'embarked', 'boat', 'body', 'home.dest'"
   ]
  },
  {
   "cell_type": "code",
   "execution_count": 17,
   "metadata": {},
   "outputs": [
    {
     "name": "stdout",
     "output_type": "stream",
     "text": [
      "Index(['pclass', 'name', 'sex', 'age', 'sibsp', 'parch', 'ticket', 'fare',\n",
      "       'cabin', 'embarked', 'boat', 'body', 'home.dest'],\n",
      "      dtype='object')\n"
     ]
    }
   ],
   "source": [
    "X_titanic, y_titanic = fetch_openml(\"titanic\", version=1, as_frame=True, return_X_y=True)\n",
    "print(X_titanic.columns)"
   ]
  },
  {
   "cell_type": "code",
   "execution_count": 18,
   "metadata": {},
   "outputs": [
    {
     "data": {
      "text/html": [
       "<div>\n",
       "<style scoped>\n",
       "    .dataframe tbody tr th:only-of-type {\n",
       "        vertical-align: middle;\n",
       "    }\n",
       "\n",
       "    .dataframe tbody tr th {\n",
       "        vertical-align: top;\n",
       "    }\n",
       "\n",
       "    .dataframe thead th {\n",
       "        text-align: right;\n",
       "    }\n",
       "</style>\n",
       "<table border=\"1\" class=\"dataframe\">\n",
       "  <thead>\n",
       "    <tr style=\"text-align: right;\">\n",
       "      <th></th>\n",
       "      <th>pclass</th>\n",
       "      <th>name</th>\n",
       "      <th>sex</th>\n",
       "      <th>age</th>\n",
       "      <th>sibsp</th>\n",
       "      <th>parch</th>\n",
       "      <th>ticket</th>\n",
       "      <th>fare</th>\n",
       "      <th>cabin</th>\n",
       "      <th>embarked</th>\n",
       "      <th>boat</th>\n",
       "      <th>body</th>\n",
       "      <th>home.dest</th>\n",
       "    </tr>\n",
       "  </thead>\n",
       "  <tbody>\n",
       "    <tr>\n",
       "      <th>0</th>\n",
       "      <td>1</td>\n",
       "      <td>Allen, Miss. Elisabeth Walton</td>\n",
       "      <td>female</td>\n",
       "      <td>29.0000</td>\n",
       "      <td>0</td>\n",
       "      <td>0</td>\n",
       "      <td>24160</td>\n",
       "      <td>211.3375</td>\n",
       "      <td>B5</td>\n",
       "      <td>S</td>\n",
       "      <td>2</td>\n",
       "      <td>NaN</td>\n",
       "      <td>St Louis, MO</td>\n",
       "    </tr>\n",
       "    <tr>\n",
       "      <th>1</th>\n",
       "      <td>1</td>\n",
       "      <td>Allison, Master. Hudson Trevor</td>\n",
       "      <td>male</td>\n",
       "      <td>0.9167</td>\n",
       "      <td>1</td>\n",
       "      <td>2</td>\n",
       "      <td>113781</td>\n",
       "      <td>151.5500</td>\n",
       "      <td>C22 C26</td>\n",
       "      <td>S</td>\n",
       "      <td>11</td>\n",
       "      <td>NaN</td>\n",
       "      <td>Montreal, PQ / Chesterville, ON</td>\n",
       "    </tr>\n",
       "    <tr>\n",
       "      <th>2</th>\n",
       "      <td>1</td>\n",
       "      <td>Allison, Miss. Helen Loraine</td>\n",
       "      <td>female</td>\n",
       "      <td>2.0000</td>\n",
       "      <td>1</td>\n",
       "      <td>2</td>\n",
       "      <td>113781</td>\n",
       "      <td>151.5500</td>\n",
       "      <td>C22 C26</td>\n",
       "      <td>S</td>\n",
       "      <td>NaN</td>\n",
       "      <td>NaN</td>\n",
       "      <td>Montreal, PQ / Chesterville, ON</td>\n",
       "    </tr>\n",
       "    <tr>\n",
       "      <th>3</th>\n",
       "      <td>1</td>\n",
       "      <td>Allison, Mr. Hudson Joshua Creighton</td>\n",
       "      <td>male</td>\n",
       "      <td>30.0000</td>\n",
       "      <td>1</td>\n",
       "      <td>2</td>\n",
       "      <td>113781</td>\n",
       "      <td>151.5500</td>\n",
       "      <td>C22 C26</td>\n",
       "      <td>S</td>\n",
       "      <td>NaN</td>\n",
       "      <td>135.0</td>\n",
       "      <td>Montreal, PQ / Chesterville, ON</td>\n",
       "    </tr>\n",
       "    <tr>\n",
       "      <th>4</th>\n",
       "      <td>1</td>\n",
       "      <td>Allison, Mrs. Hudson J C (Bessie Waldo Daniels)</td>\n",
       "      <td>female</td>\n",
       "      <td>25.0000</td>\n",
       "      <td>1</td>\n",
       "      <td>2</td>\n",
       "      <td>113781</td>\n",
       "      <td>151.5500</td>\n",
       "      <td>C22 C26</td>\n",
       "      <td>S</td>\n",
       "      <td>NaN</td>\n",
       "      <td>NaN</td>\n",
       "      <td>Montreal, PQ / Chesterville, ON</td>\n",
       "    </tr>\n",
       "  </tbody>\n",
       "</table>\n",
       "</div>"
      ],
      "text/plain": [
       "   pclass                                             name     sex      age  \\\n",
       "0       1                    Allen, Miss. Elisabeth Walton  female  29.0000   \n",
       "1       1                   Allison, Master. Hudson Trevor    male   0.9167   \n",
       "2       1                     Allison, Miss. Helen Loraine  female   2.0000   \n",
       "3       1             Allison, Mr. Hudson Joshua Creighton    male  30.0000   \n",
       "4       1  Allison, Mrs. Hudson J C (Bessie Waldo Daniels)  female  25.0000   \n",
       "\n",
       "   sibsp  parch  ticket      fare    cabin embarked boat   body  \\\n",
       "0      0      0   24160  211.3375       B5        S    2    NaN   \n",
       "1      1      2  113781  151.5500  C22 C26        S   11    NaN   \n",
       "2      1      2  113781  151.5500  C22 C26        S  NaN    NaN   \n",
       "3      1      2  113781  151.5500  C22 C26        S  NaN  135.0   \n",
       "4      1      2  113781  151.5500  C22 C26        S  NaN    NaN   \n",
       "\n",
       "                         home.dest  \n",
       "0                     St Louis, MO  \n",
       "1  Montreal, PQ / Chesterville, ON  \n",
       "2  Montreal, PQ / Chesterville, ON  \n",
       "3  Montreal, PQ / Chesterville, ON  \n",
       "4  Montreal, PQ / Chesterville, ON  "
      ]
     },
     "execution_count": 18,
     "metadata": {},
     "output_type": "execute_result"
    }
   ],
   "source": [
    "X_titanic.head(5)"
   ]
  },
  {
   "cell_type": "markdown",
   "metadata": {},
   "source": [
    "#### Descripción de las variables:"
   ]
  },
  {
   "cell_type": "markdown",
   "metadata": {},
   "source": [
    "- **pclass:**\n",
    "Clase del boleto del pasajero.\n",
    "*Valores:*\n",
    "1: Primera clase\n",
    "2: Segunda clase\n",
    "3: Tercera clase\n",
    "\n",
    "    *Tipo de dato:* Categórico ordinal.\n",
    "\n",
    "- **name:**\n",
    "Nombre del pasajero.\n",
    "\n",
    "    *Tipo de dato:* Categórico nominal.\n",
    "\n",
    "- **sex:**\n",
    "Sexo del pasajero.\n",
    "    *Valores:* \"male\": Hombre, \"female\": Mujer\n",
    "\n",
    "    *Tipo de dato:* Categórico nominal.\n",
    "\n",
    "- **age:**\n",
    "Edad del pasajero en años.\n",
    "\n",
    "    *Tipo de dato:* Numérico continuo.\n",
    "\n",
    "- **sibsp:**\n",
    "Número de hermanos y cónyuges a bordo del Titanic.\n",
    "\n",
    "    *Tipo de dato:* Numérico discreto.\n",
    "\n",
    "- **parch:**\n",
    "Número de padres e hijos a bordo del Titanic.\n",
    "\n",
    "    *Tipo de dato:* Numérico discreto.\n",
    "\n",
    "- **ticket:**\n",
    "Número de ticket del pasajero por el boleto.\n",
    "\n",
    "    *Tipo de dato:* Categórico nominal.\n",
    "\n",
    "- **fare:**\n",
    "Tarifa pagada por el pasajero por su billete.\n",
    "\n",
    "    *Tipo de dato:* Numérico continuo.\n",
    "\n",
    "- **cabin:**\n",
    "Identificación de cabina del pasajero a bordo.\n",
    "\n",
    "    *Tipo de dato:* Categórico nominal.\n",
    "\n",
    "- **embarked:**\n",
    "Puerto donde el pasajero embarcó.\n",
    "*Valores:* \"C\": Cherburgo, \"Q\": Queenstown, \"S\": Southampton\n",
    "\n",
    "    *Tipo de dato:* Categórico nominal.\n",
    "\n",
    "- **boat:**\n",
    "Número de bote que rescató al pasajero luego del hundimiento.\n",
    "\n",
    "    *Tipo de dato:* Categórico nominal.\n",
    "\n",
    "- **body:**\n",
    "Número de cuerpo que se encontró luego del hundimiento.\n",
    "\n",
    "    *Tipo de dato:* Numérico discreto.\n",
    "\n",
    "- **home.dest:**\n",
    "Lugar de destino o lugar de residencia.\n",
    "\n",
    "    *Tipo de dato:* Categórico nominal."
   ]
  },
  {
   "cell_type": "code",
   "execution_count": 21,
   "metadata": {},
   "outputs": [
    {
     "name": "stdout",
     "output_type": "stream",
     "text": [
      "Dimensiones del dataset (filas, columnas): (1309, 13)\n",
      "\n",
      "Información general del dataset:\n",
      "<class 'pandas.core.frame.DataFrame'>\n",
      "RangeIndex: 1309 entries, 0 to 1308\n",
      "Data columns (total 13 columns):\n",
      " #   Column     Non-Null Count  Dtype   \n",
      "---  ------     --------------  -----   \n",
      " 0   pclass     1309 non-null   int64   \n",
      " 1   name       1309 non-null   object  \n",
      " 2   sex        1309 non-null   category\n",
      " 3   age        1046 non-null   float64 \n",
      " 4   sibsp      1309 non-null   int64   \n",
      " 5   parch      1309 non-null   int64   \n",
      " 6   ticket     1309 non-null   object  \n",
      " 7   fare       1308 non-null   float64 \n",
      " 8   cabin      295 non-null    object  \n",
      " 9   embarked   1307 non-null   category\n",
      " 10  boat       486 non-null    object  \n",
      " 11  body       121 non-null    float64 \n",
      " 12  home.dest  745 non-null    object  \n",
      "dtypes: category(2), float64(3), int64(3), object(5)\n",
      "memory usage: 115.4+ KB\n",
      "None\n",
      "\n",
      "Valores nulos por columna:\n",
      "pclass          0\n",
      "name            0\n",
      "sex             0\n",
      "age           263\n",
      "sibsp           0\n",
      "parch           0\n",
      "ticket          0\n",
      "fare            1\n",
      "cabin        1014\n",
      "embarked        2\n",
      "boat          823\n",
      "body         1188\n",
      "home.dest     564\n",
      "dtype: int64\n"
     ]
    }
   ],
   "source": [
    "print(\"Dimensiones del dataset (filas, columnas):\", X_titanic.shape)\n",
    "print(\"\\nInformación general del dataset:\")\n",
    "print(X_titanic.info())\n",
    "\n",
    "print(\"\\nValores nulos por columna:\")\n",
    "print(X_titanic.isnull().sum())"
   ]
  },
  {
   "cell_type": "markdown",
   "metadata": {},
   "source": [
    "El dataset contiene 1,309 filas y 13 columnas, representando información sobre los pasajeros del Titanic. A continuación se detalla la estructura general del dataset, incluyendo el tipo de dato de cada columna y la cantidad de valores nulos.\n",
    "\n",
    "Estructura General del Dataset:\n",
    "- pclass: Tipo entero (int64), sin valores nulos (1,309 valores).\n",
    "- name: Tipo de dato object (cadena de texto), sin valores nulos (1,309 valores).\n",
    "- sex: Tipo categórico (category), sin valores nulos (1,309 valores).\n",
    "- age: Tipo flotante (float64), con 263 valores nulos.\n",
    "- sibsp: Tipo entero (int64), sin valores nulos (1,309 valores).\n",
    "- parch: Tipo entero (int64), sin valores nulos (1,309 valores).\n",
    "- ticket: Tipo object (cadena de texto), sin valores nulos (1,309 valores).\n",
    "- fare: Tipo flotante (float64), con 1 valor nulo.\n",
    "- cabin: Tipo object (cadena de texto), con 1,014 valores nulos, indicando que la mayoría de los pasajeros no tienen un camarote registrado.\n",
    "- embarked: Tipo categórico (category), con 2 valores nulos.\n",
    "- boat: Tipo object (cadena de texto), con 823 valores nulos, ya que muchos pasajeros no fueron rescatados en botes.\n",
    "- body: Tipo flotante (float64), con 1,188 valores nulos, ya que la mayoría de los cuerpos no fueron recuperados.\n",
    "- home.dest: Tipo object (cadena de texto), con 564 valores nulos.\n",
    "\n",
    "Cantidad de Valores Nulos por Columna:\n",
    "- age: 263 valores nulos.\n",
    "- fare: 1 valor nulo.\n",
    "- cabin: 1,014 valores nulos.\n",
    "- embarked: 2 valores nulos.\n",
    "- boat: 823 valores nulos.\n",
    "- body: 1,188 valores nulos.\n",
    "- home.dest: 564 valores nulos."
   ]
  },
  {
   "cell_type": "markdown",
   "metadata": {},
   "source": [
    "## 5. Métodos Supervisados\n",
    "Los métodos de Machine Learning supervisado son aquellos en los que el modelo aprende a partir de un conjunto de datos etiquetados, es decir, donde las características (variables independientes) y la variable objetivo (variable dependiente) ya están definidas. El objetivo del aprendizaje supervisado es que el modelo pueda predecir la salida (o etiqueta) correcta para nuevas instancias basándose en lo que ha aprendido de los datos de entrenamiento."
   ]
  },
  {
   "cell_type": "markdown",
   "metadata": {
    "id": "70lI-5cdfPy3"
   },
   "source": [
    "Para utlizar el df Titanic se debe determinar cómo se manejarán los datos nulos:\n",
    "\n",
    " - Identificar qué variables tienen valores nulos\n",
    " - Seleccionar el método que se utilizará para imputar los valores nulos"
   ]
  },
  {
   "cell_type": "code",
   "execution_count": 25,
   "metadata": {},
   "outputs": [
    {
     "name": "stdout",
     "output_type": "stream",
     "text": [
      "Cantidad de elementos nulos en X:\n",
      "pclass         0\n",
      "name           0\n",
      "sex            0\n",
      "age          263\n",
      "sibsp          0\n",
      "parch          0\n",
      "ticket         0\n",
      "fare           1\n",
      "cabin       1014\n",
      "embarked       2\n",
      "dtype: int64\n",
      "Cantidad de elementos nulos en y:\n",
      "0\n"
     ]
    }
   ],
   "source": [
    "# Se quitan las columnas boat, body y home.dest del dataset\n",
    "X_titanic.drop(['boat', 'body', 'home.dest'], axis=1, inplace=True)\n",
    "\n",
    "# Se indentifican las columnas con nulos en X\n",
    "print(f'Cantidad de elementos nulos en X:\\n{X_titanic.isnull().sum()}')\n",
    "\n",
    "# Se identifica los nulos en y\n",
    "print(f'Cantidad de elementos nulos en y:\\n{y_titanic.isnull().sum()}')"
   ]
  },
  {
   "cell_type": "markdown",
   "metadata": {},
   "source": [
    "Se observa que la variable **age (edad)** tiene 263 observaciones nulas, **fare** tiene 1, **cabin (cabina)** tiene 1014 y **embarked** tiene 2. Para solucionar ésto utilizaremos imputación de datos con la moda de la variable, y en algunos casos condiconada con otras variables para lograr mayor acertividad.  \n",
    "\n",
    "- Para *cabin* se utilizará *pclass* y *sex* y se imputará según la moda del grupo.\n",
    "- Para *age* se utilizará *pclass* , *sex*  y *cabin* y se imputará según la moda del grupo.\n",
    "- Para *fare* se utilizará la media de la misma variable."
   ]
  },
  {
   "cell_type": "code",
   "execution_count": 27,
   "metadata": {},
   "outputs": [
    {
     "name": "stdout",
     "output_type": "stream",
     "text": [
      "0\n"
     ]
    }
   ],
   "source": [
    "# reemplazamos con la moda según pclass y sex\n",
    "X_titanic['cabin'] = X_titanic['cabin'].astype('category')\n",
    "# Función para imputar la moda condicionalmente\n",
    "def impute_mode(row):\n",
    "    if pd.isnull(row['cabin']):\n",
    "        mode_value = X_titanic[(X_titanic['pclass'] == row['pclass']) & (X_titanic['sex'] == row['sex'])]['cabin'].mode()\n",
    "        return mode_value[0] if not mode_value.empty else row['cabin']  # Retorna la moda si existe\n",
    "    else:\n",
    "        return row['cabin']\n",
    "# Aplicar la función\n",
    "X_titanic['cabin'] = X_titanic.apply(impute_mode, axis=1)\n",
    "# Comprobar resultados\n",
    "print(X_titanic['cabin'].isnull().sum())"
   ]
  },
  {
   "cell_type": "markdown",
   "metadata": {},
   "source": [
    "De esta forma la variable cabin queda sin observaciones nulas."
   ]
  },
  {
   "cell_type": "code",
   "execution_count": 29,
   "metadata": {},
   "outputs": [
    {
     "name": "stdout",
     "output_type": "stream",
     "text": [
      "16\n"
     ]
    }
   ],
   "source": [
    "# reemplazamos con la moda considerando pclass, sex y cabin\n",
    "X_titanic['age'] = X_titanic['age'].astype('category')\n",
    "# Función para imputar la moda condicionalmente\n",
    "def impute_mode(row):\n",
    "    if pd.isnull(row['age']):\n",
    "        mode_value = X_titanic[(X_titanic['pclass'] == row['pclass']) & (X_titanic['sex'] == row['sex']) & (X_titanic['cabin'] == row['cabin'])]['age'].mode()\n",
    "        return mode_value[0] if not mode_value.empty else row['age']  # Retorna la moda si existe\n",
    "    else:\n",
    "        return row['age']\n",
    "\n",
    "# Aplicar la función\n",
    "X_titanic['age'] = X_titanic.apply(impute_mode, axis=1)\n",
    "# Comprobar resultados\n",
    "print(X_titanic['age'].isnull().sum())"
   ]
  },
  {
   "cell_type": "markdown",
   "metadata": {},
   "source": [
    "Al realizar estos pasos se logra imputar la totalidad de los nulos en *cabin*, sin embargo, en *age* quedan 16 observaciones que no es posible imputar porque no existe una moda para la combinación de valores de las 3 variables en conjunto, por lo tanto en el caso de esas 16 observaciones se imputará con la media de *age* por si sola y queda sin observaciones nulas."
   ]
  },
  {
   "cell_type": "code",
   "execution_count": 31,
   "metadata": {},
   "outputs": [
    {
     "name": "stdout",
     "output_type": "stream",
     "text": [
      "0\n"
     ]
    }
   ],
   "source": [
    "# Calcular la media de la columna 'Age'\n",
    "mean_age = X_titanic['age'].mean()\n",
    "# Imputar los valores faltantes con la media\n",
    "X_titanic.fillna({'age': mean_age}, inplace=True)\n",
    "# Verificar que no haya más valores faltantes en 'Age'\n",
    "print(X_titanic['age'].isnull().sum())\n",
    "\n",
    "# Transformar age a cuatro categorías: Niño, Joven, Adulto y Adulto Mayor\n",
    "X_titanic['age'] = pd.cut(X_titanic['age'], bins=[0, 12, 30, 60, 100], labels=['Nino', 'Joven', 'Adulto', 'Adulto_Mayor'])"
   ]
  },
  {
   "cell_type": "markdown",
   "metadata": {},
   "source": [
    "Para el caso de la variable age se crean 4 categorías: \n",
    "\n",
    "- Niño: De 0 a 12 años (incluye a los niños hasta los 12 años).\n",
    "- Joven: De 13 a 30 años.\n",
    "- Adulto: De 31 a 60 años.\n",
    "- Adulto Mayor: De 61 a 100 años."
   ]
  },
  {
   "cell_type": "code",
   "execution_count": 33,
   "metadata": {},
   "outputs": [
    {
     "name": "stdout",
     "output_type": "stream",
     "text": [
      "0\n"
     ]
    }
   ],
   "source": [
    "# La columna fare tiene un valor faltante, por lo que se imputa con la media\n",
    "X_titanic.fillna({'fare': X_titanic['fare'].mean()}, inplace=True)\n",
    "# Comprobar resultados\n",
    "print(X_titanic['fare'].isnull().sum())"
   ]
  },
  {
   "cell_type": "markdown",
   "metadata": {},
   "source": [
    "De esta forma la variable fare queda sin observaciones nulas."
   ]
  },
  {
   "cell_type": "markdown",
   "metadata": {},
   "source": [
    "En el caso de variables **name**, **ticket** y **cabin** se toma la decisión de eliminarlas, ya que no aportan información útil para la predicción que se realiza. Se consideran como variables descriptivas o como identificadores únicos sin relevancia para el modelo de supervivencia."
   ]
  },
  {
   "cell_type": "code",
   "execution_count": 36,
   "metadata": {},
   "outputs": [
    {
     "name": "stdout",
     "output_type": "stream",
     "text": [
      "      pclass     sex    age  sibsp  parch      fare embarked\n",
      "0          1  female  Joven      0      0  211.3375        S\n",
      "1          1    male   Nino      1      2  151.5500        S\n",
      "2          1  female   Nino      1      2  151.5500        S\n",
      "3          1    male  Joven      1      2  151.5500        S\n",
      "4          1  female  Joven      1      2  151.5500        S\n",
      "...      ...     ...    ...    ...    ...       ...      ...\n",
      "1304       3  female  Joven      1      0   14.4542        C\n",
      "1305       3  female  Joven      1      0   14.4542        C\n",
      "1306       3    male  Joven      0      0    7.2250        C\n",
      "1307       3    male  Joven      0      0    7.2250        C\n",
      "1308       3    male  Joven      0      0    7.8750        S\n",
      "\n",
      "[1309 rows x 7 columns]\n"
     ]
    }
   ],
   "source": [
    "# Se eliminan las columnas 'name', 'ticket' y 'cabin' del dataset pertenecen a variables identificadoras\n",
    "X_titanic = X_titanic.drop(['name', 'ticket', 'cabin'], axis=1)\n",
    "print(X_titanic)"
   ]
  },
  {
   "cell_type": "markdown",
   "metadata": {},
   "source": [
    "En el caso de variables **embarked**, **sex** y **age** se realiza el preprocesamiento de las columnas categóricas, utilizando la función pd.get_dummies() para convertirlas en variables dummy. \n",
    "\n",
    "En el primer código, las columnas embarked y sex se transforman en variables dummy y, con el parámetro drop_first=True, se elimina una categoría de cada una (por ejemplo, la categoría \"female\" para sex) para evitar la multicolinealidad, reduciendo el número de columnas generadas. \n",
    "\n",
    "En el segundo código, la columna age, que previamente fue agrupada en categorías como Niño, Joven, Adulto y Adulto Mayor, también se convierte en variables dummy, pero en este caso se conserva cada una de las categorías sin eliminar ninguna con drop_first=False, generando una columna por cada grupo de edad. Este proceso facilita el uso de estas variables categóricas en modelos de Machine Learning, que requieren datos numéricos para su procesamiento."
   ]
  },
  {
   "cell_type": "code",
   "execution_count": 38,
   "metadata": {},
   "outputs": [],
   "source": [
    "# La columna 'embarked' y 'sex' son categóricas, por lo que se convierten en dummies\n",
    "X_titanic = pd.get_dummies(X_titanic, columns=['embarked', 'sex'], drop_first=True)\n",
    "X_titanic = pd.get_dummies(X_titanic, columns=['age'], drop_first=False)"
   ]
  },
  {
   "cell_type": "code",
   "execution_count": 39,
   "metadata": {},
   "outputs": [
    {
     "name": "stdout",
     "output_type": "stream",
     "text": [
      "   pclass  sibsp  parch      fare  embarked_Q  embarked_S  sex_male  age_Nino  \\\n",
      "0       1      0      0  211.3375       False        True     False     False   \n",
      "1       1      1      2  151.5500       False        True      True      True   \n",
      "2       1      1      2  151.5500       False        True     False      True   \n",
      "3       1      1      2  151.5500       False        True      True     False   \n",
      "4       1      1      2  151.5500       False        True     False     False   \n",
      "\n",
      "   age_Joven  age_Adulto  age_Adulto_Mayor  \n",
      "0       True       False             False  \n",
      "1      False       False             False  \n",
      "2      False       False             False  \n",
      "3       True       False             False  \n",
      "4       True       False             False  \n"
     ]
    }
   ],
   "source": [
    "# Mostrar las primeras filas del DataFrame\n",
    "print(X_titanic.head())"
   ]
  },
  {
   "cell_type": "markdown",
   "metadata": {},
   "source": [
    "## 5.1. Regresión Logística  "
   ]
  },
  {
   "cell_type": "markdown",
   "metadata": {},
   "source": [
    "La regresión logística es un modelo de clasificación supervisado utilizado para predecir la probabilidad de que un evento binario ocurra, en este caso, si un pasajero del Titanic sobrevivió o no. A diferencia de la regresión lineal, que predice valores continuos, la regresión logística genera una probabilidad entre 0 y 1, facilitando la clasificación en dos categorías (sobrevivencia o no). Se utilizarán características como la clase del boleto (pclass), el sexo (sex), la edad (age), y el número de familiares a bordo (sibsp y parch), entre otras, para predecir la probabilidad de supervivencia de los pasajeros. La regresión logística permite no solo predecir si un pasajero sobrevivió, sino también evaluar qué características tienen mayor influencia en las probabilidades de supervivencia, brindando un modelo interpretativo y predictivo basado en estas características."
   ]
  },
  {
   "cell_type": "markdown",
   "metadata": {},
   "source": [
    "- Utiliza el 80% de los datos para entrenar el modelo y el 20% restante para probar su rendimiento.\n",
    "- Instanciamos el modelo de LogisticRegression y lo ajustsamos a los datos de entrenamiento.\n",
    "- Utilizamos el modelo entrenado para predecir los resultados en el conjunto de prueba y evaluamos su rendimiento."
   ]
  },
  {
   "cell_type": "code",
   "execution_count": 43,
   "metadata": {
    "id": "t6QGVyZgZmMQ"
   },
   "outputs": [],
   "source": [
    "# Dividir los datos en entrenamiento y prueba utilizando X_titanic_final\n",
    "X_train, X_test, y_train, y_test = train_test_split(X_titanic, y_titanic, test_size=0.2, random_state=42)\n",
    "\n",
    "# Entrenar un modelo de regresión logística\n",
    "model = LogisticRegression(max_iter=10000)\n",
    "model.fit(X_train, y_train)\n",
    "\n",
    "# Hacer predicciones\n",
    "y_pred = model.predict(X_test)"
   ]
  },
  {
   "cell_type": "markdown",
   "metadata": {
    "id": "JsHAqdhta9ZD"
   },
   "source": [
    "El conjunto de entrenamiento (X_train y y_train) se utiliza para ajustar el modelo de regresión logística, donde X_train contiene las características del modelo (como clase, edad, sexo, etc.) y y_train contiene la variable objetivo (supervivencia: 0 o 1). Luego, el modelo entrenado se utiliza para hacer predicciones sobre el conjunto de prueba (X_test), generando las predicciones de supervivencia (y_pred), que luego se pueden comparar con los valores reales para evaluar la precisión del modelo."
   ]
  },
  {
   "cell_type": "code",
   "execution_count": 45,
   "metadata": {
    "colab": {
     "base_uri": "https://localhost:8080/"
    },
    "id": "F3KwLCxFcScC",
    "outputId": "5571ab8d-4b35-424e-fcb0-603c643d7269"
   },
   "outputs": [
    {
     "name": "stdout",
     "output_type": "stream",
     "text": [
      "Matriz de confusión:\n",
      " [[126  18]\n",
      " [ 46  72]]\n"
     ]
    }
   ],
   "source": [
    "# Calcular la matriz de confusión\n",
    "conf_matrix = confusion_matrix(y_test, y_pred)\n",
    "print(\"Matriz de confusión:\\n\", conf_matrix)"
   ]
  },
  {
   "cell_type": "code",
   "execution_count": 46,
   "metadata": {
    "colab": {
     "base_uri": "https://localhost:8080/",
     "height": 472
    },
    "id": "Q5DLX3zXbh5a",
    "outputId": "fefe5e89-858c-4edc-c086-6edf87dc3612"
   },
   "outputs": [
    {
     "ename": "NameError",
     "evalue": "name 'conf_matrix_rl' is not defined",
     "output_type": "error",
     "traceback": [
      "\u001b[1;31m---------------------------------------------------------------------------\u001b[0m",
      "\u001b[1;31mNameError\u001b[0m                                 Traceback (most recent call last)",
      "Cell \u001b[1;32mIn[46], line 2\u001b[0m\n\u001b[0;32m      1\u001b[0m \u001b[38;5;66;03m# Graficar la matriz de confusión\u001b[39;00m\n\u001b[1;32m----> 2\u001b[0m sns\u001b[38;5;241m.\u001b[39mheatmap(conf_matrix_rl, annot\u001b[38;5;241m=\u001b[39m\u001b[38;5;28;01mTrue\u001b[39;00m, fmt\u001b[38;5;241m=\u001b[39m\u001b[38;5;124m'\u001b[39m\u001b[38;5;124md\u001b[39m\u001b[38;5;124m'\u001b[39m, cmap\u001b[38;5;241m=\u001b[39m\u001b[38;5;124m'\u001b[39m\u001b[38;5;124mBlues\u001b[39m\u001b[38;5;124m'\u001b[39m, xticklabels\u001b[38;5;241m=\u001b[39m[\u001b[38;5;124m'\u001b[39m\u001b[38;5;124mNo sobrevivió\u001b[39m\u001b[38;5;124m'\u001b[39m, \u001b[38;5;124m'\u001b[39m\u001b[38;5;124mSobrevivió\u001b[39m\u001b[38;5;124m'\u001b[39m], yticklabels\u001b[38;5;241m=\u001b[39m[\u001b[38;5;124m'\u001b[39m\u001b[38;5;124mNo sobrevivió\u001b[39m\u001b[38;5;124m'\u001b[39m, \u001b[38;5;124m'\u001b[39m\u001b[38;5;124mSobrevivió\u001b[39m\u001b[38;5;124m'\u001b[39m])\n\u001b[0;32m      3\u001b[0m plt\u001b[38;5;241m.\u001b[39mylabel(\u001b[38;5;124m'\u001b[39m\u001b[38;5;124mValor Real\u001b[39m\u001b[38;5;124m'\u001b[39m)\n\u001b[0;32m      4\u001b[0m plt\u001b[38;5;241m.\u001b[39mxlabel(\u001b[38;5;124m'\u001b[39m\u001b[38;5;124mPredicción\u001b[39m\u001b[38;5;124m'\u001b[39m)\n",
      "\u001b[1;31mNameError\u001b[0m: name 'conf_matrix_rl' is not defined"
     ]
    }
   ],
   "source": [
    "# Graficar la matriz de confusión\n",
    "sns.heatmap(conf_matrix_rl, annot=True, fmt='d', cmap='Blues', xticklabels=['No sobrevivió', 'Sobrevivió'], yticklabels=['No sobrevivió', 'Sobrevivió'])\n",
    "plt.ylabel('Valor Real')\n",
    "plt.xlabel('Predicción')\n",
    "plt.title('Matriz de Confusión RL')\n",
    "plt.show()"
   ]
  },
  {
   "cell_type": "markdown",
   "metadata": {},
   "source": [
    "En la matriz se evalúa el rendimiento del modelo de regresión logística aplicado a la predicción de la supervivencia en el Titanic. Se observa lo siguiente:\n",
    "- 126 verdaderos negativos (pasajeros que no sobrevivieron y fueron correctamente clasificados).\n",
    "- 72 verdaderos positivos (pasajeros que sobrevivieron y fueron correctamente clasificados).\n",
    "- 18 falsos positivos (pasajeros que no sobrevivieron pero fueron incorrectamente predichos como sobrevivientes).\n",
    "- 46 falsos negativos (pasajeros que sobrevivieron pero fueron incorrectamente predichos como no sobrevivientes)\n",
    "\n",
    "Esta visualización permite analizar en qué casos el modelo comete errores y en cuáles acierta, dando una idea clara de su efectividad."
   ]
  },
  {
   "cell_type": "code",
   "execution_count": null,
   "metadata": {},
   "outputs": [],
   "source": [
    "#Calculo de métricas\n",
    "# Calcular la precisión (accuracy), recall, precisión (precision) y F1-score\n",
    "accuracy_rl = accuracy_score(y_test, y_pred)\n",
    "recall_rl = recall_score(y_test, y_pred, pos_label='1')\n",
    "precision_rl = precision_score(y_test, y_pred, pos_label='1')\n",
    "f1_rl = f1_score(y_test, y_pred, pos_label='1')\n",
    "\n",
    "# Mostrar los resultados\n",
    "print(f\"Exactitud del modelo (RL): {accuracy_rl:.4f}\")\n",
    "print(f\"Recall del modelo (RL): {recall_rl:.4f}\")\n",
    "print(f\"Precisión del modelo (RL): {precision_rl:.4f}\")\n",
    "print(f\"F1-score del modelo (RL): {f1_rl:.4f}\")"
   ]
  },
  {
   "cell_type": "markdown",
   "metadata": {},
   "source": [
    "Con este código se calculan las métricas claves para evaluar el rendimiento del modelo de regresión logística: exactitud (accuracy), recall, precisión (precision) y F1-score:\n",
    "\n",
    "**- Exactitud (accuracy):** el modelo tiene una exactitud del 75.57%, lo que significa que, en general, el 75.57% de las predicciones realizadas por el modelo fueron correctas. Este es un resultado razonable, pero indica que el modelo comete errores en alrededor del 24.43% de los casos.\n",
    "\n",
    "**- Recall:** el recall del 61.02% muestra que el modelo identifica correctamente al 61.02% de los pasajeros que realmente sobrevivieron. Este valor sugiere que el modelo tiene dificultades para detectar correctamente a todos los supervivientes, dejando una parte significativa sin identificar (falsos negativos).\n",
    "\n",
    "**- Precisión (precision):** la precisión del 80.00% indica que cuando el modelo predice que un pasajero sobrevivió, tiene un 80% de probabilidad de ser correcto. Esto significa que los falsos positivos (predecir que alguien sobrevivió cuando no lo hizo) no son muy frecuentes.\n",
    "\n",
    "**- F1-score:** el F1-score de 0.6923 es una combinación de precision y recall, y proporciona un balance entre ambas métricas. El valor de 0.69 indica que el modelo tiene un rendimiento razonable, pero hay margen para mejorar, especialmente en la detección de los verdaderos supervivientes."
   ]
  },
  {
   "cell_type": "code",
   "execution_count": null,
   "metadata": {},
   "outputs": [],
   "source": [
    "coefficients = pd.DataFrame(model.coef_, columns=X_train.columns)\n",
    "\n",
    "print(f'Coeficiente de age_Nino: {coefficients[\"age_Nino\"].values[0]:0.4f}')\n",
    "print(f'Coeficiente de age_Joven: {coefficients[\"age_Joven\"].values[0]:0.4f}')\n",
    "print(f'Coeficiente de age_Adulto: {coefficients[\"age_Adulto\"].values[0]:0.4f}')\n",
    "print(f'Coeficiente de age_Adulto_Mayor: {coefficients[\"age_Adulto_Mayor\"].values[0]:0.4f}')"
   ]
  },
  {
   "cell_type": "markdown",
   "metadata": {},
   "source": [
    "Estos coeficientes indican el impacto de cada variable sobre la probabilidad de que ocurra el evento (que un pasajero haya sobrevivido):\n",
    "\n",
    "- Coeficiente positivo: Indica que, a medida que la variable aumenta, también lo hace la probabilidad de supervivencia.\n",
    "- Coeficiente negativo: Indica que, a medida que la variable aumenta, disminuye la probabilidad de supervivencia.\n",
    "\n",
    "Se puede ver que a medida que la edad aumenta, la probabilidad de sobrevivir disminuye. En este sentido, se puede observar que si el pasajero es niño, existe una relación positiva con la probabilidad de sobrevivir. Esta probabilidad disminuye a medida que la edad aumenta siendo la edad de adulto mayor la que tiene una mayor probabilidad de no sobrevivir."
   ]
  },
  {
   "cell_type": "markdown",
   "metadata": {},
   "source": [
    "En conclusión, se utiliza un modelo de regresión logística para predecir la supervivencia de los pasajeros del Titanic. Para evaluar su rendimiento, se genera una matriz de confusión que permite observar la clasificación de los pasajeros en cuatro categorías: verdaderos negativos, falsos positivos, falsos negativos y verdaderos positivos. La matriz muestra que el modelo clasifica correctamente a 126 pasajeros que no sobrevivieron y a 72 pasajeros que sí lo hicieron. Esto sugiere que el modelo es relativamente eficaz en identificar tanto a los pasajeros que no sobrevivieron como a los que lograron sobrevivir. Sin embargo, también se observan 18 falsos positivos, donde el modelo predice erróneamente que el pasajero sobrevivió, y 46 falsos negativos, donde predice que no sobrevivió cuando en realidad sí lo hizo.\n",
    "\n",
    "La alta cantidad de falsos negativos sugiere que el modelo tiene dificultades para identificar correctamente a algunos supervivientes, lo que podría tener implicaciones en un contexto donde la identificación de la clase positiva es crucial. Este resultado sugiere que el modelo podría beneficiarse de ajustes adicionales, como la regularización o la optimización de hiperparámetros, para mejorar la precisión en la clasificación. Además, sería útil analizar en mayor detalle las características del dataset para entender mejor qué factores están contribuyendo a estos errores, lo que podría conducir a mejoras mediante la creación de nuevas variables o la aplicación de técnicas más avanzadas de ingeniería de características. En resumen, aunque el modelo presenta un buen desempeño general, aún existe margen para mejorar la precisión en la predicción de la supervivencia de los pasajeros."
   ]
  },
  {
   "cell_type": "markdown",
   "metadata": {},
   "source": [
    "## 5.2. Naive Bayes"
   ]
  },
  {
   "cell_type": "markdown",
   "metadata": {},
   "source": [
    "El modelo de Naive Bayes es un clasificador supervisado basado en la teoría de probabilidades que se utiliza para predecir la categoría a la que pertenece una instancia, en este caso, si un pasajero del Titanic sobrevivió o no. A diferencia de otros modelos, Naive Bayes asume que todas las características son independientes entre sí, lo que simplifica el cálculo de probabilidades. A pesar de esta suposición simplificadora, el modelo es eficaz y rápido para muchos problemas de clasificación. En este caso, características como la clase del boleto (pclass), el sexo (sex), la edad (age) y el número de familiares a bordo (sibsp y parch), entre otras, serán utilizadas para predecir si un pasajero sobrevivió.\n",
    "\n",
    "El modelo de Naive Bayes calcula la probabilidad condicional de que un pasajero pertenezca a una de las dos clases posibles (sobrevivió o no), y realiza la clasificación en base a la clase con mayor probabilidad. "
   ]
  },
  {
   "cell_type": "markdown",
   "metadata": {},
   "source": [
    "Se crea un modelo Naive Bayes basado en la suposición de que las características siguen una distribución gaussiana."
   ]
  },
  {
   "cell_type": "code",
   "execution_count": 47,
   "metadata": {},
   "outputs": [
    {
     "data": {
      "text/html": [
       "<style>#sk-container-id-1 {\n",
       "  /* Definition of color scheme common for light and dark mode */\n",
       "  --sklearn-color-text: black;\n",
       "  --sklearn-color-line: gray;\n",
       "  /* Definition of color scheme for unfitted estimators */\n",
       "  --sklearn-color-unfitted-level-0: #fff5e6;\n",
       "  --sklearn-color-unfitted-level-1: #f6e4d2;\n",
       "  --sklearn-color-unfitted-level-2: #ffe0b3;\n",
       "  --sklearn-color-unfitted-level-3: chocolate;\n",
       "  /* Definition of color scheme for fitted estimators */\n",
       "  --sklearn-color-fitted-level-0: #f0f8ff;\n",
       "  --sklearn-color-fitted-level-1: #d4ebff;\n",
       "  --sklearn-color-fitted-level-2: #b3dbfd;\n",
       "  --sklearn-color-fitted-level-3: cornflowerblue;\n",
       "\n",
       "  /* Specific color for light theme */\n",
       "  --sklearn-color-text-on-default-background: var(--sg-text-color, var(--theme-code-foreground, var(--jp-content-font-color1, black)));\n",
       "  --sklearn-color-background: var(--sg-background-color, var(--theme-background, var(--jp-layout-color0, white)));\n",
       "  --sklearn-color-border-box: var(--sg-text-color, var(--theme-code-foreground, var(--jp-content-font-color1, black)));\n",
       "  --sklearn-color-icon: #696969;\n",
       "\n",
       "  @media (prefers-color-scheme: dark) {\n",
       "    /* Redefinition of color scheme for dark theme */\n",
       "    --sklearn-color-text-on-default-background: var(--sg-text-color, var(--theme-code-foreground, var(--jp-content-font-color1, white)));\n",
       "    --sklearn-color-background: var(--sg-background-color, var(--theme-background, var(--jp-layout-color0, #111)));\n",
       "    --sklearn-color-border-box: var(--sg-text-color, var(--theme-code-foreground, var(--jp-content-font-color1, white)));\n",
       "    --sklearn-color-icon: #878787;\n",
       "  }\n",
       "}\n",
       "\n",
       "#sk-container-id-1 {\n",
       "  color: var(--sklearn-color-text);\n",
       "}\n",
       "\n",
       "#sk-container-id-1 pre {\n",
       "  padding: 0;\n",
       "}\n",
       "\n",
       "#sk-container-id-1 input.sk-hidden--visually {\n",
       "  border: 0;\n",
       "  clip: rect(1px 1px 1px 1px);\n",
       "  clip: rect(1px, 1px, 1px, 1px);\n",
       "  height: 1px;\n",
       "  margin: -1px;\n",
       "  overflow: hidden;\n",
       "  padding: 0;\n",
       "  position: absolute;\n",
       "  width: 1px;\n",
       "}\n",
       "\n",
       "#sk-container-id-1 div.sk-dashed-wrapped {\n",
       "  border: 1px dashed var(--sklearn-color-line);\n",
       "  margin: 0 0.4em 0.5em 0.4em;\n",
       "  box-sizing: border-box;\n",
       "  padding-bottom: 0.4em;\n",
       "  background-color: var(--sklearn-color-background);\n",
       "}\n",
       "\n",
       "#sk-container-id-1 div.sk-container {\n",
       "  /* jupyter's `normalize.less` sets `[hidden] { display: none; }`\n",
       "     but bootstrap.min.css set `[hidden] { display: none !important; }`\n",
       "     so we also need the `!important` here to be able to override the\n",
       "     default hidden behavior on the sphinx rendered scikit-learn.org.\n",
       "     See: https://github.com/scikit-learn/scikit-learn/issues/21755 */\n",
       "  display: inline-block !important;\n",
       "  position: relative;\n",
       "}\n",
       "\n",
       "#sk-container-id-1 div.sk-text-repr-fallback {\n",
       "  display: none;\n",
       "}\n",
       "\n",
       "div.sk-parallel-item,\n",
       "div.sk-serial,\n",
       "div.sk-item {\n",
       "  /* draw centered vertical line to link estimators */\n",
       "  background-image: linear-gradient(var(--sklearn-color-text-on-default-background), var(--sklearn-color-text-on-default-background));\n",
       "  background-size: 2px 100%;\n",
       "  background-repeat: no-repeat;\n",
       "  background-position: center center;\n",
       "}\n",
       "\n",
       "/* Parallel-specific style estimator block */\n",
       "\n",
       "#sk-container-id-1 div.sk-parallel-item::after {\n",
       "  content: \"\";\n",
       "  width: 100%;\n",
       "  border-bottom: 2px solid var(--sklearn-color-text-on-default-background);\n",
       "  flex-grow: 1;\n",
       "}\n",
       "\n",
       "#sk-container-id-1 div.sk-parallel {\n",
       "  display: flex;\n",
       "  align-items: stretch;\n",
       "  justify-content: center;\n",
       "  background-color: var(--sklearn-color-background);\n",
       "  position: relative;\n",
       "}\n",
       "\n",
       "#sk-container-id-1 div.sk-parallel-item {\n",
       "  display: flex;\n",
       "  flex-direction: column;\n",
       "}\n",
       "\n",
       "#sk-container-id-1 div.sk-parallel-item:first-child::after {\n",
       "  align-self: flex-end;\n",
       "  width: 50%;\n",
       "}\n",
       "\n",
       "#sk-container-id-1 div.sk-parallel-item:last-child::after {\n",
       "  align-self: flex-start;\n",
       "  width: 50%;\n",
       "}\n",
       "\n",
       "#sk-container-id-1 div.sk-parallel-item:only-child::after {\n",
       "  width: 0;\n",
       "}\n",
       "\n",
       "/* Serial-specific style estimator block */\n",
       "\n",
       "#sk-container-id-1 div.sk-serial {\n",
       "  display: flex;\n",
       "  flex-direction: column;\n",
       "  align-items: center;\n",
       "  background-color: var(--sklearn-color-background);\n",
       "  padding-right: 1em;\n",
       "  padding-left: 1em;\n",
       "}\n",
       "\n",
       "\n",
       "/* Toggleable style: style used for estimator/Pipeline/ColumnTransformer box that is\n",
       "clickable and can be expanded/collapsed.\n",
       "- Pipeline and ColumnTransformer use this feature and define the default style\n",
       "- Estimators will overwrite some part of the style using the `sk-estimator` class\n",
       "*/\n",
       "\n",
       "/* Pipeline and ColumnTransformer style (default) */\n",
       "\n",
       "#sk-container-id-1 div.sk-toggleable {\n",
       "  /* Default theme specific background. It is overwritten whether we have a\n",
       "  specific estimator or a Pipeline/ColumnTransformer */\n",
       "  background-color: var(--sklearn-color-background);\n",
       "}\n",
       "\n",
       "/* Toggleable label */\n",
       "#sk-container-id-1 label.sk-toggleable__label {\n",
       "  cursor: pointer;\n",
       "  display: block;\n",
       "  width: 100%;\n",
       "  margin-bottom: 0;\n",
       "  padding: 0.5em;\n",
       "  box-sizing: border-box;\n",
       "  text-align: center;\n",
       "}\n",
       "\n",
       "#sk-container-id-1 label.sk-toggleable__label-arrow:before {\n",
       "  /* Arrow on the left of the label */\n",
       "  content: \"▸\";\n",
       "  float: left;\n",
       "  margin-right: 0.25em;\n",
       "  color: var(--sklearn-color-icon);\n",
       "}\n",
       "\n",
       "#sk-container-id-1 label.sk-toggleable__label-arrow:hover:before {\n",
       "  color: var(--sklearn-color-text);\n",
       "}\n",
       "\n",
       "/* Toggleable content - dropdown */\n",
       "\n",
       "#sk-container-id-1 div.sk-toggleable__content {\n",
       "  max-height: 0;\n",
       "  max-width: 0;\n",
       "  overflow: hidden;\n",
       "  text-align: left;\n",
       "  /* unfitted */\n",
       "  background-color: var(--sklearn-color-unfitted-level-0);\n",
       "}\n",
       "\n",
       "#sk-container-id-1 div.sk-toggleable__content.fitted {\n",
       "  /* fitted */\n",
       "  background-color: var(--sklearn-color-fitted-level-0);\n",
       "}\n",
       "\n",
       "#sk-container-id-1 div.sk-toggleable__content pre {\n",
       "  margin: 0.2em;\n",
       "  border-radius: 0.25em;\n",
       "  color: var(--sklearn-color-text);\n",
       "  /* unfitted */\n",
       "  background-color: var(--sklearn-color-unfitted-level-0);\n",
       "}\n",
       "\n",
       "#sk-container-id-1 div.sk-toggleable__content.fitted pre {\n",
       "  /* unfitted */\n",
       "  background-color: var(--sklearn-color-fitted-level-0);\n",
       "}\n",
       "\n",
       "#sk-container-id-1 input.sk-toggleable__control:checked~div.sk-toggleable__content {\n",
       "  /* Expand drop-down */\n",
       "  max-height: 200px;\n",
       "  max-width: 100%;\n",
       "  overflow: auto;\n",
       "}\n",
       "\n",
       "#sk-container-id-1 input.sk-toggleable__control:checked~label.sk-toggleable__label-arrow:before {\n",
       "  content: \"▾\";\n",
       "}\n",
       "\n",
       "/* Pipeline/ColumnTransformer-specific style */\n",
       "\n",
       "#sk-container-id-1 div.sk-label input.sk-toggleable__control:checked~label.sk-toggleable__label {\n",
       "  color: var(--sklearn-color-text);\n",
       "  background-color: var(--sklearn-color-unfitted-level-2);\n",
       "}\n",
       "\n",
       "#sk-container-id-1 div.sk-label.fitted input.sk-toggleable__control:checked~label.sk-toggleable__label {\n",
       "  background-color: var(--sklearn-color-fitted-level-2);\n",
       "}\n",
       "\n",
       "/* Estimator-specific style */\n",
       "\n",
       "/* Colorize estimator box */\n",
       "#sk-container-id-1 div.sk-estimator input.sk-toggleable__control:checked~label.sk-toggleable__label {\n",
       "  /* unfitted */\n",
       "  background-color: var(--sklearn-color-unfitted-level-2);\n",
       "}\n",
       "\n",
       "#sk-container-id-1 div.sk-estimator.fitted input.sk-toggleable__control:checked~label.sk-toggleable__label {\n",
       "  /* fitted */\n",
       "  background-color: var(--sklearn-color-fitted-level-2);\n",
       "}\n",
       "\n",
       "#sk-container-id-1 div.sk-label label.sk-toggleable__label,\n",
       "#sk-container-id-1 div.sk-label label {\n",
       "  /* The background is the default theme color */\n",
       "  color: var(--sklearn-color-text-on-default-background);\n",
       "}\n",
       "\n",
       "/* On hover, darken the color of the background */\n",
       "#sk-container-id-1 div.sk-label:hover label.sk-toggleable__label {\n",
       "  color: var(--sklearn-color-text);\n",
       "  background-color: var(--sklearn-color-unfitted-level-2);\n",
       "}\n",
       "\n",
       "/* Label box, darken color on hover, fitted */\n",
       "#sk-container-id-1 div.sk-label.fitted:hover label.sk-toggleable__label.fitted {\n",
       "  color: var(--sklearn-color-text);\n",
       "  background-color: var(--sklearn-color-fitted-level-2);\n",
       "}\n",
       "\n",
       "/* Estimator label */\n",
       "\n",
       "#sk-container-id-1 div.sk-label label {\n",
       "  font-family: monospace;\n",
       "  font-weight: bold;\n",
       "  display: inline-block;\n",
       "  line-height: 1.2em;\n",
       "}\n",
       "\n",
       "#sk-container-id-1 div.sk-label-container {\n",
       "  text-align: center;\n",
       "}\n",
       "\n",
       "/* Estimator-specific */\n",
       "#sk-container-id-1 div.sk-estimator {\n",
       "  font-family: monospace;\n",
       "  border: 1px dotted var(--sklearn-color-border-box);\n",
       "  border-radius: 0.25em;\n",
       "  box-sizing: border-box;\n",
       "  margin-bottom: 0.5em;\n",
       "  /* unfitted */\n",
       "  background-color: var(--sklearn-color-unfitted-level-0);\n",
       "}\n",
       "\n",
       "#sk-container-id-1 div.sk-estimator.fitted {\n",
       "  /* fitted */\n",
       "  background-color: var(--sklearn-color-fitted-level-0);\n",
       "}\n",
       "\n",
       "/* on hover */\n",
       "#sk-container-id-1 div.sk-estimator:hover {\n",
       "  /* unfitted */\n",
       "  background-color: var(--sklearn-color-unfitted-level-2);\n",
       "}\n",
       "\n",
       "#sk-container-id-1 div.sk-estimator.fitted:hover {\n",
       "  /* fitted */\n",
       "  background-color: var(--sklearn-color-fitted-level-2);\n",
       "}\n",
       "\n",
       "/* Specification for estimator info (e.g. \"i\" and \"?\") */\n",
       "\n",
       "/* Common style for \"i\" and \"?\" */\n",
       "\n",
       ".sk-estimator-doc-link,\n",
       "a:link.sk-estimator-doc-link,\n",
       "a:visited.sk-estimator-doc-link {\n",
       "  float: right;\n",
       "  font-size: smaller;\n",
       "  line-height: 1em;\n",
       "  font-family: monospace;\n",
       "  background-color: var(--sklearn-color-background);\n",
       "  border-radius: 1em;\n",
       "  height: 1em;\n",
       "  width: 1em;\n",
       "  text-decoration: none !important;\n",
       "  margin-left: 1ex;\n",
       "  /* unfitted */\n",
       "  border: var(--sklearn-color-unfitted-level-1) 1pt solid;\n",
       "  color: var(--sklearn-color-unfitted-level-1);\n",
       "}\n",
       "\n",
       ".sk-estimator-doc-link.fitted,\n",
       "a:link.sk-estimator-doc-link.fitted,\n",
       "a:visited.sk-estimator-doc-link.fitted {\n",
       "  /* fitted */\n",
       "  border: var(--sklearn-color-fitted-level-1) 1pt solid;\n",
       "  color: var(--sklearn-color-fitted-level-1);\n",
       "}\n",
       "\n",
       "/* On hover */\n",
       "div.sk-estimator:hover .sk-estimator-doc-link:hover,\n",
       ".sk-estimator-doc-link:hover,\n",
       "div.sk-label-container:hover .sk-estimator-doc-link:hover,\n",
       ".sk-estimator-doc-link:hover {\n",
       "  /* unfitted */\n",
       "  background-color: var(--sklearn-color-unfitted-level-3);\n",
       "  color: var(--sklearn-color-background);\n",
       "  text-decoration: none;\n",
       "}\n",
       "\n",
       "div.sk-estimator.fitted:hover .sk-estimator-doc-link.fitted:hover,\n",
       ".sk-estimator-doc-link.fitted:hover,\n",
       "div.sk-label-container:hover .sk-estimator-doc-link.fitted:hover,\n",
       ".sk-estimator-doc-link.fitted:hover {\n",
       "  /* fitted */\n",
       "  background-color: var(--sklearn-color-fitted-level-3);\n",
       "  color: var(--sklearn-color-background);\n",
       "  text-decoration: none;\n",
       "}\n",
       "\n",
       "/* Span, style for the box shown on hovering the info icon */\n",
       ".sk-estimator-doc-link span {\n",
       "  display: none;\n",
       "  z-index: 9999;\n",
       "  position: relative;\n",
       "  font-weight: normal;\n",
       "  right: .2ex;\n",
       "  padding: .5ex;\n",
       "  margin: .5ex;\n",
       "  width: min-content;\n",
       "  min-width: 20ex;\n",
       "  max-width: 50ex;\n",
       "  color: var(--sklearn-color-text);\n",
       "  box-shadow: 2pt 2pt 4pt #999;\n",
       "  /* unfitted */\n",
       "  background: var(--sklearn-color-unfitted-level-0);\n",
       "  border: .5pt solid var(--sklearn-color-unfitted-level-3);\n",
       "}\n",
       "\n",
       ".sk-estimator-doc-link.fitted span {\n",
       "  /* fitted */\n",
       "  background: var(--sklearn-color-fitted-level-0);\n",
       "  border: var(--sklearn-color-fitted-level-3);\n",
       "}\n",
       "\n",
       ".sk-estimator-doc-link:hover span {\n",
       "  display: block;\n",
       "}\n",
       "\n",
       "/* \"?\"-specific style due to the `<a>` HTML tag */\n",
       "\n",
       "#sk-container-id-1 a.estimator_doc_link {\n",
       "  float: right;\n",
       "  font-size: 1rem;\n",
       "  line-height: 1em;\n",
       "  font-family: monospace;\n",
       "  background-color: var(--sklearn-color-background);\n",
       "  border-radius: 1rem;\n",
       "  height: 1rem;\n",
       "  width: 1rem;\n",
       "  text-decoration: none;\n",
       "  /* unfitted */\n",
       "  color: var(--sklearn-color-unfitted-level-1);\n",
       "  border: var(--sklearn-color-unfitted-level-1) 1pt solid;\n",
       "}\n",
       "\n",
       "#sk-container-id-1 a.estimator_doc_link.fitted {\n",
       "  /* fitted */\n",
       "  border: var(--sklearn-color-fitted-level-1) 1pt solid;\n",
       "  color: var(--sklearn-color-fitted-level-1);\n",
       "}\n",
       "\n",
       "/* On hover */\n",
       "#sk-container-id-1 a.estimator_doc_link:hover {\n",
       "  /* unfitted */\n",
       "  background-color: var(--sklearn-color-unfitted-level-3);\n",
       "  color: var(--sklearn-color-background);\n",
       "  text-decoration: none;\n",
       "}\n",
       "\n",
       "#sk-container-id-1 a.estimator_doc_link.fitted:hover {\n",
       "  /* fitted */\n",
       "  background-color: var(--sklearn-color-fitted-level-3);\n",
       "}\n",
       "</style><div id=\"sk-container-id-1\" class=\"sk-top-container\"><div class=\"sk-text-repr-fallback\"><pre>GaussianNB()</pre><b>In a Jupyter environment, please rerun this cell to show the HTML representation or trust the notebook. <br />On GitHub, the HTML representation is unable to render, please try loading this page with nbviewer.org.</b></div><div class=\"sk-container\" hidden><div class=\"sk-item\"><div class=\"sk-estimator fitted sk-toggleable\"><input class=\"sk-toggleable__control sk-hidden--visually\" id=\"sk-estimator-id-1\" type=\"checkbox\" checked><label for=\"sk-estimator-id-1\" class=\"sk-toggleable__label fitted sk-toggleable__label-arrow fitted\">&nbsp;&nbsp;GaussianNB<a class=\"sk-estimator-doc-link fitted\" rel=\"noreferrer\" target=\"_blank\" href=\"https://scikit-learn.org/1.5/modules/generated/sklearn.naive_bayes.GaussianNB.html\">?<span>Documentation for GaussianNB</span></a><span class=\"sk-estimator-doc-link fitted\">i<span>Fitted</span></span></label><div class=\"sk-toggleable__content fitted\"><pre>GaussianNB()</pre></div> </div></div></div></div>"
      ],
      "text/plain": [
       "GaussianNB()"
      ]
     },
     "execution_count": 47,
     "metadata": {},
     "output_type": "execute_result"
    }
   ],
   "source": [
    "# Crear el modelo Naive Bayes\n",
    "nb_model = GaussianNB()\n",
    "\n",
    "# Entrenar el modelo Naive Bayes\n",
    "nb_model.fit(X_train, y_train)"
   ]
  },
  {
   "cell_type": "markdown",
   "metadata": {},
   "source": [
    "Entrena el modelo utilizando los datos de entrenamiento, donde aprende las probabilidades que utilizará para clasificar futuras instancias (en este caso, predecir la supervivencia de los pasajeros)."
   ]
  },
  {
   "cell_type": "code",
   "execution_count": 49,
   "metadata": {},
   "outputs": [],
   "source": [
    "# Hacer predicciones en el conjunto de prueba\n",
    "y_pred_nb = nb_model.predict(X_test)"
   ]
  },
  {
   "cell_type": "code",
   "execution_count": 51,
   "metadata": {},
   "outputs": [
    {
     "name": "stdout",
     "output_type": "stream",
     "text": [
      "Exactitud del modelo Naive Bayes: 0.7634\n",
      "Matriz de confusión Naive Bayes:\n",
      "[[125  19]\n",
      " [ 43  75]]\n",
      "Reporte de clasificación Naive Bayes:\n",
      "              precision    recall  f1-score   support\n",
      "\n",
      "           0       0.74      0.87      0.80       144\n",
      "           1       0.80      0.64      0.71       118\n",
      "\n",
      "    accuracy                           0.76       262\n",
      "   macro avg       0.77      0.75      0.75       262\n",
      "weighted avg       0.77      0.76      0.76       262\n",
      "\n"
     ]
    }
   ],
   "source": [
    "# Calcular la exactitud\n",
    "accuracy_nb = accuracy_score(y_test, y_pred_nb)\n",
    "print(f\"Exactitud del modelo Naive Bayes: {accuracy_nb:.4f}\")\n",
    "\n",
    "# Mostrar la matriz de confusión\n",
    "conf_matrix_nb = confusion_matrix(y_test, y_pred_nb)\n",
    "print(f\"Matriz de confusión Naive Bayes:\\n{conf_matrix_nb}\")\n",
    "\n",
    "# Generar el reporte de clasificación\n",
    "print(f\"Reporte de clasificación Naive Bayes:\\n{classification_report(y_test, y_pred_nb)}\")"
   ]
  },
  {
   "cell_type": "code",
   "execution_count": null,
   "metadata": {},
   "outputs": [],
   "source": []
  },
  {
   "cell_type": "markdown",
   "metadata": {},
   "source": [
    "# Destino de los pasajeros"
   ]
  },
  {
   "cell_type": "code",
   "execution_count": 1152,
   "metadata": {},
   "outputs": [
    {
     "ename": "KeyError",
     "evalue": "'name'",
     "output_type": "error",
     "traceback": [
      "\u001b[1;31m---------------------------------------------------------------------------\u001b[0m",
      "\u001b[1;31mKeyError\u001b[0m                                  Traceback (most recent call last)",
      "File \u001b[1;32m~\\anaconda3\\Lib\\site-packages\\pandas\\core\\indexes\\base.py:3791\u001b[0m, in \u001b[0;36mIndex.get_loc\u001b[1;34m(self, key)\u001b[0m\n\u001b[0;32m   3790\u001b[0m \u001b[38;5;28;01mtry\u001b[39;00m:\n\u001b[1;32m-> 3791\u001b[0m     \u001b[38;5;28;01mreturn\u001b[39;00m \u001b[38;5;28mself\u001b[39m\u001b[38;5;241m.\u001b[39m_engine\u001b[38;5;241m.\u001b[39mget_loc(casted_key)\n\u001b[0;32m   3792\u001b[0m \u001b[38;5;28;01mexcept\u001b[39;00m \u001b[38;5;167;01mKeyError\u001b[39;00m \u001b[38;5;28;01mas\u001b[39;00m err:\n",
      "File \u001b[1;32mindex.pyx:152\u001b[0m, in \u001b[0;36mpandas._libs.index.IndexEngine.get_loc\u001b[1;34m()\u001b[0m\n",
      "File \u001b[1;32mindex.pyx:181\u001b[0m, in \u001b[0;36mpandas._libs.index.IndexEngine.get_loc\u001b[1;34m()\u001b[0m\n",
      "File \u001b[1;32mpandas\\_libs\\hashtable_class_helper.pxi:7080\u001b[0m, in \u001b[0;36mpandas._libs.hashtable.PyObjectHashTable.get_item\u001b[1;34m()\u001b[0m\n",
      "File \u001b[1;32mpandas\\_libs\\hashtable_class_helper.pxi:7088\u001b[0m, in \u001b[0;36mpandas._libs.hashtable.PyObjectHashTable.get_item\u001b[1;34m()\u001b[0m\n",
      "\u001b[1;31mKeyError\u001b[0m: 'name'",
      "\nThe above exception was the direct cause of the following exception:\n",
      "\u001b[1;31mKeyError\u001b[0m                                  Traceback (most recent call last)",
      "Cell \u001b[1;32mIn[1152], line 2\u001b[0m\n\u001b[0;32m      1\u001b[0m \u001b[38;5;66;03m# Se busca el nombre en el dataset de la primera persona \"Miss Helene Ragnhild Ostby\"\u001b[39;00m\n\u001b[1;32m----> 2\u001b[0m person1 \u001b[38;5;241m=\u001b[39m X_titanic[X_titanic[\u001b[38;5;124m'\u001b[39m\u001b[38;5;124mname\u001b[39m\u001b[38;5;124m'\u001b[39m]\u001b[38;5;241m.\u001b[39mstr\u001b[38;5;241m.\u001b[39mcontains(\u001b[38;5;124m'\u001b[39m\u001b[38;5;124mHelene Ragnhil\u001b[39m\u001b[38;5;124m'\u001b[39m)]\n\u001b[0;32m      3\u001b[0m \u001b[38;5;66;03m# Se eliminan las columnas 'name', 'ticket' y 'cabin' del dataset pertenecen a variables identificadoras\u001b[39;00m\n\u001b[0;32m      4\u001b[0m person1 \u001b[38;5;241m=\u001b[39m person1\u001b[38;5;241m.\u001b[39mdrop([\u001b[38;5;124m'\u001b[39m\u001b[38;5;124mname\u001b[39m\u001b[38;5;124m'\u001b[39m, \u001b[38;5;124m'\u001b[39m\u001b[38;5;124mticket\u001b[39m\u001b[38;5;124m'\u001b[39m, \u001b[38;5;124m'\u001b[39m\u001b[38;5;124mcabin\u001b[39m\u001b[38;5;124m'\u001b[39m], axis\u001b[38;5;241m=\u001b[39m\u001b[38;5;241m1\u001b[39m)\n",
      "File \u001b[1;32m~\\anaconda3\\Lib\\site-packages\\pandas\\core\\frame.py:3893\u001b[0m, in \u001b[0;36mDataFrame.__getitem__\u001b[1;34m(self, key)\u001b[0m\n\u001b[0;32m   3891\u001b[0m \u001b[38;5;28;01mif\u001b[39;00m \u001b[38;5;28mself\u001b[39m\u001b[38;5;241m.\u001b[39mcolumns\u001b[38;5;241m.\u001b[39mnlevels \u001b[38;5;241m>\u001b[39m \u001b[38;5;241m1\u001b[39m:\n\u001b[0;32m   3892\u001b[0m     \u001b[38;5;28;01mreturn\u001b[39;00m \u001b[38;5;28mself\u001b[39m\u001b[38;5;241m.\u001b[39m_getitem_multilevel(key)\n\u001b[1;32m-> 3893\u001b[0m indexer \u001b[38;5;241m=\u001b[39m \u001b[38;5;28mself\u001b[39m\u001b[38;5;241m.\u001b[39mcolumns\u001b[38;5;241m.\u001b[39mget_loc(key)\n\u001b[0;32m   3894\u001b[0m \u001b[38;5;28;01mif\u001b[39;00m is_integer(indexer):\n\u001b[0;32m   3895\u001b[0m     indexer \u001b[38;5;241m=\u001b[39m [indexer]\n",
      "File \u001b[1;32m~\\anaconda3\\Lib\\site-packages\\pandas\\core\\indexes\\base.py:3798\u001b[0m, in \u001b[0;36mIndex.get_loc\u001b[1;34m(self, key)\u001b[0m\n\u001b[0;32m   3793\u001b[0m     \u001b[38;5;28;01mif\u001b[39;00m \u001b[38;5;28misinstance\u001b[39m(casted_key, \u001b[38;5;28mslice\u001b[39m) \u001b[38;5;129;01mor\u001b[39;00m (\n\u001b[0;32m   3794\u001b[0m         \u001b[38;5;28misinstance\u001b[39m(casted_key, abc\u001b[38;5;241m.\u001b[39mIterable)\n\u001b[0;32m   3795\u001b[0m         \u001b[38;5;129;01mand\u001b[39;00m \u001b[38;5;28many\u001b[39m(\u001b[38;5;28misinstance\u001b[39m(x, \u001b[38;5;28mslice\u001b[39m) \u001b[38;5;28;01mfor\u001b[39;00m x \u001b[38;5;129;01min\u001b[39;00m casted_key)\n\u001b[0;32m   3796\u001b[0m     ):\n\u001b[0;32m   3797\u001b[0m         \u001b[38;5;28;01mraise\u001b[39;00m InvalidIndexError(key)\n\u001b[1;32m-> 3798\u001b[0m     \u001b[38;5;28;01mraise\u001b[39;00m \u001b[38;5;167;01mKeyError\u001b[39;00m(key) \u001b[38;5;28;01mfrom\u001b[39;00m \u001b[38;5;21;01merr\u001b[39;00m\n\u001b[0;32m   3799\u001b[0m \u001b[38;5;28;01mexcept\u001b[39;00m \u001b[38;5;167;01mTypeError\u001b[39;00m:\n\u001b[0;32m   3800\u001b[0m     \u001b[38;5;66;03m# If we have a listlike key, _check_indexing_error will raise\u001b[39;00m\n\u001b[0;32m   3801\u001b[0m     \u001b[38;5;66;03m#  InvalidIndexError. Otherwise we fall through and re-raise\u001b[39;00m\n\u001b[0;32m   3802\u001b[0m     \u001b[38;5;66;03m#  the TypeError.\u001b[39;00m\n\u001b[0;32m   3803\u001b[0m     \u001b[38;5;28mself\u001b[39m\u001b[38;5;241m.\u001b[39m_check_indexing_error(key)\n",
      "\u001b[1;31mKeyError\u001b[0m: 'name'"
     ]
    }
   ],
   "source": [
    "# Se busca el nombre en el dataset de la primera persona \"Miss Helene Ragnhild Ostby\"\n",
    "person1 = X_titanic[X_titanic['name'].str.contains('Helene Ragnhil')]\n",
    "# Se eliminan las columnas 'name', 'ticket' y 'cabin' del dataset pertenecen a variables identificadoras\n",
    "person1 = person1.drop(['name', 'ticket', 'cabin'], axis=1)\n",
    "# Se realiza la predicción\n",
    "survived = model.predict(person1)\n",
    "print(f'Miss Helene Ragnhild Ostby sobrevivió según predicción: {\"Sí\" if int(survived[0]) else \"No\"}')\n",
    "# Se obtiene el index de la primera persona para obtener el valor real de la variable objetivo\n",
    "index_person1 = person1.index[0]\n",
    "print(f'Miss Helene Ragnhild Ostby sobrevivió según valor real: {\"Sí\" if y_titanic[index_person1] == \"1\" else \"No\"}')\n",
    "\n",
    "# Se busca el nombre en el dataset de la segunda persona \"Mr. Frederick Edward Giles\"\n",
    "person2 = X_titanic[X_titanic['name'].str.contains('Frederick Edward')]\n",
    "# Se eliminan las columnas 'name', 'ticket' y 'cabin' del dataset pertenecen a variables identificadoras\n",
    "person2 = person2.drop(['name', 'ticket', 'cabin'], axis=1)\n",
    "# Se realiza la predicción\n",
    "survived = model.predict(person2)\n",
    "print(f'Mr. Frederick Edward Giles sobrevivió según predicción: {\"Sí\" if int(survived[0]) else \"No\"}')\n",
    "# Se obtiene el index de la segunda persona para obtener el valor real de la variable objetivo\n",
    "index_person2 = person2.index[0]\n",
    "print(f'Mr. Frederick Edward Giles sobrevivió según valor real: {\"Sí\" if y_titanic[index_person2] == \"1\" else \"No\"}')"
   ]
  }
 ],
 "metadata": {
  "colab": {
   "provenance": []
  },
  "kernelspec": {
   "display_name": "Python 3 (ipykernel)",
   "language": "python",
   "name": "python3"
  },
  "language_info": {
   "codemirror_mode": {
    "name": "ipython",
    "version": 3
   },
   "file_extension": ".py",
   "mimetype": "text/x-python",
   "name": "python",
   "nbconvert_exporter": "python",
   "pygments_lexer": "ipython3",
   "version": "3.11.7"
  }
 },
 "nbformat": 4,
 "nbformat_minor": 4
}
