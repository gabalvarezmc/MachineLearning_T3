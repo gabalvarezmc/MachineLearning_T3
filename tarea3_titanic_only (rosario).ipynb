{
 "cells": [
  {
   "cell_type": "markdown",
   "metadata": {},
   "source": [
    "# Tarea N°3\n",
    "\n",
    "\n",
    "<div>\n",
    "<img src=\"https://i.ibb.co/v3CvVz9/udd-short.png\" width=\"150\"/>\n",
    "    <br>\n",
    "    <strong>Universidad del Desarrollo</strong><br>\n",
    "    <em>Profesor: Tomás Fontecilla </em><br>\n",
    "\n",
    "</div>\n",
    "\n",
    "# Machine Learning: Laboratorio 03\n",
    "*12 de Octubre de 2024*\n",
    "\n",
    "**Nombre Estudiante(s)**: `Gabriel Álvarez Martínez - Valeska Farías Caicedo - Constanza Perez Pulido - Rosario Valderrama Labarca\n",
    "\n",
    "\n",
    "## 1. Objetivo\n",
    "\n",
    "En este laboratorio deberá *aplicar* los algoritmos aprendidos en la clase e investigar del uso de la libreria python scikit-learn y sus funciones más útiles para estos métodos. Su meta es realizar un análisis de datos completo probando los distintos métodos supervisados vistos hasta ahora (Naive Bayes, Análisis de Discriminante, Regresión Logística).\n",
    "\n",
    "Para esto utilizará la base load_breast_cancer anteriormente utilizada. Además los siguientes comandos de la librería sklearn, para la siguiente base:\n",
    "\n",
    "```\n",
    "# X, y =fetch_openml(\"titanic\", version=1, as_frame=True, return_X_y=True)\n",
    "X.drop(['boat', 'body', 'home.dest'], axis=1, inplace=Tru```\n",
    "```"
   ]
  },
  {
   "cell_type": "markdown",
   "metadata": {},
   "source": [
    "Por último, nos gustaría saber el destino de los dos pasajeros de los cuales se presentan sus boletos en el Titanic. También, nos interesa entender si la edad es un elemento determinante para la sobrevida."
   ]
  },
  {
   "cell_type": "markdown",
   "metadata": {},
   "source": [
    "## 2. Introducción  \n",
    "\n",
    "En el presente laboratorio se utilizaron dos dataframe:\n",
    "\n",
    "- `load_breast_cancer`, con el cual se pretende entrenar un modelo para predecir si el tumor de un paciente es maligno o benigno.\n",
    "- `titanic`, con el cual se pretender entrenar un modelo para predecir si los pasajeros sobreviven o no.\n",
    "\n",
    "Para lograr lo anterior, se utilizaron algoritmos de clasificación supervisados, para eso se utilizará Análisis de Discriminante Lineal (LDA) con el primer df (load_breast_cancer) y se realizará una regresión lineal además de  Naive Bayes para el df Titanic.\n",
    "\n",
    "Adcionalmente, se desea conocer el destino de dos pasajeros en específico que mantienen las siguientes caracteristicas según su ticket de embarque:  \n",
    "\n",
    "Pasajero N°1:  \n",
    "\n",
    "  - Nombre: Miss Helene ragnhild Ostby\n",
    "  - Sexo: Femenino\n",
    "  - Edad: 22 años\n",
    "  - Clase en la que viaja: 1ra. clase\n",
    "  - Cabin: B-36\n",
    "  - Embarque: Cherbourg  \n",
    "\n",
    "Pasajero N°2:  \n",
    "  - Nombre: Mr. Frederick Edward Giles\n",
    "  - Sexo: Masculino\n",
    "  - Edad: 21\n",
    "  - Clase en la que viaja: 2da. clase\n",
    "  - Cabin: Desconocida\n",
    "  - Embarque: Southampton  \n",
    "\n",
    "Para predecir si los dos pasajeros indicados sobreviven o no, se utiliza un árbol de clasificación que será entrenado para identificar las caracteristicas de los pasajeros que sobreviven y los que no, luego de eso podremos determinar el destino de ambos. el destino de ambos."
   ]
  },
  {
   "cell_type": "markdown",
   "metadata": {},
   "source": [
    "## 3. Importación de paquetes"
   ]
  },
  {
   "cell_type": "code",
   "execution_count": 12,
   "metadata": {
    "id": "ZxuDJge7J8pF"
   },
   "outputs": [],
   "source": [
    "import pandas as pd\n",
    "import matplotlib.pyplot as plt\n",
    "import seaborn as sns\n",
    "from sklearn.datasets import fetch_openml\n",
    "from sklearn.model_selection import train_test_split\n",
    "from sklearn.linear_model import LogisticRegression\n",
    "from sklearn.metrics import accuracy_score, recall_score, confusion_matrix, f1_score, precision_score, classification_report\n",
    "from sklearn.naive_bayes import GaussianNB\n",
    "from sklearn.metrics import confusion_matrix\n"
   ]
  },
  {
   "cell_type": "markdown",
   "metadata": {},
   "source": [
    "## 4. Obtención del Dataset"
   ]
  },
  {
   "cell_type": "markdown",
   "metadata": {},
   "source": [
    "La descarga del dataset `titanic` se realiza desde OpenML por medio de fetch_openml. Esta función de scikit-learn permite la descarga de datasets desde la plataforma OpenML.\n",
    "\n",
    "Para este caso, se imprimen las variables predictorias como X_titanic."
   ]
  },
  {
   "cell_type": "markdown",
   "metadata": {},
   "source": [
    "### 4.1. load_titanic"
   ]
  },
  {
   "cell_type": "markdown",
   "metadata": {},
   "source": [
    "El naufragio del Titanic es uno de los eventos más trágicos y conocidos de la historia marítima. En su viaje inaugural, el 15 de abril de 1912, el Titanic, que era en su momento el barco más grande del mundo, colisionó con un iceberg y se hundió en el Océano Atlántico. De los más de 2,200 pasajeros y tripulantes a bordo, solo alrededor de 700 sobrevivieron. Este evento ha sido objeto de muchos estudios y análisis, con el fin de entender mejor los factores que influyeron en la supervivencia de los pasajeros."
   ]
  },
  {
   "cell_type": "markdown",
   "metadata": {},
   "source": [
    "El propósito de este dataset es permitir la exploración y el análisis de los factores que pudieron influir en la supervivencia de los pasajeros, tales como su clase de boleto, sexo, edad, entre otros.\n",
    "\n",
    "Estructura del Dataset:\n",
    "'pclass', 'name', 'sex', 'age', 'sibsp', 'parch', 'ticket', 'fare', 'cabin', 'embarked', 'boat', 'body', 'home.dest'"
   ]
  },
  {
   "cell_type": "code",
   "execution_count": 13,
   "metadata": {},
   "outputs": [
    {
     "name": "stdout",
     "output_type": "stream",
     "text": [
      "Index(['pclass', 'name', 'sex', 'age', 'sibsp', 'parch', 'ticket', 'fare',\n",
      "       'cabin', 'embarked', 'boat', 'body', 'home.dest'],\n",
      "      dtype='object')\n"
     ]
    }
   ],
   "source": [
    "X_titanic, y_titanic = fetch_openml(\"titanic\", version=1, as_frame=True, return_X_y=True)\n",
    "print(X_titanic.columns)"
   ]
  },
  {
   "cell_type": "code",
   "execution_count": 14,
   "metadata": {},
   "outputs": [
    {
     "data": {
      "text/html": [
       "<div>\n",
       "<style scoped>\n",
       "    .dataframe tbody tr th:only-of-type {\n",
       "        vertical-align: middle;\n",
       "    }\n",
       "\n",
       "    .dataframe tbody tr th {\n",
       "        vertical-align: top;\n",
       "    }\n",
       "\n",
       "    .dataframe thead th {\n",
       "        text-align: right;\n",
       "    }\n",
       "</style>\n",
       "<table border=\"1\" class=\"dataframe\">\n",
       "  <thead>\n",
       "    <tr style=\"text-align: right;\">\n",
       "      <th></th>\n",
       "      <th>pclass</th>\n",
       "      <th>name</th>\n",
       "      <th>sex</th>\n",
       "      <th>age</th>\n",
       "      <th>sibsp</th>\n",
       "      <th>parch</th>\n",
       "      <th>ticket</th>\n",
       "      <th>fare</th>\n",
       "      <th>cabin</th>\n",
       "      <th>embarked</th>\n",
       "      <th>boat</th>\n",
       "      <th>body</th>\n",
       "      <th>home.dest</th>\n",
       "    </tr>\n",
       "  </thead>\n",
       "  <tbody>\n",
       "    <tr>\n",
       "      <th>0</th>\n",
       "      <td>1</td>\n",
       "      <td>Allen, Miss. Elisabeth Walton</td>\n",
       "      <td>female</td>\n",
       "      <td>29.0000</td>\n",
       "      <td>0</td>\n",
       "      <td>0</td>\n",
       "      <td>24160</td>\n",
       "      <td>211.3375</td>\n",
       "      <td>B5</td>\n",
       "      <td>S</td>\n",
       "      <td>2</td>\n",
       "      <td>NaN</td>\n",
       "      <td>St Louis, MO</td>\n",
       "    </tr>\n",
       "    <tr>\n",
       "      <th>1</th>\n",
       "      <td>1</td>\n",
       "      <td>Allison, Master. Hudson Trevor</td>\n",
       "      <td>male</td>\n",
       "      <td>0.9167</td>\n",
       "      <td>1</td>\n",
       "      <td>2</td>\n",
       "      <td>113781</td>\n",
       "      <td>151.5500</td>\n",
       "      <td>C22 C26</td>\n",
       "      <td>S</td>\n",
       "      <td>11</td>\n",
       "      <td>NaN</td>\n",
       "      <td>Montreal, PQ / Chesterville, ON</td>\n",
       "    </tr>\n",
       "    <tr>\n",
       "      <th>2</th>\n",
       "      <td>1</td>\n",
       "      <td>Allison, Miss. Helen Loraine</td>\n",
       "      <td>female</td>\n",
       "      <td>2.0000</td>\n",
       "      <td>1</td>\n",
       "      <td>2</td>\n",
       "      <td>113781</td>\n",
       "      <td>151.5500</td>\n",
       "      <td>C22 C26</td>\n",
       "      <td>S</td>\n",
       "      <td>NaN</td>\n",
       "      <td>NaN</td>\n",
       "      <td>Montreal, PQ / Chesterville, ON</td>\n",
       "    </tr>\n",
       "    <tr>\n",
       "      <th>3</th>\n",
       "      <td>1</td>\n",
       "      <td>Allison, Mr. Hudson Joshua Creighton</td>\n",
       "      <td>male</td>\n",
       "      <td>30.0000</td>\n",
       "      <td>1</td>\n",
       "      <td>2</td>\n",
       "      <td>113781</td>\n",
       "      <td>151.5500</td>\n",
       "      <td>C22 C26</td>\n",
       "      <td>S</td>\n",
       "      <td>NaN</td>\n",
       "      <td>135.0</td>\n",
       "      <td>Montreal, PQ / Chesterville, ON</td>\n",
       "    </tr>\n",
       "    <tr>\n",
       "      <th>4</th>\n",
       "      <td>1</td>\n",
       "      <td>Allison, Mrs. Hudson J C (Bessie Waldo Daniels)</td>\n",
       "      <td>female</td>\n",
       "      <td>25.0000</td>\n",
       "      <td>1</td>\n",
       "      <td>2</td>\n",
       "      <td>113781</td>\n",
       "      <td>151.5500</td>\n",
       "      <td>C22 C26</td>\n",
       "      <td>S</td>\n",
       "      <td>NaN</td>\n",
       "      <td>NaN</td>\n",
       "      <td>Montreal, PQ / Chesterville, ON</td>\n",
       "    </tr>\n",
       "  </tbody>\n",
       "</table>\n",
       "</div>"
      ],
      "text/plain": [
       "   pclass                                             name     sex      age  \\\n",
       "0       1                    Allen, Miss. Elisabeth Walton  female  29.0000   \n",
       "1       1                   Allison, Master. Hudson Trevor    male   0.9167   \n",
       "2       1                     Allison, Miss. Helen Loraine  female   2.0000   \n",
       "3       1             Allison, Mr. Hudson Joshua Creighton    male  30.0000   \n",
       "4       1  Allison, Mrs. Hudson J C (Bessie Waldo Daniels)  female  25.0000   \n",
       "\n",
       "   sibsp  parch  ticket      fare    cabin embarked boat   body  \\\n",
       "0      0      0   24160  211.3375       B5        S    2    NaN   \n",
       "1      1      2  113781  151.5500  C22 C26        S   11    NaN   \n",
       "2      1      2  113781  151.5500  C22 C26        S  NaN    NaN   \n",
       "3      1      2  113781  151.5500  C22 C26        S  NaN  135.0   \n",
       "4      1      2  113781  151.5500  C22 C26        S  NaN    NaN   \n",
       "\n",
       "                         home.dest  \n",
       "0                     St Louis, MO  \n",
       "1  Montreal, PQ / Chesterville, ON  \n",
       "2  Montreal, PQ / Chesterville, ON  \n",
       "3  Montreal, PQ / Chesterville, ON  \n",
       "4  Montreal, PQ / Chesterville, ON  "
      ]
     },
     "execution_count": 14,
     "metadata": {},
     "output_type": "execute_result"
    }
   ],
   "source": [
    "X_titanic.head(5)"
   ]
  },
  {
   "cell_type": "markdown",
   "metadata": {},
   "source": [
    "#### Descripción de las variables:"
   ]
  },
  {
   "cell_type": "markdown",
   "metadata": {},
   "source": [
    "- **pclass:**\n",
    "Clase del boleto del pasajero.\n",
    "*Valores:*\n",
    "1: Primera clase\n",
    "2: Segunda clase\n",
    "3: Tercera clase\n",
    "\n",
    "    *Tipo de dato:* Categórico ordinal.\n",
    "\n",
    "- **name:**\n",
    "Nombre del pasajero.\n",
    "\n",
    "    *Tipo de dato:* Categórico nominal.\n",
    "\n",
    "- **sex:**\n",
    "Sexo del pasajero.\n",
    "    *Valores:* \"male\": Hombre, \"female\": Mujer\n",
    "\n",
    "    *Tipo de dato:* Categórico nominal.\n",
    "\n",
    "- **age:**\n",
    "Edad del pasajero en años.\n",
    "\n",
    "    *Tipo de dato:* Numérico continuo.\n",
    "\n",
    "- **sibsp:**\n",
    "Número de hermanos y cónyuges a bordo del Titanic.\n",
    "\n",
    "    *Tipo de dato:* Numérico discreto.\n",
    "\n",
    "- **parch:**\n",
    "Número de padres e hijos a bordo del Titanic.\n",
    "\n",
    "    *Tipo de dato:* Numérico discreto.\n",
    "\n",
    "- **ticket:**\n",
    "Número de ticket del pasajero por el boleto.\n",
    "\n",
    "    *Tipo de dato:* Categórico nominal.\n",
    "\n",
    "- **fare:**\n",
    "Tarifa pagada por el pasajero por su billete.\n",
    "\n",
    "    *Tipo de dato:* Numérico continuo.\n",
    "\n",
    "- **cabin:**\n",
    "Identificación de cabina del pasajero a bordo.\n",
    "\n",
    "    *Tipo de dato:* Categórico nominal.\n",
    "\n",
    "- **embarked:**\n",
    "Puerto donde el pasajero embarcó.\n",
    "*Valores:* \"C\": Cherburgo, \"Q\": Queenstown, \"S\": Southampton\n",
    "\n",
    "    *Tipo de dato:* Categórico nominal.\n",
    "\n",
    "- **boat:**\n",
    "Número de bote que rescató al pasajero luego del hundimiento.\n",
    "\n",
    "    *Tipo de dato:* Categórico nominal.\n",
    "\n",
    "- **body:**\n",
    "Número de cuerpo que se encontró luego del hundimiento.\n",
    "\n",
    "    *Tipo de dato:* Numérico discreto.\n",
    "\n",
    "- **home.dest:**\n",
    "Lugar de destino o lugar de residencia.\n",
    "\n",
    "    *Tipo de dato:* Categórico nominal."
   ]
  },
  {
   "cell_type": "code",
   "execution_count": 15,
   "metadata": {},
   "outputs": [
    {
     "name": "stdout",
     "output_type": "stream",
     "text": [
      "Dimensiones del dataset (filas, columnas): (1309, 13)\n",
      "\n",
      "Información general del dataset:\n",
      "<class 'pandas.core.frame.DataFrame'>\n",
      "RangeIndex: 1309 entries, 0 to 1308\n",
      "Data columns (total 13 columns):\n",
      " #   Column     Non-Null Count  Dtype   \n",
      "---  ------     --------------  -----   \n",
      " 0   pclass     1309 non-null   int64   \n",
      " 1   name       1309 non-null   object  \n",
      " 2   sex        1309 non-null   category\n",
      " 3   age        1046 non-null   float64 \n",
      " 4   sibsp      1309 non-null   int64   \n",
      " 5   parch      1309 non-null   int64   \n",
      " 6   ticket     1309 non-null   object  \n",
      " 7   fare       1308 non-null   float64 \n",
      " 8   cabin      295 non-null    object  \n",
      " 9   embarked   1307 non-null   category\n",
      " 10  boat       486 non-null    object  \n",
      " 11  body       121 non-null    float64 \n",
      " 12  home.dest  745 non-null    object  \n",
      "dtypes: category(2), float64(3), int64(3), object(5)\n",
      "memory usage: 115.4+ KB\n",
      "None\n",
      "\n",
      "Valores nulos por columna:\n",
      "pclass          0\n",
      "name            0\n",
      "sex             0\n",
      "age           263\n",
      "sibsp           0\n",
      "parch           0\n",
      "ticket          0\n",
      "fare            1\n",
      "cabin        1014\n",
      "embarked        2\n",
      "boat          823\n",
      "body         1188\n",
      "home.dest     564\n",
      "dtype: int64\n"
     ]
    }
   ],
   "source": [
    "print(\"Dimensiones del dataset (filas, columnas):\", X_titanic.shape)\n",
    "print(\"\\nInformación general del dataset:\")\n",
    "print(X_titanic.info())\n",
    "\n",
    "print(\"\\nValores nulos por columna:\")\n",
    "print(X_titanic.isnull().sum())"
   ]
  },
  {
   "cell_type": "markdown",
   "metadata": {},
   "source": [
    "El dataset contiene 1,309 filas y 13 columnas, representando información sobre los pasajeros del Titanic. A continuación se detalla la estructura general del dataset, incluyendo el tipo de dato de cada columna y la cantidad de valores nulos.\n",
    "\n",
    "Estructura General del Dataset:\n",
    "- pclass: Tipo entero (int64), sin valores nulos (1,309 valores).\n",
    "- name: Tipo de dato object (cadena de texto), sin valores nulos (1,309 valores).\n",
    "- sex: Tipo categórico (category), sin valores nulos (1,309 valores).\n",
    "- age: Tipo flotante (float64), con 263 valores nulos.\n",
    "- sibsp: Tipo entero (int64), sin valores nulos (1,309 valores).\n",
    "- parch: Tipo entero (int64), sin valores nulos (1,309 valores).\n",
    "- ticket: Tipo object (cadena de texto), sin valores nulos (1,309 valores).\n",
    "- fare: Tipo flotante (float64), con 1 valor nulo.\n",
    "- cabin: Tipo object (cadena de texto), con 1,014 valores nulos, indicando que la mayoría de los pasajeros no tienen un camarote registrado.\n",
    "- embarked: Tipo categórico (category), con 2 valores nulos.\n",
    "- boat: Tipo object (cadena de texto), con 823 valores nulos, ya que muchos pasajeros no fueron rescatados en botes.\n",
    "- body: Tipo flotante (float64), con 1,188 valores nulos, ya que la mayoría de los cuerpos no fueron recuperados.\n",
    "- home.dest: Tipo object (cadena de texto), con 564 valores nulos.\n",
    "\n",
    "Cantidad de Valores Nulos por Columna:\n",
    "- age: 263 valores nulos.\n",
    "- fare: 1 valor nulo.\n",
    "- cabin: 1,014 valores nulos.\n",
    "- embarked: 2 valores nulos.\n",
    "- boat: 823 valores nulos.\n",
    "- body: 1,188 valores nulos.\n",
    "- home.dest: 564 valores nulos."
   ]
  },
  {
   "cell_type": "markdown",
   "metadata": {},
   "source": [
    "## 5. Métodos Supervisados\n",
    "Los métodos de Machine Learning supervisado son aquellos en los que el modelo aprende a partir de un conjunto de datos etiquetados, es decir, donde las características (variables independientes) y la variable objetivo (variable dependiente) ya están definidas. El objetivo del aprendizaje supervisado es que el modelo pueda predecir la salida (o etiqueta) correcta para nuevas instancias basándose en lo que ha aprendido de los datos de entrenamiento."
   ]
  },
  {
   "cell_type": "markdown",
   "metadata": {
    "id": "70lI-5cdfPy3"
   },
   "source": [
    "Para utlizar el df Titanic se debe determinar cómo se manejarán los datos nulos:\n",
    "\n",
    " - Identificar qué variables tienen valores nulos\n",
    " - Seleccionar el método que se utilizará para imputar los valores nulos"
   ]
  },
  {
   "cell_type": "code",
   "execution_count": 16,
   "metadata": {},
   "outputs": [
    {
     "name": "stdout",
     "output_type": "stream",
     "text": [
      "Cantidad de elementos nulos en X:\n",
      "pclass         0\n",
      "name           0\n",
      "sex            0\n",
      "age          263\n",
      "sibsp          0\n",
      "parch          0\n",
      "ticket         0\n",
      "fare           1\n",
      "cabin       1014\n",
      "embarked       2\n",
      "dtype: int64\n",
      "Cantidad de elementos nulos en y:\n",
      "0\n"
     ]
    }
   ],
   "source": [
    "# Se quitan las columnas boat, body y home.dest del dataset\n",
    "X_titanic.drop(['boat', 'body', 'home.dest'], axis=1, inplace=True)\n",
    "\n",
    "# Se indentifican las columnas con nulos en X\n",
    "print(f'Cantidad de elementos nulos en X:\\n{X_titanic.isnull().sum()}')\n",
    "\n",
    "# Se identifica los nulos en y\n",
    "print(f'Cantidad de elementos nulos en y:\\n{y_titanic.isnull().sum()}')"
   ]
  },
  {
   "cell_type": "markdown",
   "metadata": {},
   "source": [
    "Se observa que la variable **age (edad)** tiene 263 observaciones nulas, **fare** tiene 1, **cabin (cabina)** tiene 1014 y **embarked** tiene 2. Para solucionar ésto utilizaremos imputación de datos con la moda de la variable, y en algunos casos condiconada con otras variables para lograr mayor acertividad.  \n",
    "\n",
    "- Para *cabin* se utilizará *pclass* y *sex* y se imputará según la moda del grupo.\n",
    "- Para *age* se utilizará *pclass* , *sex*  y *cabin* y se imputará según la moda del grupo.\n",
    "- Para *fare* se utilizará la media de la misma variable."
   ]
  },
  {
   "cell_type": "code",
   "execution_count": 17,
   "metadata": {},
   "outputs": [
    {
     "name": "stdout",
     "output_type": "stream",
     "text": [
      "0\n"
     ]
    }
   ],
   "source": [
    "# reemplazamos con la moda según pclass y sex\n",
    "X_titanic['cabin'] = X_titanic['cabin'].astype('category')\n",
    "# Función para imputar la moda condicionalmente\n",
    "def impute_mode(row):\n",
    "    if pd.isnull(row['cabin']):\n",
    "        mode_value = X_titanic[(X_titanic['pclass'] == row['pclass']) & (X_titanic['sex'] == row['sex'])]['cabin'].mode()\n",
    "        return mode_value[0] if not mode_value.empty else row['cabin']  # Retorna la moda si existe\n",
    "    else:\n",
    "        return row['cabin']\n",
    "# Aplicar la función\n",
    "X_titanic['cabin'] = X_titanic.apply(impute_mode, axis=1)\n",
    "# Comprobar resultados\n",
    "print(X_titanic['cabin'].isnull().sum())"
   ]
  },
  {
   "cell_type": "markdown",
   "metadata": {},
   "source": [
    "De esta forma la variable cabin queda sin observaciones nulas."
   ]
  },
  {
   "cell_type": "code",
   "execution_count": 18,
   "metadata": {},
   "outputs": [
    {
     "name": "stdout",
     "output_type": "stream",
     "text": [
      "16\n"
     ]
    }
   ],
   "source": [
    "# reemplazamos con la moda considerando pclass, sex y cabin\n",
    "X_titanic['age'] = X_titanic['age'].astype('category')\n",
    "# Función para imputar la moda condicionalmente\n",
    "def impute_mode(row):\n",
    "    if pd.isnull(row['age']):\n",
    "        mode_value = X_titanic[(X_titanic['pclass'] == row['pclass']) & (X_titanic['sex'] == row['sex']) & (X_titanic['cabin'] == row['cabin'])]['age'].mode()\n",
    "        return mode_value[0] if not mode_value.empty else row['age']  # Retorna la moda si existe\n",
    "    else:\n",
    "        return row['age']\n",
    "\n",
    "# Aplicar la función\n",
    "X_titanic['age'] = X_titanic.apply(impute_mode, axis=1)\n",
    "# Comprobar resultados\n",
    "print(X_titanic['age'].isnull().sum())"
   ]
  },
  {
   "cell_type": "markdown",
   "metadata": {},
   "source": [
    "Al realizar estos pasos se logra imputar la totalidad de los nulos en *cabin*, sin embargo, en *age* quedan 16 observaciones que no es posible imputar porque no existe una moda para la combinación de valores de las 3 variables en conjunto, por lo tanto en el caso de esas 16 observaciones se imputará con la media de *age* por si sola y queda sin observaciones nulas."
   ]
  },
  {
   "cell_type": "code",
   "execution_count": 19,
   "metadata": {},
   "outputs": [
    {
     "name": "stdout",
     "output_type": "stream",
     "text": [
      "0\n"
     ]
    }
   ],
   "source": [
    "# Calcular la media de la columna 'Age'\n",
    "mean_age = X_titanic['age'].mean()\n",
    "# Imputar los valores faltantes con la media\n",
    "X_titanic.fillna({'age': mean_age}, inplace=True)\n",
    "# Verificar que no haya más valores faltantes en 'Age'\n",
    "print(X_titanic['age'].isnull().sum())\n",
    "\n",
    "# Transformar age a cuatro categorías: Niño, Joven, Adulto y Adulto Mayor\n",
    "X_titanic['age'] = pd.cut(X_titanic['age'], bins=[0, 12, 30, 60, 100], labels=['Nino', 'Joven', 'Adulto', 'Adulto_Mayor'])"
   ]
  },
  {
   "cell_type": "markdown",
   "metadata": {},
   "source": [
    "Para el caso de la variable age se crean 4 categorías: \n",
    "\n",
    "- Niño: De 0 a 12 años (incluye a los niños hasta los 12 años).\n",
    "- Joven: De 13 a 30 años.\n",
    "- Adulto: De 31 a 60 años.\n",
    "- Adulto Mayor: De 61 a 100 años."
   ]
  },
  {
   "cell_type": "code",
   "execution_count": 20,
   "metadata": {},
   "outputs": [
    {
     "name": "stdout",
     "output_type": "stream",
     "text": [
      "0\n",
      "0\n"
     ]
    }
   ],
   "source": [
    "# La columna fare tiene un valor faltante, por lo que se imputa con la media\n",
    "X_titanic.fillna({'fare': X_titanic['fare'].mean()}, inplace=True)\n",
    "# Comprobar resultados\n",
    "print(X_titanic['fare'].isnull().sum())\n",
    "# La columna embarked tiene dos valores faltantes, por lo que se imputa con la moda\n",
    "X_titanic.fillna({'embarked': X_titanic['embarked'].mode()[0]}, inplace=True)\n",
    "# Comprobar resultados\n",
    "print(X_titanic['embarked'].isnull().sum())"
   ]
  },
  {
   "cell_type": "markdown",
   "metadata": {},
   "source": [
    "De esta forma la variable fare y embarked queda sin observaciones nulas."
   ]
  },
  {
   "cell_type": "markdown",
   "metadata": {},
   "source": [
    "En el caso de variables **embarked**, **sex** y **age** se realiza el preprocesamiento de las columnas categóricas, utilizando la función pd.get_dummies() para convertirlas en variables dummy. \n",
    "\n",
    "En el primer código, las columnas embarked y sex se transforman en variables dummy y, con el parámetro drop_first=True, se elimina una categoría de cada una (por ejemplo, la categoría \"female\" para sex) para evitar la multicolinealidad, reduciendo el número de columnas generadas. \n",
    "\n",
    "En el segundo código, la columna age, que previamente fue agrupada en categorías como Niño, Joven, Adulto y Adulto Mayor, también se convierte en variables dummy, pero en este caso se conserva cada una de las categorías sin eliminar ninguna con drop_first=False, generando una columna por cada grupo de edad. Este proceso facilita el uso de estas variables categóricas en modelos de Machine Learning, que requieren datos numéricos para su procesamiento."
   ]
  },
  {
   "cell_type": "code",
   "execution_count": 21,
   "metadata": {},
   "outputs": [],
   "source": [
    "# La columna 'embarked' y 'sex' son categóricas, por lo que se convierten en dummies\n",
    "X_titanic = pd.get_dummies(X_titanic, columns=['embarked', 'sex'], drop_first=True)\n",
    "X_titanic = pd.get_dummies(X_titanic, columns=['age'], drop_first=False)"
   ]
  },
  {
   "cell_type": "markdown",
   "metadata": {},
   "source": [
    "En el caso de variables **name**, **ticket** y **cabin** se toma la decisión de eliminarlas, ya que no aportan información útil para la predicción que se realiza. Se consideran como variables descriptivas o como identificadores únicos sin relevancia para el modelo de supervivencia."
   ]
  },
  {
   "cell_type": "code",
   "execution_count": 22,
   "metadata": {},
   "outputs": [
    {
     "name": "stdout",
     "output_type": "stream",
     "text": [
      "      pclass  sibsp  parch      fare  embarked_Q  embarked_S  sex_male  \\\n",
      "0          1      0      0  211.3375       False        True     False   \n",
      "1          1      1      2  151.5500       False        True      True   \n",
      "2          1      1      2  151.5500       False        True     False   \n",
      "3          1      1      2  151.5500       False        True      True   \n",
      "4          1      1      2  151.5500       False        True     False   \n",
      "...      ...    ...    ...       ...         ...         ...       ...   \n",
      "1304       3      1      0   14.4542       False       False     False   \n",
      "1305       3      1      0   14.4542       False       False     False   \n",
      "1306       3      0      0    7.2250       False       False      True   \n",
      "1307       3      0      0    7.2250       False       False      True   \n",
      "1308       3      0      0    7.8750       False        True      True   \n",
      "\n",
      "      age_Nino  age_Joven  age_Adulto  age_Adulto_Mayor  \n",
      "0        False       True       False             False  \n",
      "1         True      False       False             False  \n",
      "2         True      False       False             False  \n",
      "3        False       True       False             False  \n",
      "4        False       True       False             False  \n",
      "...        ...        ...         ...               ...  \n",
      "1304     False       True       False             False  \n",
      "1305     False       True       False             False  \n",
      "1306     False       True       False             False  \n",
      "1307     False       True       False             False  \n",
      "1308     False       True       False             False  \n",
      "\n",
      "[1309 rows x 11 columns]\n"
     ]
    }
   ],
   "source": [
    "# Se eliminan las columnas 'name', 'ticket' y 'cabin' del dataset pertenecen a variables identificadoras\n",
    "X_titanic_final = X_titanic.drop(['name', 'ticket', 'cabin'], axis=1)\n",
    "print(X_titanic_final)"
   ]
  },
  {
   "cell_type": "code",
   "execution_count": 23,
   "metadata": {},
   "outputs": [
    {
     "name": "stdout",
     "output_type": "stream",
     "text": [
      "   pclass  sibsp  parch      fare  embarked_Q  embarked_S  sex_male  age_Nino  \\\n",
      "0       1      0      0  211.3375       False        True     False     False   \n",
      "1       1      1      2  151.5500       False        True      True      True   \n",
      "2       1      1      2  151.5500       False        True     False      True   \n",
      "3       1      1      2  151.5500       False        True      True     False   \n",
      "4       1      1      2  151.5500       False        True     False     False   \n",
      "\n",
      "   age_Joven  age_Adulto  age_Adulto_Mayor  \n",
      "0       True       False             False  \n",
      "1      False       False             False  \n",
      "2      False       False             False  \n",
      "3       True       False             False  \n",
      "4       True       False             False  \n"
     ]
    }
   ],
   "source": [
    "# Mostrar las primeras filas del DataFrame\n",
    "print(X_titanic_final.head())"
   ]
  },
  {
   "cell_type": "markdown",
   "metadata": {},
   "source": [
    "## 5.1. Regresión Logística  "
   ]
  },
  {
   "cell_type": "markdown",
   "metadata": {},
   "source": [
    "La regresión logística es un modelo de clasificación supervisado utilizado para predecir la probabilidad de que un evento binario ocurra, en este caso, si un pasajero del Titanic sobrevivió o no. A diferencia de la regresión lineal, que predice valores continuos, la regresión logística genera una probabilidad entre 0 y 1, facilitando la clasificación en dos categorías (sobrevivencia o no). Se utilizarán características como la clase del boleto (pclass), el sexo (sex), la edad (age), y el número de familiares a bordo (sibsp y parch), entre otras, para predecir la probabilidad de supervivencia de los pasajeros. La regresión logística permite no solo predecir si un pasajero sobrevivió, sino también evaluar qué características tienen mayor influencia en las probabilidades de supervivencia, brindando un modelo interpretativo y predictivo basado en estas características."
   ]
  },
  {
   "cell_type": "markdown",
   "metadata": {},
   "source": [
    "- Utiliza el 80% de los datos para entrenar el modelo y el 20% restante para probar su rendimiento.\n",
    "- Instanciamos el modelo de LogisticRegression y lo ajustsamos a los datos de entrenamiento.\n",
    "- Utilizamos el modelo entrenado para predecir los resultados en el conjunto de prueba y evaluamos su rendimiento."
   ]
  },
  {
   "cell_type": "code",
   "execution_count": 24,
   "metadata": {
    "id": "t6QGVyZgZmMQ"
   },
   "outputs": [],
   "source": [
    "# Dividir los datos en entrenamiento y prueba utilizando X_titanic_final\n",
    "X_train, X_test, y_train, y_test = train_test_split(X_titanic_final, y_titanic, test_size=0.2, random_state=42)\n",
    "\n",
    "# Entrenar un modelo de regresión logística\n",
    "rl_model = LogisticRegression(max_iter=10000)\n",
    "rl_model.fit(X_train, y_train)\n",
    "\n",
    "# Hacer predicciones\n",
    "y_pred = rl_model.predict(X_test)"
   ]
  },
  {
   "cell_type": "markdown",
   "metadata": {
    "id": "JsHAqdhta9ZD"
   },
   "source": [
    "El conjunto de entrenamiento (X_train y y_train) se utiliza para ajustar el modelo de regresión logística, donde X_train contiene las características del modelo (como clase, edad, sexo, etc.) y y_train contiene la variable objetivo (supervivencia: 0 o 1). Luego, el modelo entrenado se utiliza para hacer predicciones sobre el conjunto de prueba (X_test), generando las predicciones de supervivencia (y_pred), que luego se pueden comparar con los valores reales para evaluar la precisión del modelo."
   ]
  },
  {
   "cell_type": "code",
   "execution_count": 25,
   "metadata": {
    "colab": {
     "base_uri": "https://localhost:8080/"
    },
    "id": "F3KwLCxFcScC",
    "outputId": "5571ab8d-4b35-424e-fcb0-603c643d7269"
   },
   "outputs": [
    {
     "name": "stdout",
     "output_type": "stream",
     "text": [
      "Matriz de confusión:\n",
      " [[125  19]\n",
      " [ 46  72]]\n"
     ]
    }
   ],
   "source": [
    "# Calcular la matriz de confusión\n",
    "conf_matrix = confusion_matrix(y_test, y_pred)\n",
    "print(\"Matriz de confusión:\\n\", conf_matrix)"
   ]
  },
  {
   "cell_type": "code",
   "execution_count": 26,
   "metadata": {
    "colab": {
     "base_uri": "https://localhost:8080/",
     "height": 472
    },
    "id": "Q5DLX3zXbh5a",
    "outputId": "fefe5e89-858c-4edc-c086-6edf87dc3612"
   },
   "outputs": [
    {
     "data": {
      "image/png": "[encoded data removed]",
      "text/plain": [
       "<Figure size 640x480 with 2 Axes>"
      ]
     },
     "metadata": {},
     "output_type": "display_data"
    }
   ],
   "source": [
    "# Graficar la matriz de confusión\n",
    "sns.heatmap(conf_matrix, annot=True, fmt='d', cmap='Blues', xticklabels=['No sobrevivió', 'Sobrevivió'], yticklabels=['No sobrevivió', 'Sobrevivió'])\n",
    "plt.ylabel('Valor Real')\n",
    "plt.xlabel('Predicción')\n",
    "plt.title('Matriz de Confusión RL')\n",
    "plt.show()"
   ]
  },
  {
   "cell_type": "markdown",
   "metadata": {},
   "source": [
    "En la matriz se evalúa el rendimiento del modelo de regresión logística aplicado a la predicción de la supervivencia en el Titanic. Se observa lo siguiente:\n",
    "- 126 verdaderos negativos (pasajeros que no sobrevivieron y fueron correctamente clasificados).\n",
    "- 72 verdaderos positivos (pasajeros que sobrevivieron y fueron correctamente clasificados).\n",
    "- 18 falsos positivos (pasajeros que no sobrevivieron pero fueron incorrectamente predichos como sobrevivientes).\n",
    "- 46 falsos negativos (pasajeros que sobrevivieron pero fueron incorrectamente predichos como no sobrevivientes)\n",
    "\n",
    "Esta visualización permite analizar en qué casos el modelo comete errores y en cuáles acierta, dando una idea clara de su efectividad."
   ]
  },
  {
   "cell_type": "code",
   "execution_count": 27,
   "metadata": {},
   "outputs": [
    {
     "name": "stdout",
     "output_type": "stream",
     "text": [
      "Exactitud del modelo (RL): 0.7519\n",
      "Recall del modelo (RL): 0.6102\n",
      "Precisión del modelo (RL): 0.7912\n",
      "F1-score del modelo (RL): 0.6890\n"
     ]
    }
   ],
   "source": [
    "#Calculo de métricas\n",
    "# Calcular la precisión (accuracy), recall, precisión (precision) y F1-score\n",
    "accuracy_rl = accuracy_score(y_test, y_pred)\n",
    "recall_rl = recall_score(y_test, y_pred, pos_label='1')\n",
    "precision_rl = precision_score(y_test, y_pred, pos_label='1')\n",
    "f1_rl = f1_score(y_test, y_pred, pos_label='1')\n",
    "\n",
    "# Mostrar los resultados\n",
    "print(f\"Exactitud del modelo (RL): {accuracy_rl:.4f}\")\n",
    "print(f\"Recall del modelo (RL): {recall_rl:.4f}\")\n",
    "print(f\"Precisión del modelo (RL): {precision_rl:.4f}\")\n",
    "print(f\"F1-score del modelo (RL): {f1_rl:.4f}\")"
   ]
  },
  {
   "cell_type": "markdown",
   "metadata": {},
   "source": [
    "Con este código se calculan las métricas claves para evaluar el rendimiento del modelo de regresión logística: exactitud (accuracy), recall, precisión (precision) y F1-score:\n",
    "\n",
    "**- Exactitud (accuracy):** el modelo tiene una exactitud del 75.57%, lo que significa que, en general, el 75.57% de las predicciones realizadas por el modelo fueron correctas. Este es un resultado razonable, pero indica que el modelo comete errores en alrededor del 24.43% de los casos.\n",
    "\n",
    "**- Recall:** el recall del 61.02% muestra que el modelo identifica correctamente al 61.02% de los pasajeros que realmente sobrevivieron. Este valor sugiere que el modelo tiene dificultades para detectar correctamente a todos los supervivientes, dejando una parte significativa sin identificar (falsos negativos).\n",
    "\n",
    "**- Precisión (precision):** la precisión del 80.00% indica que cuando el modelo predice que un pasajero sobrevivió, tiene un 80% de probabilidad de ser correcto. Esto significa que los falsos positivos (predecir que alguien sobrevivió cuando no lo hizo) no son muy frecuentes.\n",
    "\n",
    "**- F1-score:** el F1-score de 0.6923 es una combinación de precision y recall, y proporciona un balance entre ambas métricas. El valor de 0.69 indica que el modelo tiene un rendimiento razonable, pero hay margen para mejorar, especialmente en la detección de los verdaderos supervivientes."
   ]
  },
  {
   "cell_type": "code",
   "execution_count": 28,
   "metadata": {},
   "outputs": [
    {
     "name": "stdout",
     "output_type": "stream",
     "text": [
      "Coeficiente de age_Nino: 1.4054\n",
      "Coeficiente de age_Joven: -0.2909\n",
      "Coeficiente de age_Adulto: -0.2513\n",
      "Coeficiente de age_Adulto_Mayor: -0.8518\n"
     ]
    }
   ],
   "source": [
    "coefficients = pd.DataFrame(rl_model.coef_, columns=X_train.columns)\n",
    "\n",
    "print(f'Coeficiente de age_Nino: {coefficients[\"age_Nino\"].values[0]:0.4f}')\n",
    "print(f'Coeficiente de age_Joven: {coefficients[\"age_Joven\"].values[0]:0.4f}')\n",
    "print(f'Coeficiente de age_Adulto: {coefficients[\"age_Adulto\"].values[0]:0.4f}')\n",
    "print(f'Coeficiente de age_Adulto_Mayor: {coefficients[\"age_Adulto_Mayor\"].values[0]:0.4f}')"
   ]
  },
  {
   "cell_type": "markdown",
   "metadata": {},
   "source": [
    "Estos coeficientes indican el impacto de cada variable sobre la probabilidad de que ocurra el evento (que un pasajero haya sobrevivido):\n",
    "\n",
    "- Coeficiente positivo: Indica que, a medida que la variable aumenta, también lo hace la probabilidad de supervivencia.\n",
    "- Coeficiente negativo: Indica que, a medida que la variable aumenta, disminuye la probabilidad de supervivencia.\n",
    "\n",
    "Se puede ver que a medida que la edad aumenta, la probabilidad de sobrevivir disminuye. En este sentido, se puede observar que si el pasajero es niño, existe una relación positiva con la probabilidad de sobrevivir. Esta probabilidad disminuye a medida que la edad aumenta siendo la edad de adulto mayor la que tiene una mayor probabilidad de no sobrevivir."
   ]
  },
  {
   "cell_type": "markdown",
   "metadata": {},
   "source": [
    "En conclusión, se utiliza un modelo de regresión logística para predecir la supervivencia de los pasajeros del Titanic. Para evaluar su rendimiento, se genera una matriz de confusión que permite observar la clasificación de los pasajeros en cuatro categorías: verdaderos negativos, falsos positivos, falsos negativos y verdaderos positivos. La matriz muestra que el modelo clasifica correctamente a 126 pasajeros que no sobrevivieron y a 72 pasajeros que sí lo hicieron. Esto sugiere que el modelo es relativamente eficaz en identificar tanto a los pasajeros que no sobrevivieron como a los que lograron sobrevivir. Sin embargo, también se observan 18 falsos positivos, donde el modelo predice erróneamente que el pasajero sobrevivió, y 46 falsos negativos, donde predice que no sobrevivió cuando en realidad sí lo hizo.\n",
    "\n",
    "La alta cantidad de falsos negativos sugiere que el modelo tiene dificultades para identificar correctamente a algunos supervivientes, lo que podría tener implicaciones en un contexto donde la identificación de la clase positiva es crucial. Este resultado sugiere que el modelo podría beneficiarse de ajustes adicionales, como la regularización o la optimización de hiperparámetros, para mejorar la precisión en la clasificación. Además, sería útil analizar en mayor detalle las características del dataset para entender mejor qué factores están contribuyendo a estos errores, lo que podría conducir a mejoras mediante la creación de nuevas variables o la aplicación de técnicas más avanzadas de ingeniería de características. En resumen, aunque el modelo presenta un buen desempeño general, aún existe margen para mejorar la precisión en la predicción de la supervivencia de los pasajeros."
   ]
  },
  {
   "cell_type": "markdown",
   "metadata": {},
   "source": [
    "## 5.2. Naive Bayes"
   ]
  },
  {
   "cell_type": "markdown",
   "metadata": {},
   "source": [
    "El modelo de Naive Bayes es un clasificador supervisado basado en la teoría de probabilidades que se utiliza para predecir la categoría a la que pertenece una instancia, en este caso, si un pasajero del Titanic sobrevivió o no. A diferencia de otros modelos, Naive Bayes asume que todas las características son independientes entre sí, lo que simplifica el cálculo de probabilidades. A pesar de esta suposición simplificadora, el modelo es eficaz y rápido para muchos problemas de clasificación. En este caso, características como la clase del boleto (pclass), el sexo (sex), la edad (age) y el número de familiares a bordo (sibsp y parch), entre otras, serán utilizadas para predecir si un pasajero sobrevivió.\n",
    "\n",
    "El modelo de Naive Bayes calcula la probabilidad condicional de que un pasajero pertenezca a una de las dos clases posibles (sobrevivió o no), y realiza la clasificación en base a la clase con mayor probabilidad. "
   ]
  },
  {
   "cell_type": "markdown",
   "metadata": {},
   "source": [
    "Se crea un modelo Naive Bayes basado en la suposición de que las características siguen una distribución gaussiana."
   ]
  },
  {
   "cell_type": "markdown",
   "metadata": {},
   "source": [
    "- Utiliza el 80% de los datos para entrenar el modelo y el 20% restante para probar su rendimiento.\n",
    "- Se crea un modelo de Naive Bayes Gaussiano con GaussianNB(), que asume que las características siguen una distribución normal."
   ]
  },
  {
   "cell_type": "code",
   "execution_count": 29,
   "metadata": {},
   "outputs": [],
   "source": [
    "# Supongamos que X es tu DataFrame con las características y y es la variable objetivo\n",
    "# Dividir los datos en entrenamiento y prueba (80% entrenamiento, 20% prueba)\n",
    "X_train, X_test, y_train, y_test = train_test_split(X_titanic_final, y_titanic, test_size=0.2, random_state=42)\n",
    "\n",
    "# Crear el modelo Naive Bayes\n",
    "nb_model = GaussianNB()\n",
    "\n",
    "# Entrenar el modelo Naive Bayes\n",
    "nb_model.fit(X_train, y_train)\n",
    "\n",
    "# Hacer predicciones en el conjunto de prueba\n",
    "y_pred_nb = nb_model.predict(X_test)"
   ]
  },
  {
   "cell_type": "markdown",
   "metadata": {},
   "source": [
    "Se evalúa el rendimiento del modelo de Naive Bayes que fue entrenado anteriormente y utiliza tres métricas clave para hacer esto: exactitud, matriz de confusión, y reporte de clasificación."
   ]
  },
  {
   "cell_type": "markdown",
   "metadata": {},
   "source": [
    "El conjunto de entrenamiento (X_train y y_train) se utiliza para ajustar el modelo de naive bayes, donde X_train contiene las características del modelo (como clase, edad, sexo, etc.) y y_train contiene la variable objetivo (supervivencia: 0 o 1). El modelo entrenado se utiliza para hacer predicciones sobre el conjunto de prueba (X_test), generando las predicciones de supervivencia (y_pred), que luego se pueden comparar con los valores reales para evaluar la precisión del modelo."
   ]
  },
  {
   "cell_type": "code",
   "execution_count": 30,
   "metadata": {},
   "outputs": [
    {
     "name": "stdout",
     "output_type": "stream",
     "text": [
      "Exactitud del modelo Naive Bayes: 0.7634\n"
     ]
    }
   ],
   "source": [
    "# Calcular la exactitud\n",
    "accuracy_nb = accuracy_score(y_test, y_pred_nb)\n",
    "print(f\"Exactitud del modelo Naive Bayes: {accuracy_nb:.4f}\")"
   ]
  },
  {
   "cell_type": "code",
   "execution_count": 31,
   "metadata": {},
   "outputs": [
    {
     "name": "stdout",
     "output_type": "stream",
     "text": [
      "Matriz de confusión Naive Bayes:\n",
      " [[125  19]\n",
      " [ 43  75]]\n"
     ]
    }
   ],
   "source": [
    "# Mostrar la matriz de confusión\n",
    "conf_matrix_nb = confusion_matrix(y_test, y_pred_nb)\n",
    "print(\"Matriz de confusión Naive Bayes:\\n\", conf_matrix_nb)\n"
   ]
  },
  {
   "cell_type": "code",
   "execution_count": 32,
   "metadata": {},
   "outputs": [
    {
     "data": {
      "image/png": "[encoded data removed]",
      "text/plain": [
       "<Figure size 640x480 with 2 Axes>"
      ]
     },
     "metadata": {},
     "output_type": "display_data"
    }
   ],
   "source": [
    "# Graficar la matriz de confusión\n",
    "sns.heatmap(conf_matrix_nb, annot=True, fmt='d', cmap='Blues', xticklabels=['No sobrevivió', 'Sobrevivió'], yticklabels=['No sobrevivió', 'Sobrevivió'])\n",
    "plt.ylabel('Valor Real')\n",
    "plt.xlabel('Predicción')\n",
    "plt.title('Matriz de Confusión NB')\n",
    "plt.show()"
   ]
  },
  {
   "cell_type": "code",
   "execution_count": 33,
   "metadata": {},
   "outputs": [
    {
     "name": "stdout",
     "output_type": "stream",
     "text": [
      "Exactitud del modelo (NB): 0.7519\n",
      "Recall del modelo (NB): 0.6102\n",
      "Precisión del modelo (NB): 0.7912\n",
      "F1-score del modelo (NB): 0.6890\n"
     ]
    }
   ],
   "source": [
    "#Calculo de métricas\n",
    "# Calcular la precisión (accuracy), recall, precisión (precision) y F1-score\n",
    "accuracy_nb = accuracy_score(y_test, y_pred)\n",
    "recall_nb = recall_score(y_test, y_pred, pos_label='1')\n",
    "precision_nb = precision_score(y_test, y_pred, pos_label='1')\n",
    "f1_nb = f1_score(y_test, y_pred, pos_label='1')\n",
    "\n",
    "# Mostrar los resultados\n",
    "print(f\"Exactitud del modelo (NB): {accuracy_nb:.4f}\")\n",
    "print(f\"Recall del modelo (NB): {recall_nb:.4f}\")\n",
    "print(f\"Precisión del modelo (NB): {precision_nb:.4f}\")\n",
    "print(f\"F1-score del modelo (NB): {f1_nb:.4f}\")"
   ]
  },
  {
   "cell_type": "markdown",
   "metadata": {},
   "source": [
    "Con este código se calculan las métricas clave para evaluar el rendimiento del modelo de Naive Bayes: exactitud (accuracy), recall, precisión (precision) y F1-score.\n",
    "\n",
    "**- Exactitud (accuracy):** El modelo tiene una exactitud del 75.57%, lo que significa que el 75.57% de las predicciones realizadas por el modelo fueron correctas. Este es un resultado aceptable, pero indica que el modelo comete errores en alrededor del 24.43% de los casos.\n",
    "\n",
    "**- Recall:** El recall del 61.02% indica que el modelo identifica correctamente el 61.02% de los pasajeros que realmente sobrevivieron. Esto sugiere que el modelo tiene dificultades para identificar a todos los supervivientes, ya que deja sin detectar una parte significativa de ellos (falsos negativos).\n",
    "\n",
    "**- Precisión (precision):** La precisión del 80.00% muestra que cuando el modelo predice que un pasajero sobrevivió, tiene un 80% de probabilidad de ser correcto. Esto indica que los falsos positivos (predecir que alguien sobrevivió cuando en realidad no lo hizo) no son muy frecuentes.\n",
    "\n",
    "**- F1-score:** El F1-score de 0.6923 es una combinación de precision y recall, y proporciona un balance entre ambas métricas. El valor de 0.69 sugiere que el modelo tiene un rendimiento razonable, pero existe margen de mejora, especialmente en la detección correcta de los supervivientes."
   ]
  },
  {
   "cell_type": "markdown",
   "metadata": {},
   "source": [
    "# Destino de los pasajeros"
   ]
  },
  {
   "cell_type": "markdown",
   "metadata": {},
   "source": [
    "Tras haber entrenado los modelos de Naive Bayes y regresión logística para predecir la supervivencia de los pasajeros del Titanic, ahora se busca evaluar su desempeño en dos casos específicos: `Miss Helene Ragnhild Ostby` y `Mr. Frederick Edward Giles`. Para ello, se extraen los datos de estos pasajeros del dataset, eliminando columnas identificadoras como el nombre, el ticket y la cabina, que no influyen en la predicción. A continuación, se aplican ambos modelos para predecir si cada uno de estos pasajeros sobrevivió o no. \n",
    "\n",
    "Finalmente, se comparan las predicciones de ambos modelos con el valor real de supervivencia de estos pasajeros, lo que permitirá verificar la precisión de las predicciones en casos individuales y evaluar el comportamiento de los modelos en ejemplos concretos."
   ]
  },
  {
   "cell_type": "markdown",
   "metadata": {},
   "source": [
    "`Miss Helene Ragnhild Ostby:`"
   ]
  },
  {
   "cell_type": "code",
   "execution_count": 34,
   "metadata": {},
   "outputs": [
    {
     "name": "stdout",
     "output_type": "stream",
     "text": [
      "Miss Helene Ragnhild Ostby sobrevivió según predicción Naive Bayes: Sí\n",
      "Miss Helene Ragnhild Ostby sobrevivió según predicción Regresión Logística: Sí\n",
      "Miss Helene Ragnhild Ostby sobrevivió según valor real: Sí\n"
     ]
    }
   ],
   "source": [
    "# Se busca a la persona en el dataset\n",
    "person1 = X_titanic[X_titanic['name'].str.contains('Helene Ragnhild')]\n",
    "\n",
    "# Se eliminan las columnas no necesarias (name, ticket, cabin)\n",
    "person1_clean = person1.drop(['name', 'ticket', 'cabin'], axis=1)\n",
    "\n",
    "# Se realizan predicciones con ambos modelos\n",
    "survived_nb = nb_model.predict(person1_clean)\n",
    "survived_rl = rl_model.predict(person1_clean)\n",
    "\n",
    "# Se obtiene el valor real de supervivencia\n",
    "index_person1 = person1.index[0]\n",
    "real_survival_person1 = y_titanic[index_person1]\n",
    "\n",
    "# Mostrar los resultados\n",
    "print(f\"Miss Helene Ragnhild Ostby sobrevivió según predicción Naive Bayes: {'Sí' if int(survived_nb[0]) else 'No'}\")\n",
    "print(f\"Miss Helene Ragnhild Ostby sobrevivió según predicción Regresión Logística: {'Sí' if int(survived_rl[0]) else 'No'}\")\n",
    "print(f\"Miss Helene Ragnhild Ostby sobrevivió según valor real: {'Sí' if real_survival_person1 == '1' else 'No'}\")"
   ]
  },
  {
   "cell_type": "code",
   "execution_count": 36,
   "metadata": {},
   "outputs": [
    {
     "name": "stdout",
     "output_type": "stream",
     "text": [
      "Mr. Frederick Edward Giles sobrevivió según predicción Naive Bayes: No\n",
      "Mr. Frederick Edward Giles sobrevivió según predicción Regresión Logística: No\n",
      "Mr. Frederick Edward Giles sobrevivió según valor real: No\n"
     ]
    }
   ],
   "source": [
    "# Se busca a la persona en el dataset\n",
    "person2 = X_titanic[X_titanic['name'].str.contains('Frederick Edward')]\n",
    "\n",
    "# Se eliminan las columnas no necesarias (name, ticket, cabin)\n",
    "person2_clean = person2.drop(['name', 'ticket', 'cabin'], axis=1)\n",
    "\n",
    "# Se realizan predicciones con ambos modelos\n",
    "survived_nb2 = nb_model.predict(person2_clean)\n",
    "survived_rl2 = rl_model.predict(person2_clean)\n",
    "\n",
    "# Se obtiene el valor real de supervivencia\n",
    "index_person2 = person2.index[0]\n",
    "real_survival_person2 = y_titanic[index_person2]\n",
    "\n",
    "# Mostrar los resultados\n",
    "print(f\"Mr. Frederick Edward Giles sobrevivió según predicción Naive Bayes: {'Sí' if int(survived_nb2[0]) else 'No'}\")\n",
    "print(f\"Mr. Frederick Edward Giles sobrevivió según predicción Regresión Logística: {'Sí' if int(survived_rl2[0]) else 'No'}\")\n",
    "print(f\"Mr. Frederick Edward Giles sobrevivió según valor real: {'Sí' if real_survival_person2 == '1' else 'No'}\")"
   ]
  }
 ],
 "metadata": {
  "colab": {
   "provenance": []
  },
  "kernelspec": {
   "display_name": ".venv",
   "language": "python",
   "name": "python3"
  },
  "language_info": {
   "codemirror_mode": {
    "name": "ipython",
    "version": 3
   },
   "file_extension": ".py",
   "mimetype": "text/x-python",
   "name": "python",
   "nbconvert_exporter": "python",
   "pygments_lexer": "ipython3",
   "version": "3.10.9"
  }
 },
 "nbformat": 4,
 "nbformat_minor": 4
}
