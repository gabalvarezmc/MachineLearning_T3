{
 "cells": [
  {
   "cell_type": "markdown",
   "metadata": {},
   "source": [
    "# Tarea N°3\n",
    "\n",
    "\n",
    "<div>\n",
    "<img src=\"https://i.ibb.co/v3CvVz9/udd-short.png\" width=\"150\"/>\n",
    "    <br>\n",
    "    <strong>Universidad del Desarrollo</strong><br>\n",
    "    <em>Profesor: Tomás Fontecilla </em><br>\n",
    "\n",
    "</div>\n",
    "\n",
    "# Machine Learning: Laboratorio 03\n",
    "*12 de Octubre de 2024*\n",
    "\n",
    "**Nombre Estudiante(s)**: `Gabriel Álvarez Martínez - Valeska Farías Caicedo - Constanza Perez Pulido - Rosario Valderrama Labarca\n",
    "\n",
    "\n",
    "## 1. Objetivo\n",
    "\n",
    "En este laboratorio deberá *aplicar* los algoritmos aprendidos en la clase e investigar del uso de la libreria python scikit-learn y sus funciones más útiles para estos métodos. Su meta es realizar un análisis de datos completo probando los distintos métodos supervisados vistos hasta ahora (Naive Bayes, Análisis de Discriminante, Regresión Logística).\n",
    "\n",
    "Para esto utilizará la base load_breast_cancer anteriormente utilizada. Además los siguientes comandos de la librería sklearn, para la siguiente base:\n",
    "\n",
    "```\n",
    "# X, y =fetch_openml(\"titanic\", version=1, as_frame=True, return_X_y=True)\n",
    "X.drop(['boat', 'body', 'home.dest'], axis=1, inplace=Tru```\n",
    "```"
   ]
  },
  {
   "cell_type": "markdown",
   "metadata": {},
   "source": [
    "Por último, nos gustaría saber el destino de los dos pasajeros de los cuales se presentan sus boletos en el Titanic. También, nos interesa entender si la edad es un elemento determinante para la sobrevida."
   ]
  },
  {
   "cell_type": "markdown",
   "metadata": {},
   "source": [
    "## 2. Introducción  \n",
    "\n",
    "En el presente laboratorio se utilizaron dos dataframe:\n",
    "\n",
    "- load_breast_cancer, con el cual se pretende entrenar un modelo para predecir si el tumor de un paciente es maligno o benigno.\n",
    "- titanic, cel este df se desea predecir si los pasajeros sobreviven o no.\n",
    "\n",
    "Para lograr lo anterior, se utilizaron algoritmos de clasificación supervisados, para eso se utilizará Análisis de Discriminante Lineal (LDA) con el primer df (load_breast_cancer) y se realizará una regresión lineal además de  Naive Bayes para el df Titanic.\n",
    "\n",
    "Adcionalmente, se desea conocer el destino de dos pasajeros en específico que mantienen las siguientes caracteristicas según su ticket de embarque:  \n",
    "\n",
    "Pasajero N°1:  \n",
    "\n",
    "  - Nombre: Miss Helene ragnhild Ostby\n",
    "  - Sexo: Femenino\n",
    "  - Edad: 22 años\n",
    "  - Clase en la que viaja: 1ra. clase\n",
    "  - Cabin: B-36\n",
    "  - Embarque: Cherbourg  \n",
    "\n",
    "Pasajero N°2:  \n",
    "  - Nombre: Mr. Frederick Edward Giles\n",
    "  - Sexo: Masculino\n",
    "  - Edad: 21\n",
    "  - Clase en la que viaja: 2da. clase\n",
    "  - Cabin: Desconocida\n",
    "  - Embarque: Southampton  \n",
    "\n",
    "Para predecir si los dos pasajeros indicados sobreviven o no, se utiliza un árbol de clasificación que será entrenado para identificar las caracteristicas de los pasajeros que sobreviven y los que no, luego de eso podremos determinar el destino de ambos. el destino de ambos."
   ]
  },
  {
   "cell_type": "markdown",
   "metadata": {},
   "source": [
    "## 3. Importación de paquetes"
   ]
  },
  {
   "cell_type": "code",
   "execution_count": 5,
   "metadata": {
    "id": "ZxuDJge7J8pF"
   },
   "outputs": [],
   "source": [
    "import pandas as pd\n",
    "import numpy as np   \n",
    "import matplotlib.pyplot as plt\n",
    "import seaborn as sns\n",
    "from sklearn.datasets import load_breast_cancer\n",
    "from sklearn.model_selection import train_test_split\n",
    "from sklearn.preprocessing import StandardScaler\n",
    "from sklearn.cluster import KMeans\n",
    "from sklearn.naive_bayes import GaussianNB\n",
    "from sklearn.discriminant_analysis import LinearDiscriminantAnalysis\n",
    "from sklearn.metrics import accuracy_score, recall_score, confusion_matrix\n",
    "from sklearn.metrics import precision_score\n"
   ]
  },
  {
   "cell_type": "markdown",
   "metadata": {},
   "source": [
    "## 4. Obtención del Dataset"
   ]
  },
  {
   "cell_type": "markdown",
   "metadata": {},
   "source": [
    "### 4.1. load_brest_cancer\n",
    "\n",
    "Detalles del dataset:  \n",
    "\n",
    "El data frame contiene 569 filas con datos de pacientes con tumores, los cuales, pueden ser malignos o benignos, esto se determina según las caracteristicas del tumor que están descritas en distintas variables, como \"promedio del radio\", \"promedio de la textura\", \"promedio del perimetro\", entre otras.\n",
    "\n",
    "Sus variables se componen por 30 características numéricas que describen las propiedades de los núcleos celulares presentes en una imagen digitalizada de un tumor. Se busca determinar si el tumor es maligno o benigno.\n",
    "\n",
    "Contiene: \n",
    "- Número de registros: 569.\n",
    "- target: 0 si es maligno y 1 si es benigno."
   ]
  },
  {
   "cell_type": "code",
   "execution_count": 8,
   "metadata": {
    "id": "V_FGwcb5KQGl"
   },
   "outputs": [],
   "source": [
    "df_cancer = pd.DataFrame(load_breast_cancer().data,columns = load_breast_cancer().feature_names)"
   ]
  },
  {
   "cell_type": "markdown",
   "metadata": {},
   "source": [
    "Las variables son las siguientes:"
   ]
  },
  {
   "cell_type": "code",
   "execution_count": 10,
   "metadata": {
    "colab": {
     "base_uri": "https://localhost:8080/"
    },
    "id": "VpwtogCsKeyM",
    "outputId": "4230a27a-5054-439b-f617-f116f0a4ca6f"
   },
   "outputs": [
    {
     "name": "stdout",
     "output_type": "stream",
     "text": [
      "<class 'pandas.core.frame.DataFrame'>\n",
      "RangeIndex: 569 entries, 0 to 568\n",
      "Data columns (total 30 columns):\n",
      " #   Column                   Non-Null Count  Dtype  \n",
      "---  ------                   --------------  -----  \n",
      " 0   mean radius              569 non-null    float64\n",
      " 1   mean texture             569 non-null    float64\n",
      " 2   mean perimeter           569 non-null    float64\n",
      " 3   mean area                569 non-null    float64\n",
      " 4   mean smoothness          569 non-null    float64\n",
      " 5   mean compactness         569 non-null    float64\n",
      " 6   mean concavity           569 non-null    float64\n",
      " 7   mean concave points      569 non-null    float64\n",
      " 8   mean symmetry            569 non-null    float64\n",
      " 9   mean fractal dimension   569 non-null    float64\n",
      " 10  radius error             569 non-null    float64\n",
      " 11  texture error            569 non-null    float64\n",
      " 12  perimeter error          569 non-null    float64\n",
      " 13  area error               569 non-null    float64\n",
      " 14  smoothness error         569 non-null    float64\n",
      " 15  compactness error        569 non-null    float64\n",
      " 16  concavity error          569 non-null    float64\n",
      " 17  concave points error     569 non-null    float64\n",
      " 18  symmetry error           569 non-null    float64\n",
      " 19  fractal dimension error  569 non-null    float64\n",
      " 20  worst radius             569 non-null    float64\n",
      " 21  worst texture            569 non-null    float64\n",
      " 22  worst perimeter          569 non-null    float64\n",
      " 23  worst area               569 non-null    float64\n",
      " 24  worst smoothness         569 non-null    float64\n",
      " 25  worst compactness        569 non-null    float64\n",
      " 26  worst concavity          569 non-null    float64\n",
      " 27  worst concave points     569 non-null    float64\n",
      " 28  worst symmetry           569 non-null    float64\n",
      " 29  worst fractal dimension  569 non-null    float64\n",
      "dtypes: float64(30)\n",
      "memory usage: 133.5 KB\n"
     ]
    }
   ],
   "source": [
    "df_cancer.info()"
   ]
  },
  {
   "cell_type": "markdown",
   "metadata": {},
   "source": [
    "Antes de realizar el análisis se analizará la existencia de datos nulos."
   ]
  },
  {
   "cell_type": "code",
   "execution_count": 12,
   "metadata": {
    "colab": {
     "base_uri": "https://localhost:8080/"
    },
    "id": "E6RRRoDCmm04",
    "outputId": "08881f33-4488-48a5-da7f-528c907ee4f3"
   },
   "outputs": [
    {
     "name": "stdout",
     "output_type": "stream",
     "text": [
      "Conteo de valores nulos por columna:\n",
      "Series([], dtype: int64)\n"
     ]
    }
   ],
   "source": [
    "null_counts = df_cancer.isnull().sum()\n",
    "\n",
    "print(\"Conteo de valores nulos por columna:\")\n",
    "print(null_counts[null_counts > 0])"
   ]
  },
  {
   "cell_type": "markdown",
   "metadata": {
    "colab": {
     "base_uri": "https://localhost:8080/"
    },
    "id": "zcnOpkB2nEs8",
    "outputId": "d43e8375-2be3-4460-a534-8e1f70c1bfc9"
   },
   "source": [
    "Una vez que se verifica la ausencia de datos nulos, a continuación se presentan algunos datos descriptivos de las variables del df:"
   ]
  },
  {
   "cell_type": "code",
   "execution_count": 14,
   "metadata": {
    "colab": {
     "base_uri": "https://localhost:8080/",
     "height": 253
    },
    "id": "T7q9GnNxKi9V",
    "outputId": "68ad79cf-07d7-460f-fb67-8d8752f85e20"
   },
   "outputs": [
    {
     "data": {
      "text/html": [
       "<div>\n",
       "<style scoped>\n",
       "    .dataframe tbody tr th:only-of-type {\n",
       "        vertical-align: middle;\n",
       "    }\n",
       "\n",
       "    .dataframe tbody tr th {\n",
       "        vertical-align: top;\n",
       "    }\n",
       "\n",
       "    .dataframe thead th {\n",
       "        text-align: right;\n",
       "    }\n",
       "</style>\n",
       "<table border=\"1\" class=\"dataframe\">\n",
       "  <thead>\n",
       "    <tr style=\"text-align: right;\">\n",
       "      <th></th>\n",
       "      <th>mean radius</th>\n",
       "      <th>mean texture</th>\n",
       "      <th>mean perimeter</th>\n",
       "      <th>mean area</th>\n",
       "      <th>mean smoothness</th>\n",
       "      <th>mean compactness</th>\n",
       "      <th>mean concavity</th>\n",
       "      <th>mean concave points</th>\n",
       "      <th>mean symmetry</th>\n",
       "      <th>mean fractal dimension</th>\n",
       "      <th>...</th>\n",
       "      <th>worst radius</th>\n",
       "      <th>worst texture</th>\n",
       "      <th>worst perimeter</th>\n",
       "      <th>worst area</th>\n",
       "      <th>worst smoothness</th>\n",
       "      <th>worst compactness</th>\n",
       "      <th>worst concavity</th>\n",
       "      <th>worst concave points</th>\n",
       "      <th>worst symmetry</th>\n",
       "      <th>worst fractal dimension</th>\n",
       "    </tr>\n",
       "  </thead>\n",
       "  <tbody>\n",
       "    <tr>\n",
       "      <th>count</th>\n",
       "      <td>569.000000</td>\n",
       "      <td>569.000000</td>\n",
       "      <td>569.000000</td>\n",
       "      <td>569.000000</td>\n",
       "      <td>569.000000</td>\n",
       "      <td>569.000000</td>\n",
       "      <td>569.000000</td>\n",
       "      <td>569.000000</td>\n",
       "      <td>569.000000</td>\n",
       "      <td>569.000000</td>\n",
       "      <td>...</td>\n",
       "      <td>569.000000</td>\n",
       "      <td>569.000000</td>\n",
       "      <td>569.000000</td>\n",
       "      <td>569.000000</td>\n",
       "      <td>569.000000</td>\n",
       "      <td>569.000000</td>\n",
       "      <td>569.000000</td>\n",
       "      <td>569.000000</td>\n",
       "      <td>569.000000</td>\n",
       "      <td>569.000000</td>\n",
       "    </tr>\n",
       "    <tr>\n",
       "      <th>mean</th>\n",
       "      <td>14.127292</td>\n",
       "      <td>19.289649</td>\n",
       "      <td>91.969033</td>\n",
       "      <td>654.889104</td>\n",
       "      <td>0.096360</td>\n",
       "      <td>0.104341</td>\n",
       "      <td>0.088799</td>\n",
       "      <td>0.048919</td>\n",
       "      <td>0.181162</td>\n",
       "      <td>0.062798</td>\n",
       "      <td>...</td>\n",
       "      <td>16.269190</td>\n",
       "      <td>25.677223</td>\n",
       "      <td>107.261213</td>\n",
       "      <td>880.583128</td>\n",
       "      <td>0.132369</td>\n",
       "      <td>0.254265</td>\n",
       "      <td>0.272188</td>\n",
       "      <td>0.114606</td>\n",
       "      <td>0.290076</td>\n",
       "      <td>0.083946</td>\n",
       "    </tr>\n",
       "    <tr>\n",
       "      <th>std</th>\n",
       "      <td>3.524049</td>\n",
       "      <td>4.301036</td>\n",
       "      <td>24.298981</td>\n",
       "      <td>351.914129</td>\n",
       "      <td>0.014064</td>\n",
       "      <td>0.052813</td>\n",
       "      <td>0.079720</td>\n",
       "      <td>0.038803</td>\n",
       "      <td>0.027414</td>\n",
       "      <td>0.007060</td>\n",
       "      <td>...</td>\n",
       "      <td>4.833242</td>\n",
       "      <td>6.146258</td>\n",
       "      <td>33.602542</td>\n",
       "      <td>569.356993</td>\n",
       "      <td>0.022832</td>\n",
       "      <td>0.157336</td>\n",
       "      <td>0.208624</td>\n",
       "      <td>0.065732</td>\n",
       "      <td>0.061867</td>\n",
       "      <td>0.018061</td>\n",
       "    </tr>\n",
       "    <tr>\n",
       "      <th>min</th>\n",
       "      <td>6.981000</td>\n",
       "      <td>9.710000</td>\n",
       "      <td>43.790000</td>\n",
       "      <td>143.500000</td>\n",
       "      <td>0.052630</td>\n",
       "      <td>0.019380</td>\n",
       "      <td>0.000000</td>\n",
       "      <td>0.000000</td>\n",
       "      <td>0.106000</td>\n",
       "      <td>0.049960</td>\n",
       "      <td>...</td>\n",
       "      <td>7.930000</td>\n",
       "      <td>12.020000</td>\n",
       "      <td>50.410000</td>\n",
       "      <td>185.200000</td>\n",
       "      <td>0.071170</td>\n",
       "      <td>0.027290</td>\n",
       "      <td>0.000000</td>\n",
       "      <td>0.000000</td>\n",
       "      <td>0.156500</td>\n",
       "      <td>0.055040</td>\n",
       "    </tr>\n",
       "    <tr>\n",
       "      <th>25%</th>\n",
       "      <td>11.700000</td>\n",
       "      <td>16.170000</td>\n",
       "      <td>75.170000</td>\n",
       "      <td>420.300000</td>\n",
       "      <td>0.086370</td>\n",
       "      <td>0.064920</td>\n",
       "      <td>0.029560</td>\n",
       "      <td>0.020310</td>\n",
       "      <td>0.161900</td>\n",
       "      <td>0.057700</td>\n",
       "      <td>...</td>\n",
       "      <td>13.010000</td>\n",
       "      <td>21.080000</td>\n",
       "      <td>84.110000</td>\n",
       "      <td>515.300000</td>\n",
       "      <td>0.116600</td>\n",
       "      <td>0.147200</td>\n",
       "      <td>0.114500</td>\n",
       "      <td>0.064930</td>\n",
       "      <td>0.250400</td>\n",
       "      <td>0.071460</td>\n",
       "    </tr>\n",
       "    <tr>\n",
       "      <th>50%</th>\n",
       "      <td>13.370000</td>\n",
       "      <td>18.840000</td>\n",
       "      <td>86.240000</td>\n",
       "      <td>551.100000</td>\n",
       "      <td>0.095870</td>\n",
       "      <td>0.092630</td>\n",
       "      <td>0.061540</td>\n",
       "      <td>0.033500</td>\n",
       "      <td>0.179200</td>\n",
       "      <td>0.061540</td>\n",
       "      <td>...</td>\n",
       "      <td>14.970000</td>\n",
       "      <td>25.410000</td>\n",
       "      <td>97.660000</td>\n",
       "      <td>686.500000</td>\n",
       "      <td>0.131300</td>\n",
       "      <td>0.211900</td>\n",
       "      <td>0.226700</td>\n",
       "      <td>0.099930</td>\n",
       "      <td>0.282200</td>\n",
       "      <td>0.080040</td>\n",
       "    </tr>\n",
       "    <tr>\n",
       "      <th>75%</th>\n",
       "      <td>15.780000</td>\n",
       "      <td>21.800000</td>\n",
       "      <td>104.100000</td>\n",
       "      <td>782.700000</td>\n",
       "      <td>0.105300</td>\n",
       "      <td>0.130400</td>\n",
       "      <td>0.130700</td>\n",
       "      <td>0.074000</td>\n",
       "      <td>0.195700</td>\n",
       "      <td>0.066120</td>\n",
       "      <td>...</td>\n",
       "      <td>18.790000</td>\n",
       "      <td>29.720000</td>\n",
       "      <td>125.400000</td>\n",
       "      <td>1084.000000</td>\n",
       "      <td>0.146000</td>\n",
       "      <td>0.339100</td>\n",
       "      <td>0.382900</td>\n",
       "      <td>0.161400</td>\n",
       "      <td>0.317900</td>\n",
       "      <td>0.092080</td>\n",
       "    </tr>\n",
       "    <tr>\n",
       "      <th>max</th>\n",
       "      <td>28.110000</td>\n",
       "      <td>39.280000</td>\n",
       "      <td>188.500000</td>\n",
       "      <td>2501.000000</td>\n",
       "      <td>0.163400</td>\n",
       "      <td>0.345400</td>\n",
       "      <td>0.426800</td>\n",
       "      <td>0.201200</td>\n",
       "      <td>0.304000</td>\n",
       "      <td>0.097440</td>\n",
       "      <td>...</td>\n",
       "      <td>36.040000</td>\n",
       "      <td>49.540000</td>\n",
       "      <td>251.200000</td>\n",
       "      <td>4254.000000</td>\n",
       "      <td>0.222600</td>\n",
       "      <td>1.058000</td>\n",
       "      <td>1.252000</td>\n",
       "      <td>0.291000</td>\n",
       "      <td>0.663800</td>\n",
       "      <td>0.207500</td>\n",
       "    </tr>\n",
       "  </tbody>\n",
       "</table>\n",
       "<p>8 rows × 30 columns</p>\n",
       "</div>"
      ],
      "text/plain": [
       "       mean radius  mean texture  mean perimeter    mean area  \\\n",
       "count   569.000000    569.000000      569.000000   569.000000   \n",
       "mean     14.127292     19.289649       91.969033   654.889104   \n",
       "std       3.524049      4.301036       24.298981   351.914129   \n",
       "min       6.981000      9.710000       43.790000   143.500000   \n",
       "25%      11.700000     16.170000       75.170000   420.300000   \n",
       "50%      13.370000     18.840000       86.240000   551.100000   \n",
       "75%      15.780000     21.800000      104.100000   782.700000   \n",
       "max      28.110000     39.280000      188.500000  2501.000000   \n",
       "\n",
       "       mean smoothness  mean compactness  mean concavity  mean concave points  \\\n",
       "count       569.000000        569.000000      569.000000           569.000000   \n",
       "mean          0.096360          0.104341        0.088799             0.048919   \n",
       "std           0.014064          0.052813        0.079720             0.038803   \n",
       "min           0.052630          0.019380        0.000000             0.000000   \n",
       "25%           0.086370          0.064920        0.029560             0.020310   \n",
       "50%           0.095870          0.092630        0.061540             0.033500   \n",
       "75%           0.105300          0.130400        0.130700             0.074000   \n",
       "max           0.163400          0.345400        0.426800             0.201200   \n",
       "\n",
       "       mean symmetry  mean fractal dimension  ...  worst radius  \\\n",
       "count     569.000000              569.000000  ...    569.000000   \n",
       "mean        0.181162                0.062798  ...     16.269190   \n",
       "std         0.027414                0.007060  ...      4.833242   \n",
       "min         0.106000                0.049960  ...      7.930000   \n",
       "25%         0.161900                0.057700  ...     13.010000   \n",
       "50%         0.179200                0.061540  ...     14.970000   \n",
       "75%         0.195700                0.066120  ...     18.790000   \n",
       "max         0.304000                0.097440  ...     36.040000   \n",
       "\n",
       "       worst texture  worst perimeter   worst area  worst smoothness  \\\n",
       "count     569.000000       569.000000   569.000000        569.000000   \n",
       "mean       25.677223       107.261213   880.583128          0.132369   \n",
       "std         6.146258        33.602542   569.356993          0.022832   \n",
       "min        12.020000        50.410000   185.200000          0.071170   \n",
       "25%        21.080000        84.110000   515.300000          0.116600   \n",
       "50%        25.410000        97.660000   686.500000          0.131300   \n",
       "75%        29.720000       125.400000  1084.000000          0.146000   \n",
       "max        49.540000       251.200000  4254.000000          0.222600   \n",
       "\n",
       "       worst compactness  worst concavity  worst concave points  \\\n",
       "count         569.000000       569.000000            569.000000   \n",
       "mean            0.254265         0.272188              0.114606   \n",
       "std             0.157336         0.208624              0.065732   \n",
       "min             0.027290         0.000000              0.000000   \n",
       "25%             0.147200         0.114500              0.064930   \n",
       "50%             0.211900         0.226700              0.099930   \n",
       "75%             0.339100         0.382900              0.161400   \n",
       "max             1.058000         1.252000              0.291000   \n",
       "\n",
       "       worst symmetry  worst fractal dimension  \n",
       "count      569.000000               569.000000  \n",
       "mean         0.290076                 0.083946  \n",
       "std          0.061867                 0.018061  \n",
       "min          0.156500                 0.055040  \n",
       "25%          0.250400                 0.071460  \n",
       "50%          0.282200                 0.080040  \n",
       "75%          0.317900                 0.092080  \n",
       "max          0.663800                 0.207500  \n",
       "\n",
       "[8 rows x 30 columns]"
      ]
     },
     "execution_count": 14,
     "metadata": {},
     "output_type": "execute_result"
    }
   ],
   "source": [
    "df_cancer.describe()"
   ]
  },
  {
   "cell_type": "markdown",
   "metadata": {},
   "source": [
    "Antes de entrenar el modelo se debe dividir el dataset en variables predictoras (X) y la variable objetivo (y)."
   ]
  },
  {
   "cell_type": "code",
   "execution_count": 16,
   "metadata": {},
   "outputs": [],
   "source": [
    "# Añadir la columna de la etiqueta (maligno o benigno) al DataFrame\n",
    "df_cancer['target'] = load_breast_cancer().target\n",
    "\n",
    "# Dividir las características (X) y la etiqueta (y)\n",
    "X_cancer = df_cancer.drop('target', axis=1)\n",
    "y_cancer = df_cancer['target']"
   ]
  },
  {
   "cell_type": "markdown",
   "metadata": {},
   "source": [
    "# MÉTODOS SUPERVISADOS"
   ]
  },
  {
   "cell_type": "markdown",
   "metadata": {},
   "source": [
    "Para entrenar el modelo es necesario dividir el dataset en conjuntos de entrenamiento (80%) y prueba (20%), como se realiza a continuación:"
   ]
  },
  {
   "cell_type": "code",
   "execution_count": 19,
   "metadata": {},
   "outputs": [],
   "source": [
    "X_train, X_test, y_train, y_test = train_test_split(X_cancer, y_cancer, test_size=0.2, random_state=42)"
   ]
  },
  {
   "cell_type": "markdown",
   "metadata": {},
   "source": [
    "# Análisis de Discriminante con load_breast_cancer"
   ]
  },
  {
   "cell_type": "code",
   "execution_count": 21,
   "metadata": {},
   "outputs": [
    {
     "name": "stdout",
     "output_type": "stream",
     "text": [
      "Exactitud del modelo (LDA): 0.9561\n",
      "Recall del modelo (LDA): 0.9859\n",
      "Precisión del modelo (LDA): 0.9459\n"
     ]
    }
   ],
   "source": [
    "#se entrena el modelo\n",
    "model = LinearDiscriminantAnalysis()\n",
    "model.fit(X_train, y_train)\n",
    "\n",
    "# Hacer predicciones\n",
    "y_pred = model.predict(X_test)\n",
    "\n",
    "# Calcular la precisión (accuracy) y el recall\n",
    "accuracy_cancer_lda = accuracy_score(y_test, y_pred)\n",
    "recall_cancer_lda = recall_score(y_test, y_pred)\n",
    "precision_cancer = precision_score(y_test, y_pred)\n",
    "\n",
    "print(f\"Exactitud del modelo (LDA): {accuracy_cancer_lda:.4f}\")\n",
    "print(f\"Recall del modelo (LDA): {recall_cancer_lda:.4f}\")\n",
    "print(f\"Precisión del modelo (LDA): {precision_cancer:.4f}\")"
   ]
  },
  {
   "cell_type": "markdown",
   "metadata": {},
   "source": [
    "Una vez entrenado el modelo, se obtiene que:\n",
    "\n",
    "- La exactitud refleja el rendimiento del modelo, en este caso el 95.61% las veces el modelo clasificó correctamente a los tumores malignos o benignos cuando efectivamente lo eran.\n",
    "- El recall indica que el modelo detecta 98.59% de los tumores malignos correctamente.\n",
    "- La precisión de 94.59% indica que existe un pequeño porcentaje de falsos positivos (cercano al 5%) que se debe considerar, especialmente si el costo de falsos positivos es alto, ya que significaría que se aplicaría tratamiento a pacientes que no lo necesitan.\n",
    "\n",
    "En resumen, el modelo tiene un buen rendimiento tanto en términos de exactitud global como en la detección de tumores malignos."
   ]
  },
  {
   "cell_type": "code",
   "execution_count": 23,
   "metadata": {},
   "outputs": [
    {
     "data": {
      "image/png": "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",
      "text/plain": [
       "<Figure size 800x600 with 2 Axes>"
      ]
     },
     "metadata": {},
     "output_type": "display_data"
    }
   ],
   "source": [
    "######################################\n",
    "# Calcular la matriz de confusión\n",
    "conf_matrix_cancer_lda = confusion_matrix(y_test, y_pred)\n",
    "\n",
    "# Graficar la matriz de confusión\n",
    "plt.figure(figsize=(8,6))\n",
    "sns.heatmap(conf_matrix_cancer_lda, annot=True, fmt='d', cmap='Blues', xticklabels=['Maligno', 'Benigno'], yticklabels=['Maligno', 'Benigno'])\n",
    "plt.ylabel('Valor Real')\n",
    "plt.xlabel('Predicción (LDA)')\n",
    "plt.title('Matriz de Confusión con LDA')\n",
    "plt.show()"
   ]
  },
  {
   "cell_type": "markdown",
   "metadata": {},
   "source": [
    "En cuanto a la matriz de confusión se puede decir que: \n",
    "\n",
    "- 39 tumores malignos fueron clasificados correctamente.\n",
    "- 70 tumores benignos fueron claificados correctamente.\n",
    "- 1 tumor benigno fue clasificado como maligno, es decir, falso positivo.\n",
    "- 4 tumores malignos fueron clasificados como benignos, falso negativo."
   ]
  },
  {
   "cell_type": "markdown",
   "metadata": {},
   "source": [
    "# Naive Bayes (no se debe analizar con este df)"
   ]
  },
  {
   "cell_type": "code",
   "execution_count": 26,
   "metadata": {},
   "outputs": [
    {
     "name": "stdout",
     "output_type": "stream",
     "text": [
      "Exactitud del modelo (Naive Bayes): 0.9737\n",
      "Recall del modelo (Naive Bayes): 1.0000\n"
     ]
    }
   ],
   "source": [
    "# Entrenar un modelo de Naive Bayes\n",
    "model = GaussianNB()\n",
    "model.fit(X_train, y_train)\n",
    "\n",
    "# Hacer predicciones\n",
    "y_pred = model.predict(X_test)\n",
    "\n",
    "# Calcular la precisión (accuracy) y el recall\n",
    "accuracy_cancer_nb = accuracy_score(y_test, y_pred)\n",
    "recall_cancer_nb = recall_score(y_test, y_pred)\n",
    "\n",
    "print(f\"Exactitud del modelo (Naive Bayes): {accuracy_cancer_nb:.4f}\")\n",
    "print(f\"Recall del modelo (Naive Bayes): {recall_cancer_nb:.4f}\")\n"
   ]
  },
  {
   "cell_type": "code",
   "execution_count": 27,
   "metadata": {},
   "outputs": [
    {
     "data": {
      "image/png": "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",
      "text/plain": [
       "<Figure size 800x600 with 2 Axes>"
      ]
     },
     "metadata": {},
     "output_type": "display_data"
    }
   ],
   "source": [
    "# Calcular la matriz de confusión\n",
    "conf_matrix_cancer_nb = confusion_matrix(y_test, y_pred)\n",
    "\n",
    "# Graficar la matriz de confusión\n",
    "plt.figure(figsize=(8,6))\n",
    "sns.heatmap(conf_matrix_cancer_nb, annot=True, fmt='d', cmap='Blues', xticklabels=['Maligno', 'Benigno'], yticklabels=['Maligno', 'Benigno'])\n",
    "plt.ylabel('Valor Real')\n",
    "plt.xlabel('Predicción (Naive Bayes)')\n",
    "plt.title('Matriz de Confusión con Naive Bayes')\n",
    "plt.show()"
   ]
  },
  {
   "cell_type": "markdown",
   "metadata": {},
   "source": [
    "## KMeans (lo dejo porque el enunciado dice que hay que hacer al menos un metodo no supervisado)"
   ]
  },
  {
   "cell_type": "markdown",
   "metadata": {},
   "source": [
    "Como método no supervisado se aplicará Kmeans, se establecerá el número de cluster igual a dos con la finalidad de aproximarse a las categorías de benigno y maligno.  \n",
    "Además se estandarizarán las variables previamente, ya que Kmeans funciona en base a las distancias euclidianas, al realizar esto se garantiza que todas las características tengan el mismo peso en el cálculo de las distancias."
   ]
  },
  {
   "cell_type": "code",
   "execution_count": 30,
   "metadata": {
    "id": "ANXOYh_MhosE"
   },
   "outputs": [
    {
     "ename": "NameError",
     "evalue": "name 'scaler2' is not defined",
     "output_type": "error",
     "traceback": [
      "\u001b[1;31m---------------------------------------------------------------------------\u001b[0m",
      "\u001b[1;31mNameError\u001b[0m                                 Traceback (most recent call last)",
      "Cell \u001b[1;32mIn[30], line 3\u001b[0m\n\u001b[0;32m      1\u001b[0m \u001b[38;5;66;03m# Escalar las características (importante para K-means)\u001b[39;00m\n\u001b[0;32m      2\u001b[0m cancer_scaler_km \u001b[38;5;241m=\u001b[39m StandardScaler()\n\u001b[1;32m----> 3\u001b[0m X_cancer_scaled_km \u001b[38;5;241m=\u001b[39m scaler2\u001b[38;5;241m.\u001b[39mfit_transform(X_cancer)\n",
      "\u001b[1;31mNameError\u001b[0m: name 'scaler2' is not defined"
     ]
    }
   ],
   "source": [
    "# Escalar las características (importante para K-means)\n",
    "cancer_scaler_km = StandardScaler()\n",
    "X_cancer_scaled_km = scaler2.fit_transform(X_cancer)"
   ]
  },
  {
   "cell_type": "code",
   "execution_count": null,
   "metadata": {},
   "outputs": [],
   "source": [
    "# Listas para almacenar inercia y variabilidad explicada\n",
    "results = []\n",
    "\n",
    "# Probar diferentes números de clusters\n",
    "max_clusters = 10\n",
    "inertia_initial = None  # Inicializar la variable\n",
    "\n",
    "for k in range(1, max_clusters + 1):\n",
    "    kmeans = KMeans(n_clusters=k, random_state=42)\n",
    "    kmeans.fit(X_cancer_scaled_km)\n",
    "    \n",
    "    # Guardar la inercia\n",
    "    inertia_value = kmeans.inertia_\n",
    "    \n",
    "    # Calcular la inercia inicial solo cuando k = 1\n",
    "    if k == 1:\n",
    "        inertia_initial = inertia_value  # Guardar inercia inicial\n",
    "\n",
    "    # Calcular la variabilidad explicada\n",
    "    variability = 1 - (inertia_value / inertia_initial)\n",
    "\n",
    "    # Almacenar resultados en la lista\n",
    "    results.append((k, inertia_value, variability))\n",
    "\n",
    "# Imprimir la lista de resultados\n",
    "print(\"Número de Clusters | Inercia    | Variabilidad Explicada\")\n",
    "print(\"----------------------------------------------------------\")\n",
    "for result in results:\n",
    "    print(f\"{result[0]:<19} | {result[1]:<10.4f} | {result[2]:<20.4f}\")\n",
    "\n",
    "# Graficar la variabilidad explicada\n",
    "plt.figure(figsize=(10, 6))\n",
    "plt.plot(range(1, max_clusters + 1), [r[2] for r in results], marker='o')\n",
    "plt.title('Variabilidad Explicada por K-Means')\n",
    "plt.xlabel('Número de Clusters')\n",
    "plt.ylabel('Variabilidad Explicada')\n",
    "plt.xticks(range(1, max_clusters + 1))\n",
    "plt.grid()\n",
    "plt.show()\n"
   ]
  },
  {
   "cell_type": "code",
   "execution_count": null,
   "metadata": {},
   "outputs": [],
   "source": [
    "Xkm_train, Xkm_test, ykm_train, ykm_test = train_test_split(X_cancer_scaled_km, y_cancer, test_size=0.2, random_state=42)"
   ]
  },
  {
   "cell_type": "code",
   "execution_count": null,
   "metadata": {},
   "outputs": [],
   "source": [
    "# Aplicar K-means\n",
    "kmeans = KMeans(n_clusters=2, random_state=42) #2 cluster (benigno o no maligno)\n",
    "y_pred_kmeans = kmeans.fit_predict(X_cancer_scaled_km)"
   ]
  },
  {
   "cell_type": "code",
   "execution_count": null,
   "metadata": {
    "colab": {
     "base_uri": "https://localhost:8080/"
    },
    "id": "rQJ5AfOmiVC_",
    "outputId": "8621e12f-707b-4a1d-b09b-8a7024e454fe"
   },
   "outputs": [],
   "source": [
    "# Calcular la precisión (accuracy) y el recall\n",
    "accuracy_km = accuracy_score(y_cancer, y_pred_kmeans)\n",
    "recall_km = recall_score(y_cancer, y_pred_kmeans)\n",
    "\n",
    "print(f\"Exactitud del modelo (K-means): {accuracy_km:.4f}\")\n",
    "print(f\"Recall del modelo (K-means): {recall_km:.4f}\")"
   ]
  },
  {
   "cell_type": "code",
   "execution_count": null,
   "metadata": {
    "colab": {
     "base_uri": "https://localhost:8080/",
     "height": 564
    },
    "id": "sOjMQfTgiS9_",
    "outputId": "360824d6-441c-4a74-886a-92a5659a6cf6"
   },
   "outputs": [],
   "source": [
    "# Calcular la matriz de confusión\n",
    "conf_matrix_cancer_km = confusion_matrix(y_cancer, y_pred_kmeans)\n",
    "\n",
    "# Graficar la matriz de confusión\n",
    "plt.figure(figsize=(8,6))\n",
    "sns.heatmap(conf_matrix_cancer_km, annot=True, fmt='d', cmap='Blues', xticklabels=['Maligno', 'Benigno'], yticklabels=['Maligno', 'Benigno'])\n",
    "plt.ylabel('Valor Real')\n",
    "plt.xlabel('Predicción (K-means)')\n",
    "plt.title('Matriz de Confusión con K-means')\n",
    "plt.show()\n"
   ]
  },
  {
   "cell_type": "markdown",
   "metadata": {},
   "source": [
    "# Gaussian Mixture Models\n",
    "\n",
<<<<<<< Updated upstream
    "Como método no supervisado"
   ]
  },
  {
   "cell_type": "code",
   "execution_count": null,
   "metadata": {},
   "outputs": [],
   "source": [
    "df_cancer_GM = pd.DataFrame(load_breast_cancer().data,columns = load_breast_cancer().feature_names)"
   ]
  },
  {
   "cell_type": "code",
   "execution_count": null,
   "metadata": {},
   "outputs": [],
   "source": [
    "from sklearn.mixture import GaussianMixture"
   ]
  },
  {
   "cell_type": "code",
   "execution_count": null,
   "metadata": {},
   "outputs": [],
   "source": [
    "# Añadir la columna de la etiqueta (maligno o benigno) al DataFrame\n",
    "df_cancer_GM['target'] = load_breast_cancer().target\n",
=======
    "Como método no supervisado no se utilizará el Gaussian Mixture Models, se puede utilizar para realizar predicciones, aunque su enfoque principal es el agrupamiento o clustering.  \n",
>>>>>>> Stashed changes
    "\n",
    "Para eso se debe:  \n",
    "-  Escalar los datos\n",
    "-  Aplicar GMM\n",
    "-  Predecir clústers\n",
    "-  Evaluar los resultados"
   ]
  },
  {
   "cell_type": "code",
<<<<<<< Updated upstream
   "execution_count": null,
=======
   "execution_count": 272,
   "metadata": {},
   "outputs": [],
   "source": [
    "#df_cancer_GM = pd.DataFrame(load_breast_cancer().data,columns = load_breast_cancer().feature_names)"
   ]
  },
  {
   "cell_type": "code",
   "execution_count": 301,
   "metadata": {},
   "outputs": [],
   "source": [
    "data = load_breast_cancer()\n",
    "df_cancer_GM = pd.DataFrame(data.data, columns=data.feature_names)"
   ]
  },
  {
   "cell_type": "code",
   "execution_count": 303,
>>>>>>> Stashed changes
   "metadata": {},
   "outputs": [],
   "source": [
    "# Escalar las características\n",
    "scaler = StandardScaler()\n",
    "X_scaled_GM= scaler.fit_transform(df_cancer_GM)"
   ]
  },
  {
   "cell_type": "code",
<<<<<<< Updated upstream
   "execution_count": null,
   "metadata": {},
   "outputs": [],
=======
   "execution_count": 305,
   "metadata": {},
   "outputs": [
    {
     "name": "stderr",
     "output_type": "stream",
     "text": [
      "C:\\ProgramData\\anaconda3\\Lib\\site-packages\\sklearn\\cluster\\_kmeans.py:1382: UserWarning: KMeans is known to have a memory leak on Windows with MKL, when there are less chunks than available threads. You can avoid it by setting the environment variable OMP_NUM_THREADS=3.\n",
      "  warnings.warn(\n"
     ]
    },
    {
     "data": {
      "text/html": [
       "<style>#sk-container-id-5 {color: black;background-color: white;}#sk-container-id-5 pre{padding: 0;}#sk-container-id-5 div.sk-toggleable {background-color: white;}#sk-container-id-5 label.sk-toggleable__label {cursor: pointer;display: block;width: 100%;margin-bottom: 0;padding: 0.3em;box-sizing: border-box;text-align: center;}#sk-container-id-5 label.sk-toggleable__label-arrow:before {content: \"▸\";float: left;margin-right: 0.25em;color: #696969;}#sk-container-id-5 label.sk-toggleable__label-arrow:hover:before {color: black;}#sk-container-id-5 div.sk-estimator:hover label.sk-toggleable__label-arrow:before {color: black;}#sk-container-id-5 div.sk-toggleable__content {max-height: 0;max-width: 0;overflow: hidden;text-align: left;background-color: #f0f8ff;}#sk-container-id-5 div.sk-toggleable__content pre {margin: 0.2em;color: black;border-radius: 0.25em;background-color: #f0f8ff;}#sk-container-id-5 input.sk-toggleable__control:checked~div.sk-toggleable__content {max-height: 200px;max-width: 100%;overflow: auto;}#sk-container-id-5 input.sk-toggleable__control:checked~label.sk-toggleable__label-arrow:before {content: \"▾\";}#sk-container-id-5 div.sk-estimator input.sk-toggleable__control:checked~label.sk-toggleable__label {background-color: #d4ebff;}#sk-container-id-5 div.sk-label input.sk-toggleable__control:checked~label.sk-toggleable__label {background-color: #d4ebff;}#sk-container-id-5 input.sk-hidden--visually {border: 0;clip: rect(1px 1px 1px 1px);clip: rect(1px, 1px, 1px, 1px);height: 1px;margin: -1px;overflow: hidden;padding: 0;position: absolute;width: 1px;}#sk-container-id-5 div.sk-estimator {font-family: monospace;background-color: #f0f8ff;border: 1px dotted black;border-radius: 0.25em;box-sizing: border-box;margin-bottom: 0.5em;}#sk-container-id-5 div.sk-estimator:hover {background-color: #d4ebff;}#sk-container-id-5 div.sk-parallel-item::after {content: \"\";width: 100%;border-bottom: 1px solid gray;flex-grow: 1;}#sk-container-id-5 div.sk-label:hover label.sk-toggleable__label {background-color: #d4ebff;}#sk-container-id-5 div.sk-serial::before {content: \"\";position: absolute;border-left: 1px solid gray;box-sizing: border-box;top: 0;bottom: 0;left: 50%;z-index: 0;}#sk-container-id-5 div.sk-serial {display: flex;flex-direction: column;align-items: center;background-color: white;padding-right: 0.2em;padding-left: 0.2em;position: relative;}#sk-container-id-5 div.sk-item {position: relative;z-index: 1;}#sk-container-id-5 div.sk-parallel {display: flex;align-items: stretch;justify-content: center;background-color: white;position: relative;}#sk-container-id-5 div.sk-item::before, #sk-container-id-5 div.sk-parallel-item::before {content: \"\";position: absolute;border-left: 1px solid gray;box-sizing: border-box;top: 0;bottom: 0;left: 50%;z-index: -1;}#sk-container-id-5 div.sk-parallel-item {display: flex;flex-direction: column;z-index: 1;position: relative;background-color: white;}#sk-container-id-5 div.sk-parallel-item:first-child::after {align-self: flex-end;width: 50%;}#sk-container-id-5 div.sk-parallel-item:last-child::after {align-self: flex-start;width: 50%;}#sk-container-id-5 div.sk-parallel-item:only-child::after {width: 0;}#sk-container-id-5 div.sk-dashed-wrapped {border: 1px dashed gray;margin: 0 0.4em 0.5em 0.4em;box-sizing: border-box;padding-bottom: 0.4em;background-color: white;}#sk-container-id-5 div.sk-label label {font-family: monospace;font-weight: bold;display: inline-block;line-height: 1.2em;}#sk-container-id-5 div.sk-label-container {text-align: center;}#sk-container-id-5 div.sk-container {/* jupyter's `normalize.less` sets `[hidden] { display: none; }` but bootstrap.min.css set `[hidden] { display: none !important; }` so we also need the `!important` here to be able to override the default hidden behavior on the sphinx rendered scikit-learn.org. See: https://github.com/scikit-learn/scikit-learn/issues/21755 */display: inline-block !important;position: relative;}#sk-container-id-5 div.sk-text-repr-fallback {display: none;}</style><div id=\"sk-container-id-5\" class=\"sk-top-container\"><div class=\"sk-text-repr-fallback\"><pre>GaussianMixture(n_components=2, random_state=42)</pre><b>In a Jupyter environment, please rerun this cell to show the HTML representation or trust the notebook. <br />On GitHub, the HTML representation is unable to render, please try loading this page with nbviewer.org.</b></div><div class=\"sk-container\" hidden><div class=\"sk-item\"><div class=\"sk-estimator sk-toggleable\"><input class=\"sk-toggleable__control sk-hidden--visually\" id=\"sk-estimator-id-5\" type=\"checkbox\" checked><label for=\"sk-estimator-id-5\" class=\"sk-toggleable__label sk-toggleable__label-arrow\">GaussianMixture</label><div class=\"sk-toggleable__content\"><pre>GaussianMixture(n_components=2, random_state=42)</pre></div></div></div></div></div>"
      ],
      "text/plain": [
       "GaussianMixture(n_components=2, random_state=42)"
      ]
     },
     "execution_count": 305,
     "metadata": {},
     "output_type": "execute_result"
    }
   ],
>>>>>>> Stashed changes
   "source": [
    "# 3. Aplicar el modelo de mezcla gaussiana (GMM)\n",
    "gmm = GaussianMixture(n_components=2, random_state=42)  # 2 componentes para benigno y maligno\n",
    "gmm.fit(X_scaled_GM)"
   ]
  },
  {
   "cell_type": "code",
<<<<<<< Updated upstream
   "execution_count": null,
   "metadata": {},
   "outputs": [],
=======
   "execution_count": 307,
   "metadata": {},
   "outputs": [],
   "source": [
    "# 4. Predecir los clústeres\n",
    "y_pred_GM = gmm.predict(X_scaled_GM)"
   ]
  },
  {
   "cell_type": "code",
   "execution_count": 309,
   "metadata": {},
   "outputs": [],
   "source": [
    "# 5. Agregar las etiquetas de clústeres al DataFrame\n",
    "df_cancer_GM['Cluster_GMM'] = y_pred_GM"
   ]
  },
  {
   "cell_type": "code",
   "execution_count": 311,
   "metadata": {},
   "outputs": [],
   "source": [
    "# 6. Comparar los clústeres con las etiquetas reales\n",
    "df_cancer_GM['target'] = data.target  # Etiquetas reales (benigno y maligno)"
   ]
  },
  {
   "cell_type": "code",
   "execution_count": 313,
   "metadata": {},
   "outputs": [
    {
     "data": {
      "image/png": "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",
      "text/plain": [
       "<Figure size 1000x600 with 1 Axes>"
      ]
     },
     "metadata": {},
     "output_type": "display_data"
    }
   ],
>>>>>>> Stashed changes
   "source": [
    "# Visualización de los clústeres con un gráfico de dispersión\n",
    "plt.figure(figsize=(10, 6))\n",
    "sns.scatterplot(x=df_cancer_GM['mean radius'], y=df_cancer_GM['mean texture'], hue=df_cancer_GM['Cluster_GMM'], palette='Set1', alpha=0.6)\n",
    "plt.title('Agrupamiento de Cáncer con GMM')\n",
    "plt.xlabel('Radio Medio')\n",
    "plt.ylabel('Textura Media')\n",
    "plt.legend(title='Clúster GMM')\n",
    "plt.show()"
   ]
  },
  {
   "cell_type": "code",
<<<<<<< Updated upstream
   "execution_count": null,
   "metadata": {},
   "outputs": [],
   "source": [
    "# Mostrar la matriz de confusión y el informe de clasificación\n",
    "print(confusion_matrix(df_cancer_GM['target'], df_cancer_GM['GMM Labels']))\n",
    "#print(classification_report(df_cancer_GM['target'], df_cancer_GM['GMM Labels']))"
   ]
  },
  {
   "cell_type": "code",
   "execution_count": null,
   "metadata": {},
   "outputs": [],
   "source": [
    "# Calcular la precisión (accuracy) y el recall\n",
    "accuracy_cancer_GM = accuracy_score(df_cancer_GM['target'], df_cancer_GM['GMM Labels'])\n",
    "recall_cancer_GM = recall_score(df_cancer_GM['target'], df_cancer_GM['GMM Labels'])\n",
    "precision_cancer_GM = precision_score(df_cancer_GM['target'], df_cancer_GM['GMM Labels'])\n",
=======
   "execution_count": 317,
   "metadata": {},
   "outputs": [
    {
     "name": "stdout",
     "output_type": "stream",
     "text": [
      "Exactitud del GMM: 0.061511423550087874\n",
      "Matriz de confusión:\n",
      "[[ 16 196]\n",
      " [338  19]]\n"
     ]
    }
   ],
   "source": [
    "# Comparar las etiquetas de GMM con las etiquetas reales\n",
    "print(\"Exactitud del GMM:\", accuracy_score(df_cancer_GM['target'], df_cancer_GM['Cluster_GMM']))\n",
>>>>>>> Stashed changes
    "\n",
    "# Mostrar la matriz de confusión\n",
    "print(\"Matriz de confusión:\")\n",
    "print(confusion_matrix(df_cancer_GM['target'], df_cancer_GM['Cluster_GMM']))"
   ]
  },
  {
   "cell_type": "code",
   "execution_count": null,
   "metadata": {},
   "outputs": [],
   "source": [
    "# Calcular la matriz de confusión\n",
    "conf_matrix_cancer_GMM = confusion_matrix(df_cancer_GM['target'], df_cancer_GM['GMM Labels'])\n",
    "\n",
    "# Graficar la matriz de confusión\n",
    "plt.figure(figsize=(8,6))\n",
    "sns.heatmap(conf_matrix_cancer_GMM, annot=True, fmt='d', cmap='Blues', xticklabels=['Maligno', 'Benigno'], yticklabels=['Maligno', 'Benigno'])\n",
    "plt.ylabel('Valor Real')\n",
    "plt.xlabel('Predicción (GMM)')\n",
    "plt.title('Matriz de Confusión con GMM')\n",
    "plt.show()"
   ]
  },
  {
   "cell_type": "code",
   "execution_count": null,
   "metadata": {},
   "outputs": [],
   "source": []
  },
  {
   "cell_type": "code",
   "execution_count": null,
   "metadata": {},
   "outputs": [],
   "source": []
  },
  {
   "cell_type": "code",
   "execution_count": 241,
   "metadata": {},
   "outputs": [],
   "source": [
    "from sklearn.mixture import GaussianMixture"
   ]
  },
  {
   "cell_type": "code",
   "execution_count": 321,
   "metadata": {},
   "outputs": [
    {
     "name": "stderr",
     "output_type": "stream",
     "text": [
      "C:\\ProgramData\\anaconda3\\Lib\\site-packages\\sklearn\\cluster\\_kmeans.py:1382: UserWarning: KMeans is known to have a memory leak on Windows with MKL, when there are less chunks than available threads. You can avoid it by setting the environment variable OMP_NUM_THREADS=3.\n",
      "  warnings.warn(\n"
     ]
    },
    {
     "data": {
      "text/html": [
       "<style>#sk-container-id-7 {color: black;background-color: white;}#sk-container-id-7 pre{padding: 0;}#sk-container-id-7 div.sk-toggleable {background-color: white;}#sk-container-id-7 label.sk-toggleable__label {cursor: pointer;display: block;width: 100%;margin-bottom: 0;padding: 0.3em;box-sizing: border-box;text-align: center;}#sk-container-id-7 label.sk-toggleable__label-arrow:before {content: \"▸\";float: left;margin-right: 0.25em;color: #696969;}#sk-container-id-7 label.sk-toggleable__label-arrow:hover:before {color: black;}#sk-container-id-7 div.sk-estimator:hover label.sk-toggleable__label-arrow:before {color: black;}#sk-container-id-7 div.sk-toggleable__content {max-height: 0;max-width: 0;overflow: hidden;text-align: left;background-color: #f0f8ff;}#sk-container-id-7 div.sk-toggleable__content pre {margin: 0.2em;color: black;border-radius: 0.25em;background-color: #f0f8ff;}#sk-container-id-7 input.sk-toggleable__control:checked~div.sk-toggleable__content {max-height: 200px;max-width: 100%;overflow: auto;}#sk-container-id-7 input.sk-toggleable__control:checked~label.sk-toggleable__label-arrow:before {content: \"▾\";}#sk-container-id-7 div.sk-estimator input.sk-toggleable__control:checked~label.sk-toggleable__label {background-color: #d4ebff;}#sk-container-id-7 div.sk-label input.sk-toggleable__control:checked~label.sk-toggleable__label {background-color: #d4ebff;}#sk-container-id-7 input.sk-hidden--visually {border: 0;clip: rect(1px 1px 1px 1px);clip: rect(1px, 1px, 1px, 1px);height: 1px;margin: -1px;overflow: hidden;padding: 0;position: absolute;width: 1px;}#sk-container-id-7 div.sk-estimator {font-family: monospace;background-color: #f0f8ff;border: 1px dotted black;border-radius: 0.25em;box-sizing: border-box;margin-bottom: 0.5em;}#sk-container-id-7 div.sk-estimator:hover {background-color: #d4ebff;}#sk-container-id-7 div.sk-parallel-item::after {content: \"\";width: 100%;border-bottom: 1px solid gray;flex-grow: 1;}#sk-container-id-7 div.sk-label:hover label.sk-toggleable__label {background-color: #d4ebff;}#sk-container-id-7 div.sk-serial::before {content: \"\";position: absolute;border-left: 1px solid gray;box-sizing: border-box;top: 0;bottom: 0;left: 50%;z-index: 0;}#sk-container-id-7 div.sk-serial {display: flex;flex-direction: column;align-items: center;background-color: white;padding-right: 0.2em;padding-left: 0.2em;position: relative;}#sk-container-id-7 div.sk-item {position: relative;z-index: 1;}#sk-container-id-7 div.sk-parallel {display: flex;align-items: stretch;justify-content: center;background-color: white;position: relative;}#sk-container-id-7 div.sk-item::before, #sk-container-id-7 div.sk-parallel-item::before {content: \"\";position: absolute;border-left: 1px solid gray;box-sizing: border-box;top: 0;bottom: 0;left: 50%;z-index: -1;}#sk-container-id-7 div.sk-parallel-item {display: flex;flex-direction: column;z-index: 1;position: relative;background-color: white;}#sk-container-id-7 div.sk-parallel-item:first-child::after {align-self: flex-end;width: 50%;}#sk-container-id-7 div.sk-parallel-item:last-child::after {align-self: flex-start;width: 50%;}#sk-container-id-7 div.sk-parallel-item:only-child::after {width: 0;}#sk-container-id-7 div.sk-dashed-wrapped {border: 1px dashed gray;margin: 0 0.4em 0.5em 0.4em;box-sizing: border-box;padding-bottom: 0.4em;background-color: white;}#sk-container-id-7 div.sk-label label {font-family: monospace;font-weight: bold;display: inline-block;line-height: 1.2em;}#sk-container-id-7 div.sk-label-container {text-align: center;}#sk-container-id-7 div.sk-container {/* jupyter's `normalize.less` sets `[hidden] { display: none; }` but bootstrap.min.css set `[hidden] { display: none !important; }` so we also need the `!important` here to be able to override the default hidden behavior on the sphinx rendered scikit-learn.org. See: https://github.com/scikit-learn/scikit-learn/issues/21755 */display: inline-block !important;position: relative;}#sk-container-id-7 div.sk-text-repr-fallback {display: none;}</style><div id=\"sk-container-id-7\" class=\"sk-top-container\"><div class=\"sk-text-repr-fallback\"><pre>GaussianMixture(n_components=4, random_state=42)</pre><b>In a Jupyter environment, please rerun this cell to show the HTML representation or trust the notebook. <br />On GitHub, the HTML representation is unable to render, please try loading this page with nbviewer.org.</b></div><div class=\"sk-container\" hidden><div class=\"sk-item\"><div class=\"sk-estimator sk-toggleable\"><input class=\"sk-toggleable__control sk-hidden--visually\" id=\"sk-estimator-id-7\" type=\"checkbox\" checked><label for=\"sk-estimator-id-7\" class=\"sk-toggleable__label sk-toggleable__label-arrow\">GaussianMixture</label><div class=\"sk-toggleable__content\"><pre>GaussianMixture(n_components=4, random_state=42)</pre></div></div></div></div></div>"
      ],
      "text/plain": [
       "GaussianMixture(n_components=4, random_state=42)"
      ]
     },
     "execution_count": 321,
     "metadata": {},
     "output_type": "execute_result"
    }
   ],
   "source": [
    "# 3. Aplicar el modelo de mezcla gaussiana (GMM)\n",
    "gmm_4 = GaussianMixture(n_components=4, random_state=42)  # 2 componentes para benigno y maligno\n",
    "gmm_4.fit(X_scaled_GM)"
   ]
  },
  {
   "cell_type": "code",
   "execution_count": 325,
   "metadata": {},
   "outputs": [
    {
     "name": "stdout",
     "output_type": "stream",
     "text": [
      "BIC: 6943.352979418518\n",
      "AIC: -1670.5619214539965\n"
     ]
    }
   ],
   "source": [
    "print(\"BIC:\", gmm_4.bic(X_scaled_GM))\n",
    "print(\"AIC:\", gmm_4.aic(X_scaled_GM))"
   ]
  },
  {
   "cell_type": "code",
   "execution_count": 327,
   "metadata": {},
   "outputs": [
    {
     "name": "stderr",
     "output_type": "stream",
     "text": [
      "C:\\ProgramData\\anaconda3\\Lib\\site-packages\\sklearn\\cluster\\_kmeans.py:1382: UserWarning: KMeans is known to have a memory leak on Windows with MKL, when there are less chunks than available threads. You can avoid it by setting the environment variable OMP_NUM_THREADS=3.\n",
      "  warnings.warn(\n"
     ]
    },
    {
     "data": {
      "text/html": [
       "<style>#sk-container-id-8 {color: black;background-color: white;}#sk-container-id-8 pre{padding: 0;}#sk-container-id-8 div.sk-toggleable {background-color: white;}#sk-container-id-8 label.sk-toggleable__label {cursor: pointer;display: block;width: 100%;margin-bottom: 0;padding: 0.3em;box-sizing: border-box;text-align: center;}#sk-container-id-8 label.sk-toggleable__label-arrow:before {content: \"▸\";float: left;margin-right: 0.25em;color: #696969;}#sk-container-id-8 label.sk-toggleable__label-arrow:hover:before {color: black;}#sk-container-id-8 div.sk-estimator:hover label.sk-toggleable__label-arrow:before {color: black;}#sk-container-id-8 div.sk-toggleable__content {max-height: 0;max-width: 0;overflow: hidden;text-align: left;background-color: #f0f8ff;}#sk-container-id-8 div.sk-toggleable__content pre {margin: 0.2em;color: black;border-radius: 0.25em;background-color: #f0f8ff;}#sk-container-id-8 input.sk-toggleable__control:checked~div.sk-toggleable__content {max-height: 200px;max-width: 100%;overflow: auto;}#sk-container-id-8 input.sk-toggleable__control:checked~label.sk-toggleable__label-arrow:before {content: \"▾\";}#sk-container-id-8 div.sk-estimator input.sk-toggleable__control:checked~label.sk-toggleable__label {background-color: #d4ebff;}#sk-container-id-8 div.sk-label input.sk-toggleable__control:checked~label.sk-toggleable__label {background-color: #d4ebff;}#sk-container-id-8 input.sk-hidden--visually {border: 0;clip: rect(1px 1px 1px 1px);clip: rect(1px, 1px, 1px, 1px);height: 1px;margin: -1px;overflow: hidden;padding: 0;position: absolute;width: 1px;}#sk-container-id-8 div.sk-estimator {font-family: monospace;background-color: #f0f8ff;border: 1px dotted black;border-radius: 0.25em;box-sizing: border-box;margin-bottom: 0.5em;}#sk-container-id-8 div.sk-estimator:hover {background-color: #d4ebff;}#sk-container-id-8 div.sk-parallel-item::after {content: \"\";width: 100%;border-bottom: 1px solid gray;flex-grow: 1;}#sk-container-id-8 div.sk-label:hover label.sk-toggleable__label {background-color: #d4ebff;}#sk-container-id-8 div.sk-serial::before {content: \"\";position: absolute;border-left: 1px solid gray;box-sizing: border-box;top: 0;bottom: 0;left: 50%;z-index: 0;}#sk-container-id-8 div.sk-serial {display: flex;flex-direction: column;align-items: center;background-color: white;padding-right: 0.2em;padding-left: 0.2em;position: relative;}#sk-container-id-8 div.sk-item {position: relative;z-index: 1;}#sk-container-id-8 div.sk-parallel {display: flex;align-items: stretch;justify-content: center;background-color: white;position: relative;}#sk-container-id-8 div.sk-item::before, #sk-container-id-8 div.sk-parallel-item::before {content: \"\";position: absolute;border-left: 1px solid gray;box-sizing: border-box;top: 0;bottom: 0;left: 50%;z-index: -1;}#sk-container-id-8 div.sk-parallel-item {display: flex;flex-direction: column;z-index: 1;position: relative;background-color: white;}#sk-container-id-8 div.sk-parallel-item:first-child::after {align-self: flex-end;width: 50%;}#sk-container-id-8 div.sk-parallel-item:last-child::after {align-self: flex-start;width: 50%;}#sk-container-id-8 div.sk-parallel-item:only-child::after {width: 0;}#sk-container-id-8 div.sk-dashed-wrapped {border: 1px dashed gray;margin: 0 0.4em 0.5em 0.4em;box-sizing: border-box;padding-bottom: 0.4em;background-color: white;}#sk-container-id-8 div.sk-label label {font-family: monospace;font-weight: bold;display: inline-block;line-height: 1.2em;}#sk-container-id-8 div.sk-label-container {text-align: center;}#sk-container-id-8 div.sk-container {/* jupyter's `normalize.less` sets `[hidden] { display: none; }` but bootstrap.min.css set `[hidden] { display: none !important; }` so we also need the `!important` here to be able to override the default hidden behavior on the sphinx rendered scikit-learn.org. See: https://github.com/scikit-learn/scikit-learn/issues/21755 */display: inline-block !important;position: relative;}#sk-container-id-8 div.sk-text-repr-fallback {display: none;}</style><div id=\"sk-container-id-8\" class=\"sk-top-container\"><div class=\"sk-text-repr-fallback\"><pre>GaussianMixture(n_components=2, random_state=42)</pre><b>In a Jupyter environment, please rerun this cell to show the HTML representation or trust the notebook. <br />On GitHub, the HTML representation is unable to render, please try loading this page with nbviewer.org.</b></div><div class=\"sk-container\" hidden><div class=\"sk-item\"><div class=\"sk-estimator sk-toggleable\"><input class=\"sk-toggleable__control sk-hidden--visually\" id=\"sk-estimator-id-8\" type=\"checkbox\" checked><label for=\"sk-estimator-id-8\" class=\"sk-toggleable__label sk-toggleable__label-arrow\">GaussianMixture</label><div class=\"sk-toggleable__content\"><pre>GaussianMixture(n_components=2, random_state=42)</pre></div></div></div></div></div>"
      ],
      "text/plain": [
       "GaussianMixture(n_components=2, random_state=42)"
      ]
     },
     "execution_count": 327,
     "metadata": {},
     "output_type": "execute_result"
    }
   ],
   "source": [
    "# 3. Aplicar el modelo de mezcla gaussiana (GMM)\n",
    "gmm_2 = GaussianMixture(n_components=2, random_state=42)  # 2 componentes para benigno y maligno\n",
    "gmm_2.fit(X_scaled_GM)"
   ]
  },
  {
   "cell_type": "code",
   "execution_count": 329,
   "metadata": {},
   "outputs": [
    {
     "name": "stdout",
     "output_type": "stream",
     "text": [
      "BIC: 6174.794184175795\n",
      "AIC: 1870.0086739566007\n"
     ]
    }
   ],
   "source": [
    "print(\"BIC:\", gmm_2.bic(X_scaled_GM))\n",
    "print(\"AIC:\", gmm_2.aic(X_scaled_GM))"
   ]
  },
  {
   "cell_type": "markdown",
   "metadata": {},
   "source": [
    "# No supervisado - Análisis de Componentes Principales (PCA)  \n",
    "\n",
    "Este metodo se utilizará para reducir la dimensionalidad de los datos, luego los componentes resultantes serán las variables predictoras en un modelo supervisado."
   ]
  },
  {
   "cell_type": "code",
   "execution_count": 340,
   "metadata": {},
   "outputs": [],
   "source": [
    "from sklearn.decomposition import PCA"
   ]
  },
  {
   "cell_type": "code",
   "execution_count": 334,
   "metadata": {},
   "outputs": [],
   "source": [
    "df_cancer_PCA = pd.DataFrame(data.data, columns=data.feature_names)"
   ]
  },
  {
   "cell_type": "code",
   "execution_count": 372,
   "metadata": {},
   "outputs": [],
   "source": [
    "# Escalar las características\n",
    "scaler = StandardScaler()\n",
    "X_scaled_PCA= scaler.fit_transform(df_cancer_PCA)"
   ]
  },
  {
   "cell_type": "markdown",
   "metadata": {},
   "source": [
    "Lo primero a realizar es reducir la dimensionalidad con componentes principales. (Se utilizarán 2 componentes)."
   ]
  },
  {
   "cell_type": "code",
   "execution_count": 374,
   "metadata": {},
   "outputs": [],
   "source": [
    "pca = PCA(n_components=2)  # Reducir a 2 componentes principales\n",
    "X_pca = pca.fit_transform(X_scaled_PCA)"
   ]
  },
  {
   "cell_type": "markdown",
   "metadata": {},
   "source": [
    "Se divide el dataset en conjunto de train (80%) y test (20%)."
   ]
  },
  {
   "cell_type": "code",
   "execution_count": 381,
   "metadata": {},
   "outputs": [],
   "source": [
    "X_train_pca, X_test_pca, y_train, y_test = train_test_split(X_scaled_PCA, y_cancer, test_size=0.2, random_state=42)"
   ]
  },
  {
   "cell_type": "markdown",
   "metadata": {},
   "source": [
    "Finalmente para la predicción se entrenará un modelo de regresión logística."
   ]
  },
  {
   "cell_type": "code",
   "execution_count": 410,
   "metadata": {},
   "outputs": [
    {
     "name": "stdout",
     "output_type": "stream",
     "text": [
      "Exactitud: 0.6228070175438597\n",
      "Recall: 1.0\n",
      "precisión: 0.6228070175438597\n"
     ]
    }
   ],
   "source": [
    "from sklearn.linear_model import LogisticRegression\n",
    "from sklearn.metrics import accuracy_score, classification_report\n",
    "\n",
    "# Entrenar el modelo de regresión logística con las variables reducidas\n",
    "model_pca = LogisticRegression()\n",
    "model_pca.fit(X_train_pca, y_train)\n",
    "\n",
    "# Realizar predicciones\n",
    "y_pred = model.predict(X_test_pca)\n",
    "\n",
    "\n",
    "# Evaluar el modelo\n",
    "print(\"Exactitud:\", accuracy_score(y_test, y_pred))\n",
    "print(\"Recall:\", recall_score(y_test, y_pred))\n",
    "print(\"precisión:\", precision_score(y_test, y_pred))\n",
    "#print(\"Reporte de clasificación:\\n\", classification_report(y_test, y_pred))\n"
   ]
  },
  {
   "cell_type": "markdown",
   "metadata": {},
   "source": [
    "Una vez entrenado el modelo, se obtiene que:\r\n",
    "\r\n",
    "*   La exactitud refleja el rendimiento del modelo, y solo 62.28% las veces el \r\n",
    "modelo clasificó correctamente a los tumores malignos o benignos cuando efectivamente lo eran.\r\n",
    "*   El recall indica que el modelo detecta el 100% de los tumores malignos correctamente.\r\n",
    "*   La precisión de 62.28% indica que existe un gran porcentaje de falsos positivos (cercano al 37%) que se debe considerar, especialmente si el costo de falsos positivos es alto, ya que significaría que se aplicaría tratamiento a pacientes que no lo necesitan.\r\n",
    "\r\n",
    "En resumen, el modelo no tiene un rendimiento apropiado ya que la cantidad de falsos positivos es muy alto tanto en términos de exactitud global como en la detección de tumores malignos.gnos."
   ]
  },
  {
   "cell_type": "code",
   "execution_count": 404,
   "metadata": {},
   "outputs": [
    {
     "name": "stdout",
     "output_type": "stream",
     "text": [
      "Matriz de Confusión:\n",
      "[[ 0 43]\n",
      " [ 0 71]]\n"
     ]
    }
   ],
   "source": [
    "# Calcular la matriz de confusión\n",
    "cm = confusion_matrix(y_test, y_pred)\n",
    "\n",
    "# Imprimir la matriz de confusión\n",
    "print(\"Matriz de Confusión:\")\n",
    "print(cm)"
   ]
  },
  {
   "cell_type": "markdown",
   "metadata": {},
   "source": [
    "En cuanto a la matriz de confusión se puede decir que: \n",
    "\n",
    "- 0 tumores malignos fueron clasificados correctamente.\n",
    "- 71 tumores benignos fueron claificados correctamente.\n",
    "- 0 tumor benigno fue clasificado como maligno, es decir, falso positivo.\n",
    "- 43 tumores malignos fueron clasificados como benignos, falso negativo."
   ]
  },
  {
   "cell_type": "code",
   "execution_count": 402,
   "metadata": {},
   "outputs": [
    {
     "data": {
      "image/png": "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",
      "text/plain": [
       "<Figure size 800x600 with 2 Axes>"
      ]
     },
     "metadata": {},
     "output_type": "display_data"
    }
   ],
   "source": [
    "######################################\n",
    "# Calcular la matriz de confusión\n",
    "conf_matrix_cancer_PCA = confusion_matrix(y_test, y_pred)\n",
    "\n",
    "# Graficar la matriz de confusión\n",
    "plt.figure(figsize=(8,6))\n",
    "sns.heatmap(conf_matrix_cancer_PCA, annot=True, fmt='d', cmap='Blues', xticklabels=['Maligno', 'Benigno'], yticklabels=['Maligno', 'Benigno'])\n",
    "plt.ylabel('Valor Real')\n",
    "plt.xlabel('Predicción (PCA)')\n",
    "plt.title('Matriz de Confusión con PCA')\n",
    "plt.show()"
   ]
  },
  {
   "cell_type": "code",
   "execution_count": null,
   "metadata": {},
   "outputs": [],
   "source": []
  }
 ],
 "metadata": {
  "colab": {
   "provenance": []
  },
  "kernelspec": {
   "display_name": "Python 3 (ipykernel)",
   "language": "python",
   "name": "python3"
  },
  "language_info": {
   "codemirror_mode": {
    "name": "ipython",
    "version": 3
   },
   "file_extension": ".py",
   "mimetype": "text/x-python",
   "name": "python",
   "nbconvert_exporter": "python",
   "pygments_lexer": "ipython3",
   "version": "3.11.7"
  }
 },
 "nbformat": 4,
 "nbformat_minor": 4
}
