{
 "cells": [
  {
   "cell_type": "markdown",
   "metadata": {},
   "source": [
    "# Tarea N°3\n",
    "\n",
    "\n",
    "<div>\n",
    "<img src=\"https://i.ibb.co/v3CvVz9/udd-short.png\" width=\"150\"/>\n",
    "    <br>\n",
    "    <strong>Universidad del Desarrollo</strong><br>\n",
    "    <em>Profesor: Tomás Fontecilla </em><br>\n",
    "\n",
    "</div>\n",
    "\n",
    "# Machine Learning: Laboratorio 03\n",
    "*12 de Octubre de 2024*\n",
    "\n",
    "**Nombre Estudiante(s)**: `Gabriel Álvarez Martínez - Valeska Farías Caicedo - Constanza Perez Pulido - Rosario Valderrama Labarca\n",
    "\n",
    "\n",
    "## 1. Objetivo\n",
    "\n",
    "En este laboratorio deberá *aplicar* los algoritmos aprendidos en la clase e investigar del uso de la libreria python scikit-learn y sus funciones más útiles para estos métodos. Su meta es realizar un análisis de datos completo probando los distintos métodos supervisados vistos hasta ahora (Naive Bayes, Análisis de Discriminante, Regresión Logística).\n",
    "\n",
    "Para esto utilizará la base load_breast_cancer anteriormente utilizada. Además los siguientes comandos de la librería sklearn, para la siguiente base:\n",
    "\n",
    "```\n",
    "# X, y =fetch_openml(\"titanic\", version=1, as_frame=True, return_X_y=True)\n",
    "X.drop(['boat', 'body', 'home.dest'], axis=1, inplace=Tru```\n",
    "```"
   ]
  },
  {
   "cell_type": "markdown",
   "metadata": {},
   "source": [
    "Por último, nos gustaría saber el destino de los dos pasajeros de los cuales se presentan sus boletos en el Titanic. También, nos interesa entender si la edad es un elemento determinante para la sobrevida."
   ]
  },
  {
   "cell_type": "markdown",
   "metadata": {},
   "source": [
    "## 2. Introducción  \n",
    "\n",
    "En el presente laboratorio se utilizaron dos dataframe:\n",
    "\n",
    "- `load_breast_cancer`, con el cual se pretende entrenar un modelo para predecir si el tumor de un paciente es maligno o benigno.\n",
    "- `titanic`, con el cual se pretender entrenar un modelo para predecir si los pasajeros sobreviven o no.\n",
    "\n",
    "Para lograr lo anterior, se utilizaron algoritmos de clasificación supervisados, para eso se utilizará Análisis de Discriminante Lineal (LDA) con el primer df (load_breast_cancer) y se realizará una regresión lineal además de  Naive Bayes para el df Titanic.\n",
    "\n",
    "Adcionalmente, se desea conocer el destino de dos pasajeros en específico que mantienen las siguientes caracteristicas según su ticket de embarque:  \n",
    "\n",
    "Pasajero N°1:  \n",
    "\n",
    "  - Nombre: Miss Helene ragnhild Ostby\n",
    "  - Sexo: Femenino\n",
    "  - Edad: 22 años\n",
    "  - Clase en la que viaja: 1ra. clase\n",
    "  - Cabin: B-36\n",
    "  - Embarque: Cherbourg  \n",
    "\n",
    "Pasajero N°2:  \n",
    "  - Nombre: Mr. Frederick Edward Giles\n",
    "  - Sexo: Masculino\n",
    "  - Edad: 21\n",
    "  - Clase en la que viaja: 2da. clase\n",
    "  - Cabin: Desconocida\n",
    "  - Embarque: Southampton  \n",
    "\n",
    "Para predecir si los dos pasajeros indicados sobreviven o no, se utiliza un árbol de clasificación que será entrenado para identificar las caracteristicas de los pasajeros que sobreviven y los que no, luego de eso podremos determinar el destino de ambos. el destino de ambos."
   ]
  },
  {
   "cell_type": "markdown",
   "metadata": {},
   "source": [
    "## 3. Importación de paquetes"
   ]
  },
  {
   "cell_type": "code",
   "execution_count": 72,
   "metadata": {},
   "outputs": [],
   "source": [
    "import pandas as pd\n",
    "import matplotlib.pyplot as plt\n",
    "import seaborn as sns\n",
    "from sklearn.datasets import fetch_openml\n",
    "from sklearn.model_selection import train_test_split\n",
    "from sklearn.linear_model import LogisticRegression\n",
    "from sklearn.metrics import accuracy_score, recall_score, confusion_matrix, f1_score, precision_score, classification_report\n",
    "from sklearn.naive_bayes import GaussianNB\n",
    "from sklearn.metrics import confusion_matrix\n",
    "from sklearn.datasets import load_breast_cancer\n",
    "from sklearn.model_selection import train_test_split\n",
    "from sklearn.preprocessing import StandardScaler\n",
    "from sklearn.cluster import KMeans\n",
    "from sklearn.discriminant_analysis import LinearDiscriminantAnalysis"
   ]
  },
  {
   "cell_type": "markdown",
   "metadata": {},
   "source": [
    "## 4. load_brest_cancer"
   ]
  },
  {
   "cell_type": "markdown",
   "metadata": {},
   "source": [
    "### 4.1. Dataset\n",
    "\n",
    "Detalles del dataset:  \n",
    "\n",
    "El data frame contiene 569 filas con datos de pacientes con tumores, los cuales, pueden ser malignos o benignos, esto se determina según las caracteristicas del tumor que están descritas en distintas variables, como \"promedio del radio\", \"promedio de la textura\", \"promedio del perimetro\", entre otras.\n",
    "\n",
    "Sus variables se componen por 30 características numéricas que describen las propiedades de los núcleos celulares presentes en una imagen digitalizada de un tumor. Se busca determinar si el tumor es maligno o benigno.\n",
    "\n",
    "Contiene: \n",
    "- Número de registros: 569.\n",
    "- target: 0 si es maligno y 1 si es benigno."
   ]
  },
  {
   "cell_type": "code",
   "execution_count": 44,
   "metadata": {},
   "outputs": [],
   "source": [
    "df_cancer = pd.DataFrame(load_breast_cancer().data,columns = load_breast_cancer().feature_names)"
   ]
  },
  {
   "cell_type": "markdown",
   "metadata": {},
   "source": [
    "Las variables son las siguientes:"
   ]
  },
  {
   "cell_type": "code",
   "execution_count": 46,
   "metadata": {},
   "outputs": [
    {
     "name": "stdout",
     "output_type": "stream",
     "text": [
      "<class 'pandas.core.frame.DataFrame'>\n",
      "RangeIndex: 569 entries, 0 to 568\n",
      "Data columns (total 30 columns):\n",
      " #   Column                   Non-Null Count  Dtype  \n",
      "---  ------                   --------------  -----  \n",
      " 0   mean radius              569 non-null    float64\n",
      " 1   mean texture             569 non-null    float64\n",
      " 2   mean perimeter           569 non-null    float64\n",
      " 3   mean area                569 non-null    float64\n",
      " 4   mean smoothness          569 non-null    float64\n",
      " 5   mean compactness         569 non-null    float64\n",
      " 6   mean concavity           569 non-null    float64\n",
      " 7   mean concave points      569 non-null    float64\n",
      " 8   mean symmetry            569 non-null    float64\n",
      " 9   mean fractal dimension   569 non-null    float64\n",
      " 10  radius error             569 non-null    float64\n",
      " 11  texture error            569 non-null    float64\n",
      " 12  perimeter error          569 non-null    float64\n",
      " 13  area error               569 non-null    float64\n",
      " 14  smoothness error         569 non-null    float64\n",
      " 15  compactness error        569 non-null    float64\n",
      " 16  concavity error          569 non-null    float64\n",
      " 17  concave points error     569 non-null    float64\n",
      " 18  symmetry error           569 non-null    float64\n",
      " 19  fractal dimension error  569 non-null    float64\n",
      " 20  worst radius             569 non-null    float64\n",
      " 21  worst texture            569 non-null    float64\n",
      " 22  worst perimeter          569 non-null    float64\n",
      " 23  worst area               569 non-null    float64\n",
      " 24  worst smoothness         569 non-null    float64\n",
      " 25  worst compactness        569 non-null    float64\n",
      " 26  worst concavity          569 non-null    float64\n",
      " 27  worst concave points     569 non-null    float64\n",
      " 28  worst symmetry           569 non-null    float64\n",
      " 29  worst fractal dimension  569 non-null    float64\n",
      "dtypes: float64(30)\n",
      "memory usage: 133.5 KB\n"
     ]
    }
   ],
   "source": [
    "df_cancer.info()"
   ]
  },
  {
   "cell_type": "markdown",
   "metadata": {},
   "source": [
    "Antes de realizar el análisis se analizará la existencia de datos nulos."
   ]
  },
  {
   "cell_type": "code",
   "execution_count": 50,
   "metadata": {},
   "outputs": [
    {
     "name": "stdout",
     "output_type": "stream",
     "text": [
      "Conteo de valores nulos por columna:\n",
      "Series([], dtype: int64)\n"
     ]
    }
   ],
   "source": [
    "null_counts = df_cancer.isnull().sum()\n",
    "\n",
    "print(\"Conteo de valores nulos por columna:\")\n",
    "print(null_counts[null_counts > 0])"
   ]
  },
  {
   "cell_type": "markdown",
   "metadata": {},
   "source": [
    "Una vez que se verifica la ausencia de datos nulos, a continuación se presentan algunos datos descriptivos de las variables del df:"
   ]
  },
  {
   "cell_type": "code",
   "execution_count": 53,
   "metadata": {},
   "outputs": [
    {
     "data": {
      "text/html": [
       "<div>\n",
       "<style scoped>\n",
       "    .dataframe tbody tr th:only-of-type {\n",
       "        vertical-align: middle;\n",
       "    }\n",
       "\n",
       "    .dataframe tbody tr th {\n",
       "        vertical-align: top;\n",
       "    }\n",
       "\n",
       "    .dataframe thead th {\n",
       "        text-align: right;\n",
       "    }\n",
       "</style>\n",
       "<table border=\"1\" class=\"dataframe\">\n",
       "  <thead>\n",
       "    <tr style=\"text-align: right;\">\n",
       "      <th></th>\n",
       "      <th>mean radius</th>\n",
       "      <th>mean texture</th>\n",
       "      <th>mean perimeter</th>\n",
       "      <th>mean area</th>\n",
       "      <th>mean smoothness</th>\n",
       "      <th>mean compactness</th>\n",
       "      <th>mean concavity</th>\n",
       "      <th>mean concave points</th>\n",
       "      <th>mean symmetry</th>\n",
       "      <th>mean fractal dimension</th>\n",
       "      <th>...</th>\n",
       "      <th>worst radius</th>\n",
       "      <th>worst texture</th>\n",
       "      <th>worst perimeter</th>\n",
       "      <th>worst area</th>\n",
       "      <th>worst smoothness</th>\n",
       "      <th>worst compactness</th>\n",
       "      <th>worst concavity</th>\n",
       "      <th>worst concave points</th>\n",
       "      <th>worst symmetry</th>\n",
       "      <th>worst fractal dimension</th>\n",
       "    </tr>\n",
       "  </thead>\n",
       "  <tbody>\n",
       "    <tr>\n",
       "      <th>count</th>\n",
       "      <td>569.000000</td>\n",
       "      <td>569.000000</td>\n",
       "      <td>569.000000</td>\n",
       "      <td>569.000000</td>\n",
       "      <td>569.000000</td>\n",
       "      <td>569.000000</td>\n",
       "      <td>569.000000</td>\n",
       "      <td>569.000000</td>\n",
       "      <td>569.000000</td>\n",
       "      <td>569.000000</td>\n",
       "      <td>...</td>\n",
       "      <td>569.000000</td>\n",
       "      <td>569.000000</td>\n",
       "      <td>569.000000</td>\n",
       "      <td>569.000000</td>\n",
       "      <td>569.000000</td>\n",
       "      <td>569.000000</td>\n",
       "      <td>569.000000</td>\n",
       "      <td>569.000000</td>\n",
       "      <td>569.000000</td>\n",
       "      <td>569.000000</td>\n",
       "    </tr>\n",
       "    <tr>\n",
       "      <th>mean</th>\n",
       "      <td>14.127292</td>\n",
       "      <td>19.289649</td>\n",
       "      <td>91.969033</td>\n",
       "      <td>654.889104</td>\n",
       "      <td>0.096360</td>\n",
       "      <td>0.104341</td>\n",
       "      <td>0.088799</td>\n",
       "      <td>0.048919</td>\n",
       "      <td>0.181162</td>\n",
       "      <td>0.062798</td>\n",
       "      <td>...</td>\n",
       "      <td>16.269190</td>\n",
       "      <td>25.677223</td>\n",
       "      <td>107.261213</td>\n",
       "      <td>880.583128</td>\n",
       "      <td>0.132369</td>\n",
       "      <td>0.254265</td>\n",
       "      <td>0.272188</td>\n",
       "      <td>0.114606</td>\n",
       "      <td>0.290076</td>\n",
       "      <td>0.083946</td>\n",
       "    </tr>\n",
       "    <tr>\n",
       "      <th>std</th>\n",
       "      <td>3.524049</td>\n",
       "      <td>4.301036</td>\n",
       "      <td>24.298981</td>\n",
       "      <td>351.914129</td>\n",
       "      <td>0.014064</td>\n",
       "      <td>0.052813</td>\n",
       "      <td>0.079720</td>\n",
       "      <td>0.038803</td>\n",
       "      <td>0.027414</td>\n",
       "      <td>0.007060</td>\n",
       "      <td>...</td>\n",
       "      <td>4.833242</td>\n",
       "      <td>6.146258</td>\n",
       "      <td>33.602542</td>\n",
       "      <td>569.356993</td>\n",
       "      <td>0.022832</td>\n",
       "      <td>0.157336</td>\n",
       "      <td>0.208624</td>\n",
       "      <td>0.065732</td>\n",
       "      <td>0.061867</td>\n",
       "      <td>0.018061</td>\n",
       "    </tr>\n",
       "    <tr>\n",
       "      <th>min</th>\n",
       "      <td>6.981000</td>\n",
       "      <td>9.710000</td>\n",
       "      <td>43.790000</td>\n",
       "      <td>143.500000</td>\n",
       "      <td>0.052630</td>\n",
       "      <td>0.019380</td>\n",
       "      <td>0.000000</td>\n",
       "      <td>0.000000</td>\n",
       "      <td>0.106000</td>\n",
       "      <td>0.049960</td>\n",
       "      <td>...</td>\n",
       "      <td>7.930000</td>\n",
       "      <td>12.020000</td>\n",
       "      <td>50.410000</td>\n",
       "      <td>185.200000</td>\n",
       "      <td>0.071170</td>\n",
       "      <td>0.027290</td>\n",
       "      <td>0.000000</td>\n",
       "      <td>0.000000</td>\n",
       "      <td>0.156500</td>\n",
       "      <td>0.055040</td>\n",
       "    </tr>\n",
       "    <tr>\n",
       "      <th>25%</th>\n",
       "      <td>11.700000</td>\n",
       "      <td>16.170000</td>\n",
       "      <td>75.170000</td>\n",
       "      <td>420.300000</td>\n",
       "      <td>0.086370</td>\n",
       "      <td>0.064920</td>\n",
       "      <td>0.029560</td>\n",
       "      <td>0.020310</td>\n",
       "      <td>0.161900</td>\n",
       "      <td>0.057700</td>\n",
       "      <td>...</td>\n",
       "      <td>13.010000</td>\n",
       "      <td>21.080000</td>\n",
       "      <td>84.110000</td>\n",
       "      <td>515.300000</td>\n",
       "      <td>0.116600</td>\n",
       "      <td>0.147200</td>\n",
       "      <td>0.114500</td>\n",
       "      <td>0.064930</td>\n",
       "      <td>0.250400</td>\n",
       "      <td>0.071460</td>\n",
       "    </tr>\n",
       "    <tr>\n",
       "      <th>50%</th>\n",
       "      <td>13.370000</td>\n",
       "      <td>18.840000</td>\n",
       "      <td>86.240000</td>\n",
       "      <td>551.100000</td>\n",
       "      <td>0.095870</td>\n",
       "      <td>0.092630</td>\n",
       "      <td>0.061540</td>\n",
       "      <td>0.033500</td>\n",
       "      <td>0.179200</td>\n",
       "      <td>0.061540</td>\n",
       "      <td>...</td>\n",
       "      <td>14.970000</td>\n",
       "      <td>25.410000</td>\n",
       "      <td>97.660000</td>\n",
       "      <td>686.500000</td>\n",
       "      <td>0.131300</td>\n",
       "      <td>0.211900</td>\n",
       "      <td>0.226700</td>\n",
       "      <td>0.099930</td>\n",
       "      <td>0.282200</td>\n",
       "      <td>0.080040</td>\n",
       "    </tr>\n",
       "    <tr>\n",
       "      <th>75%</th>\n",
       "      <td>15.780000</td>\n",
       "      <td>21.800000</td>\n",
       "      <td>104.100000</td>\n",
       "      <td>782.700000</td>\n",
       "      <td>0.105300</td>\n",
       "      <td>0.130400</td>\n",
       "      <td>0.130700</td>\n",
       "      <td>0.074000</td>\n",
       "      <td>0.195700</td>\n",
       "      <td>0.066120</td>\n",
       "      <td>...</td>\n",
       "      <td>18.790000</td>\n",
       "      <td>29.720000</td>\n",
       "      <td>125.400000</td>\n",
       "      <td>1084.000000</td>\n",
       "      <td>0.146000</td>\n",
       "      <td>0.339100</td>\n",
       "      <td>0.382900</td>\n",
       "      <td>0.161400</td>\n",
       "      <td>0.317900</td>\n",
       "      <td>0.092080</td>\n",
       "    </tr>\n",
       "    <tr>\n",
       "      <th>max</th>\n",
       "      <td>28.110000</td>\n",
       "      <td>39.280000</td>\n",
       "      <td>188.500000</td>\n",
       "      <td>2501.000000</td>\n",
       "      <td>0.163400</td>\n",
       "      <td>0.345400</td>\n",
       "      <td>0.426800</td>\n",
       "      <td>0.201200</td>\n",
       "      <td>0.304000</td>\n",
       "      <td>0.097440</td>\n",
       "      <td>...</td>\n",
       "      <td>36.040000</td>\n",
       "      <td>49.540000</td>\n",
       "      <td>251.200000</td>\n",
       "      <td>4254.000000</td>\n",
       "      <td>0.222600</td>\n",
       "      <td>1.058000</td>\n",
       "      <td>1.252000</td>\n",
       "      <td>0.291000</td>\n",
       "      <td>0.663800</td>\n",
       "      <td>0.207500</td>\n",
       "    </tr>\n",
       "  </tbody>\n",
       "</table>\n",
       "<p>8 rows × 30 columns</p>\n",
       "</div>"
      ],
      "text/plain": [
       "       mean radius  mean texture  mean perimeter    mean area  \\\n",
       "count   569.000000    569.000000      569.000000   569.000000   \n",
       "mean     14.127292     19.289649       91.969033   654.889104   \n",
       "std       3.524049      4.301036       24.298981   351.914129   \n",
       "min       6.981000      9.710000       43.790000   143.500000   \n",
       "25%      11.700000     16.170000       75.170000   420.300000   \n",
       "50%      13.370000     18.840000       86.240000   551.100000   \n",
       "75%      15.780000     21.800000      104.100000   782.700000   \n",
       "max      28.110000     39.280000      188.500000  2501.000000   \n",
       "\n",
       "       mean smoothness  mean compactness  mean concavity  mean concave points  \\\n",
       "count       569.000000        569.000000      569.000000           569.000000   \n",
       "mean          0.096360          0.104341        0.088799             0.048919   \n",
       "std           0.014064          0.052813        0.079720             0.038803   \n",
       "min           0.052630          0.019380        0.000000             0.000000   \n",
       "25%           0.086370          0.064920        0.029560             0.020310   \n",
       "50%           0.095870          0.092630        0.061540             0.033500   \n",
       "75%           0.105300          0.130400        0.130700             0.074000   \n",
       "max           0.163400          0.345400        0.426800             0.201200   \n",
       "\n",
       "       mean symmetry  mean fractal dimension  ...  worst radius  \\\n",
       "count     569.000000              569.000000  ...    569.000000   \n",
       "mean        0.181162                0.062798  ...     16.269190   \n",
       "std         0.027414                0.007060  ...      4.833242   \n",
       "min         0.106000                0.049960  ...      7.930000   \n",
       "25%         0.161900                0.057700  ...     13.010000   \n",
       "50%         0.179200                0.061540  ...     14.970000   \n",
       "75%         0.195700                0.066120  ...     18.790000   \n",
       "max         0.304000                0.097440  ...     36.040000   \n",
       "\n",
       "       worst texture  worst perimeter   worst area  worst smoothness  \\\n",
       "count     569.000000       569.000000   569.000000        569.000000   \n",
       "mean       25.677223       107.261213   880.583128          0.132369   \n",
       "std         6.146258        33.602542   569.356993          0.022832   \n",
       "min        12.020000        50.410000   185.200000          0.071170   \n",
       "25%        21.080000        84.110000   515.300000          0.116600   \n",
       "50%        25.410000        97.660000   686.500000          0.131300   \n",
       "75%        29.720000       125.400000  1084.000000          0.146000   \n",
       "max        49.540000       251.200000  4254.000000          0.222600   \n",
       "\n",
       "       worst compactness  worst concavity  worst concave points  \\\n",
       "count         569.000000       569.000000            569.000000   \n",
       "mean            0.254265         0.272188              0.114606   \n",
       "std             0.157336         0.208624              0.065732   \n",
       "min             0.027290         0.000000              0.000000   \n",
       "25%             0.147200         0.114500              0.064930   \n",
       "50%             0.211900         0.226700              0.099930   \n",
       "75%             0.339100         0.382900              0.161400   \n",
       "max             1.058000         1.252000              0.291000   \n",
       "\n",
       "       worst symmetry  worst fractal dimension  \n",
       "count      569.000000               569.000000  \n",
       "mean         0.290076                 0.083946  \n",
       "std          0.061867                 0.018061  \n",
       "min          0.156500                 0.055040  \n",
       "25%          0.250400                 0.071460  \n",
       "50%          0.282200                 0.080040  \n",
       "75%          0.317900                 0.092080  \n",
       "max          0.663800                 0.207500  \n",
       "\n",
       "[8 rows x 30 columns]"
      ]
     },
     "execution_count": 53,
     "metadata": {},
     "output_type": "execute_result"
    }
   ],
   "source": [
    "df_cancer.describe()"
   ]
  },
  {
   "cell_type": "markdown",
   "metadata": {},
   "source": [
    "Antes de entrenar el modelo se debe dividir el dataset en variables predictoras (X) y la variable objetivo (y)."
   ]
  },
  {
   "cell_type": "code",
   "execution_count": 56,
   "metadata": {},
   "outputs": [],
   "source": [
    "# Añadir la columna de la etiqueta (maligno o benigno) al DataFrame\n",
    "df_cancer['target'] = load_breast_cancer().target\n",
    "\n",
    "# Dividir las características (X) y la etiqueta (y)\n",
    "X_cancer = df_cancer.drop('target', axis=1)\n",
    "y_cancer = df_cancer['target']"
   ]
  },
  {
   "cell_type": "markdown",
   "metadata": {},
   "source": [
    "### 4.2. Métodos supervisados"
   ]
  },
  {
   "cell_type": "markdown",
   "metadata": {},
   "source": [
    "#### 4.2.1 Análisis de Discriminante"
   ]
  },
  {
   "cell_type": "markdown",
   "metadata": {},
   "source": [
    "Para entrenar el modelo es necesario dividir el dataset en conjuntos de entrenamiento (80%) y prueba (20%), como se realiza a continuación:"
   ]
  },
  {
   "cell_type": "code",
   "execution_count": 65,
   "metadata": {},
   "outputs": [],
   "source": [
    "X_train, X_test, y_train, y_test = train_test_split(X_cancer, y_cancer, test_size=0.2, random_state=42)"
   ]
  },
  {
   "cell_type": "code",
   "execution_count": 74,
   "metadata": {},
   "outputs": [
    {
     "name": "stdout",
     "output_type": "stream",
     "text": [
      "Exactitud del modelo (LDA): 0.9561\n",
      "Recall del modelo (LDA): 0.9859\n",
      "Precisión del modelo (LDA): 0.9459\n"
     ]
    }
   ],
   "source": [
    "#se entrena el modelo\n",
    "model = LinearDiscriminantAnalysis()\n",
    "model.fit(X_train, y_train)\n",
    "\n",
    "# Hacer predicciones\n",
    "y_pred = model.predict(X_test)\n",
    "\n",
    "# Calcular la precisión (accuracy) y el recall\n",
    "accuracy_cancer_lda = accuracy_score(y_test, y_pred)\n",
    "recall_cancer_lda = recall_score(y_test, y_pred)\n",
    "precision_cancer = precision_score(y_test, y_pred)\n",
    "\n",
    "print(f\"Exactitud del modelo (LDA): {accuracy_cancer_lda:.4f}\")\n",
    "print(f\"Recall del modelo (LDA): {recall_cancer_lda:.4f}\")\n",
    "print(f\"Precisión del modelo (LDA): {precision_cancer:.4f}\")"
   ]
  },
  {
   "cell_type": "markdown",
   "metadata": {},
   "source": [
    "Una vez entrenado el modelo, se obtiene que:\n",
    "\n",
    "- La exactitud refleja el rendimiento del modelo, en este caso el 95.61% las veces el modelo clasificó correctamente a los tumores malignos o benignos cuando efectivamente lo eran.\n",
    "- El recall indica que el modelo detecta 98.59% de los tumores malignos correctamente.\n",
    "- La precisión de 94.59% indica que existe un pequeño porcentaje de falsos positivos (cercano al 5%) que se debe considerar, especialmente si el costo de falsos positivos es alto, ya que significaría que se aplicaría tratamiento a pacientes que no lo necesitan.\n",
    "\n",
    "En resumen, el modelo tiene un buen rendimiento tanto en términos de exactitud global como en la detección de tumores malignos."
   ]
  },
  {
   "cell_type": "code",
   "execution_count": 77,
   "metadata": {},
   "outputs": [
    {
     "data": {
      "image/png": "[encoded data removed]",
      "text/plain": [
       "<Figure size 800x600 with 2 Axes>"
      ]
     },
     "metadata": {},
     "output_type": "display_data"
    }
   ],
   "source": [
    "# Calcular la matriz de confusión\n",
    "conf_matrix_cancer_lda = confusion_matrix(y_test, y_pred)\n",
    "\n",
    "# Graficar la matriz de confusión\n",
    "plt.figure(figsize=(8,6))\n",
    "sns.heatmap(conf_matrix_cancer_lda, annot=True, fmt='d', cmap='Blues', xticklabels=['Maligno', 'Benigno'], yticklabels=['Maligno', 'Benigno'])\n",
    "plt.ylabel('Valor Real')\n",
    "plt.xlabel('Predicción (LDA)')\n",
    "plt.title('Matriz de Confusión con LDA')\n",
    "plt.show()"
   ]
  },
  {
   "cell_type": "markdown",
   "metadata": {},
   "source": [
    "En cuanto a la matriz de confusión se puede decir que: \n",
    "\n",
    "- 39 tumores malignos fueron clasificados correctamente.\n",
    "- 70 tumores benignos fueron claificados correctamente.\n",
    "- 1 tumor benigno fue clasificado como maligno, es decir, falso positivo.\n",
    "- 4 tumores malignos fueron clasificados como benignos, falso negativo."
   ]
  },
  {
   "cell_type": "markdown",
   "metadata": {},
   "source": [
    "### 4.3. Métodos supervisados\n",
    "\n",
    "Los métodos de Machine Learning supervisado son aquellos en los que el modelo aprende a partir de un conjunto de datos etiquetados, es decir, donde las características (variables independientes) y la variable objetivo (variable dependiente) ya están definidas. El objetivo del aprendizaje supervisado es que el modelo pueda predecir la salida (o etiqueta) correcta para nuevas instancias basándose en lo que ha aprendido de los datos de entrenamiento."
   ]
  },
  {
   "cell_type": "code",
   "execution_count": 83,
   "metadata": {},
   "outputs": [],
   "source": [
    "from sklearn.mixture import GaussianMixture"
   ]
  },
  {
   "cell_type": "code",
   "execution_count": 81,
   "metadata": {},
   "outputs": [],
   "source": [
    "df_cancer_GM = pd.DataFrame(load_breast_cancer().data,columns = load_breast_cancer().feature_names)"
   ]
  },
  {
   "cell_type": "code",
   "execution_count": 85,
   "metadata": {},
   "outputs": [],
   "source": [
    "# Añadir la columna de la etiqueta (maligno o benigno) al DataFrame\n",
    "df_cancer_GM['target'] = load_breast_cancer().target\n",
    "\n",
    "# Dividir las características (X) y la etiqueta (y)\n",
    "X_cancer_GM = df_cancer_GM.drop('target', axis=1)\n",
    "y_cancer_GM = df_cancer_GM['target']"
   ]
  },
  {
   "cell_type": "code",
   "execution_count": 87,
   "metadata": {},
   "outputs": [],
   "source": [
    "# Escalar las características\n",
    "scaler = StandardScaler()\n",
    "X_scaled_GM = scaler.fit_transform(df_cancer_GM.drop('target', axis=1))"
   ]
  },
  {
   "cell_type": "code",
   "execution_count": 89,
   "metadata": {},
   "outputs": [
    {
     "name": "stderr",
     "output_type": "stream",
     "text": [
      "C:\\Users\\raval\\anaconda3\\Lib\\site-packages\\sklearn\\cluster\\_kmeans.py:1429: UserWarning: KMeans is known to have a memory leak on Windows with MKL, when there are less chunks than available threads. You can avoid it by setting the environment variable OMP_NUM_THREADS=3.\n",
      "  warnings.warn(\n"
     ]
    }
   ],
   "source": [
    "# Definir y ajustar el modelo GMM\n",
    "GM = GaussianMixture(n_components=2, random_state=42)  # Dos componentes: benigno y maligno\n",
    "GM.fit(X_scaled_GM)\n",
    "\n",
    "# Predecir las etiquetas\n",
    "labels = GM.predict(X_scaled_GM)\n",
    "\n",
    "# Agregar las predicciones al DataFrame\n",
    "df_cancer_GM['GMM Labels'] = labels"
   ]
  },
  {
   "cell_type": "code",
   "execution_count": 91,
   "metadata": {},
   "outputs": [
    {
     "data": {
      "image/png": "[encoded data removed]",
      "text/plain": [
       "<Figure size 1200x600 with 1 Axes>"
      ]
     },
     "metadata": {},
     "output_type": "display_data"
    }
   ],
   "source": [
    "# Visualización de los resultados\n",
    "plt.figure(figsize=(12, 6))\n",
    "sns.scatterplot(data=df_cancer_GM, x='mean radius', y='mean texture', hue='GMM Labels', palette='Set1', alpha=0.6)\n",
    "plt.title('Segmentación de Cáncer de Mama con Gaussian Mixture Model')\n",
    "plt.xlabel('Radio Medio')\n",
    "plt.ylabel('Textura Media')\n",
    "plt.legend(title='Clúster GMM')\n",
    "plt.show()"
   ]
  },
  {
   "cell_type": "code",
   "execution_count": 93,
   "metadata": {},
   "outputs": [
    {
     "name": "stdout",
     "output_type": "stream",
     "text": [
      "[[196  16]\n",
      " [ 18 339]]\n"
     ]
    }
   ],
   "source": [
    "# Mostrar la matriz de confusión y el informe de clasificación\n",
    "print(confusion_matrix(df_cancer_GM['target'], df_cancer_GM['GMM Labels']))\n",
    "#print(classification_report(df_cancer_GM['target'], df_cancer_GM['GMM Labels']))"
   ]
  },
  {
   "cell_type": "code",
   "execution_count": 95,
   "metadata": {},
   "outputs": [
    {
     "name": "stdout",
     "output_type": "stream",
     "text": [
      "Exactitud del modelo (GMM): 0.9402\n",
      "Recall del modelo (GMM): 0.9496\n",
      "Precisión del modelo (GMM): 0.9549\n"
     ]
    }
   ],
   "source": [
    "# Calcular la precisión (accuracy) y el recall\n",
    "accuracy_cancer_GM = accuracy_score(df_cancer_GM['target'], df_cancer_GM['GMM Labels'])\n",
    "recall_cancer_GM = recall_score(df_cancer_GM['target'], df_cancer_GM['GMM Labels'])\n",
    "precision_cancer_GM = precision_score(df_cancer_GM['target'], df_cancer_GM['GMM Labels'])\n",
    "\n",
    "print(f\"Exactitud del modelo (GMM): {accuracy_cancer_GM:.4f}\")\n",
    "print(f\"Recall del modelo (GMM): {recall_cancer_GM:.4f}\")\n",
    "print(f\"Precisión del modelo (GMM): {precision_cancer_GM:.4f}\")"
   ]
  },
  {
   "cell_type": "code",
   "execution_count": 97,
   "metadata": {},
   "outputs": [
    {
     "data": {
      "image/png": "[encoded data removed]",
      "text/plain": [
       "<Figure size 800x600 with 2 Axes>"
      ]
     },
     "metadata": {},
     "output_type": "display_data"
    }
   ],
   "source": [
    "# Calcular la matriz de confusión\n",
    "conf_matrix_cancer_GMM = confusion_matrix(df_cancer_GM['target'], df_cancer_GM['GMM Labels'])\n",
    "\n",
    "# Graficar la matriz de confusión\n",
    "plt.figure(figsize=(8,6))\n",
    "sns.heatmap(conf_matrix_cancer_GMM, annot=True, fmt='d', cmap='Blues', xticklabels=['Maligno', 'Benigno'], yticklabels=['Maligno', 'Benigno'])\n",
    "plt.ylabel('Valor Real')\n",
    "plt.xlabel('Predicción (GMM)')\n",
    "plt.title('Matriz de Confusión con GMM')\n",
    "plt.show()"
   ]
  },
  {
   "cell_type": "markdown",
   "metadata": {},
   "source": [
    "## 5. titanic"
   ]
  },
  {
   "cell_type": "markdown",
   "metadata": {},
   "source": [
    "### 5.1. Dataset\n",
    "La descarga del dataset `titanic` se realiza desde OpenML por medio de fetch_openml. Esta función de scikit-learn permite la descarga de datasets desde la plataforma OpenML.\n",
    "\n",
    "Para este caso, se imprimen las variables predictorias como X_titanic.\n",
    "\n",
    "El naufragio del Titanic es uno de los eventos más trágicos y conocidos de la historia marítima. En su viaje inaugural, el 15 de abril de 1912, el Titanic, que era en su momento el barco más grande del mundo, colisionó con un iceberg y se hundió en el Océano Atlántico. De los más de 2,200 pasajeros y tripulantes a bordo, solo alrededor de 700 sobrevivieron. Este evento ha sido objeto de muchos estudios y análisis, con el fin de entender mejor los factores que influyeron en la supervivencia de los pasajeros.\n",
    "\n",
    "El propósito de este dataset es permitir la exploración y el análisis de los factores que pudieron influir en la supervivencia de los pasajeros, tales como su clase de boleto, sexo, edad, entre otros.\n",
    "\n",
    "Estructura del Dataset:\n",
    "'pclass', 'name', 'sex', 'age', 'sibsp', 'parch', 'ticket', 'fare', 'cabin', 'embarked', 'boat', 'body', 'home.dest'"
   ]
  },
  {
   "cell_type": "code",
   "execution_count": 102,
   "metadata": {},
   "outputs": [
    {
     "name": "stdout",
     "output_type": "stream",
     "text": [
      "Index(['pclass', 'name', 'sex', 'age', 'sibsp', 'parch', 'ticket', 'fare',\n",
      "       'cabin', 'embarked', 'boat', 'body', 'home.dest'],\n",
      "      dtype='object')\n"
     ]
    }
   ],
   "source": [
    "X_titanic, y_titanic = fetch_openml(\"titanic\", version=1, as_frame=True, return_X_y=True)\n",
    "print(X_titanic.columns)"
   ]
  },
  {
   "cell_type": "code",
   "execution_count": 104,
   "metadata": {},
   "outputs": [
    {
     "data": {
      "text/html": [
       "<div>\n",
       "<style scoped>\n",
       "    .dataframe tbody tr th:only-of-type {\n",
       "        vertical-align: middle;\n",
       "    }\n",
       "\n",
       "    .dataframe tbody tr th {\n",
       "        vertical-align: top;\n",
       "    }\n",
       "\n",
       "    .dataframe thead th {\n",
       "        text-align: right;\n",
       "    }\n",
       "</style>\n",
       "<table border=\"1\" class=\"dataframe\">\n",
       "  <thead>\n",
       "    <tr style=\"text-align: right;\">\n",
       "      <th></th>\n",
       "      <th>pclass</th>\n",
       "      <th>name</th>\n",
       "      <th>sex</th>\n",
       "      <th>age</th>\n",
       "      <th>sibsp</th>\n",
       "      <th>parch</th>\n",
       "      <th>ticket</th>\n",
       "      <th>fare</th>\n",
       "      <th>cabin</th>\n",
       "      <th>embarked</th>\n",
       "      <th>boat</th>\n",
       "      <th>body</th>\n",
       "      <th>home.dest</th>\n",
       "    </tr>\n",
       "  </thead>\n",
       "  <tbody>\n",
       "    <tr>\n",
       "      <th>0</th>\n",
       "      <td>1</td>\n",
       "      <td>Allen, Miss. Elisabeth Walton</td>\n",
       "      <td>female</td>\n",
       "      <td>29.0000</td>\n",
       "      <td>0</td>\n",
       "      <td>0</td>\n",
       "      <td>24160</td>\n",
       "      <td>211.3375</td>\n",
       "      <td>B5</td>\n",
       "      <td>S</td>\n",
       "      <td>2</td>\n",
       "      <td>NaN</td>\n",
       "      <td>St Louis, MO</td>\n",
       "    </tr>\n",
       "    <tr>\n",
       "      <th>1</th>\n",
       "      <td>1</td>\n",
       "      <td>Allison, Master. Hudson Trevor</td>\n",
       "      <td>male</td>\n",
       "      <td>0.9167</td>\n",
       "      <td>1</td>\n",
       "      <td>2</td>\n",
       "      <td>113781</td>\n",
       "      <td>151.5500</td>\n",
       "      <td>C22 C26</td>\n",
       "      <td>S</td>\n",
       "      <td>11</td>\n",
       "      <td>NaN</td>\n",
       "      <td>Montreal, PQ / Chesterville, ON</td>\n",
       "    </tr>\n",
       "    <tr>\n",
       "      <th>2</th>\n",
       "      <td>1</td>\n",
       "      <td>Allison, Miss. Helen Loraine</td>\n",
       "      <td>female</td>\n",
       "      <td>2.0000</td>\n",
       "      <td>1</td>\n",
       "      <td>2</td>\n",
       "      <td>113781</td>\n",
       "      <td>151.5500</td>\n",
       "      <td>C22 C26</td>\n",
       "      <td>S</td>\n",
       "      <td>NaN</td>\n",
       "      <td>NaN</td>\n",
       "      <td>Montreal, PQ / Chesterville, ON</td>\n",
       "    </tr>\n",
       "    <tr>\n",
       "      <th>3</th>\n",
       "      <td>1</td>\n",
       "      <td>Allison, Mr. Hudson Joshua Creighton</td>\n",
       "      <td>male</td>\n",
       "      <td>30.0000</td>\n",
       "      <td>1</td>\n",
       "      <td>2</td>\n",
       "      <td>113781</td>\n",
       "      <td>151.5500</td>\n",
       "      <td>C22 C26</td>\n",
       "      <td>S</td>\n",
       "      <td>NaN</td>\n",
       "      <td>135.0</td>\n",
       "      <td>Montreal, PQ / Chesterville, ON</td>\n",
       "    </tr>\n",
       "    <tr>\n",
       "      <th>4</th>\n",
       "      <td>1</td>\n",
       "      <td>Allison, Mrs. Hudson J C (Bessie Waldo Daniels)</td>\n",
       "      <td>female</td>\n",
       "      <td>25.0000</td>\n",
       "      <td>1</td>\n",
       "      <td>2</td>\n",
       "      <td>113781</td>\n",
       "      <td>151.5500</td>\n",
       "      <td>C22 C26</td>\n",
       "      <td>S</td>\n",
       "      <td>NaN</td>\n",
       "      <td>NaN</td>\n",
       "      <td>Montreal, PQ / Chesterville, ON</td>\n",
       "    </tr>\n",
       "  </tbody>\n",
       "</table>\n",
       "</div>"
      ],
      "text/plain": [
       "   pclass                                             name     sex      age  \\\n",
       "0       1                    Allen, Miss. Elisabeth Walton  female  29.0000   \n",
       "1       1                   Allison, Master. Hudson Trevor    male   0.9167   \n",
       "2       1                     Allison, Miss. Helen Loraine  female   2.0000   \n",
       "3       1             Allison, Mr. Hudson Joshua Creighton    male  30.0000   \n",
       "4       1  Allison, Mrs. Hudson J C (Bessie Waldo Daniels)  female  25.0000   \n",
       "\n",
       "   sibsp  parch  ticket      fare    cabin embarked boat   body  \\\n",
       "0      0      0   24160  211.3375       B5        S    2    NaN   \n",
       "1      1      2  113781  151.5500  C22 C26        S   11    NaN   \n",
       "2      1      2  113781  151.5500  C22 C26        S  NaN    NaN   \n",
       "3      1      2  113781  151.5500  C22 C26        S  NaN  135.0   \n",
       "4      1      2  113781  151.5500  C22 C26        S  NaN    NaN   \n",
       "\n",
       "                         home.dest  \n",
       "0                     St Louis, MO  \n",
       "1  Montreal, PQ / Chesterville, ON  \n",
       "2  Montreal, PQ / Chesterville, ON  \n",
       "3  Montreal, PQ / Chesterville, ON  \n",
       "4  Montreal, PQ / Chesterville, ON  "
      ]
     },
     "execution_count": 104,
     "metadata": {},
     "output_type": "execute_result"
    }
   ],
   "source": [
    "X_titanic.head(5)"
   ]
  },
  {
   "cell_type": "markdown",
   "metadata": {},
   "source": [
    "#### Descripción de las variables:"
   ]
  },
  {
   "cell_type": "markdown",
   "metadata": {},
   "source": [
    "- **pclass:**\n",
    "Clase del boleto del pasajero.\n",
    "*Valores:*\n",
    "1: Primera clase\n",
    "2: Segunda clase\n",
    "3: Tercera clase\n",
    "\n",
    "    *Tipo de dato:* Categórico ordinal.\n",
    "\n",
    "- **name:**\n",
    "Nombre del pasajero.\n",
    "\n",
    "    *Tipo de dato:* Categórico nominal.\n",
    "\n",
    "- **sex:**\n",
    "Sexo del pasajero.\n",
    "    *Valores:* \"male\": Hombre, \"female\": Mujer\n",
    "\n",
    "    *Tipo de dato:* Categórico nominal.\n",
    "\n",
    "- **age:**\n",
    "Edad del pasajero en años.\n",
    "\n",
    "    *Tipo de dato:* Numérico continuo.\n",
    "\n",
    "- **sibsp:**\n",
    "Número de hermanos y cónyuges a bordo del Titanic.\n",
    "\n",
    "    *Tipo de dato:* Numérico discreto.\n",
    "\n",
    "- **parch:**\n",
    "Número de padres e hijos a bordo del Titanic.\n",
    "\n",
    "    *Tipo de dato:* Numérico discreto.\n",
    "\n",
    "- **ticket:**\n",
    "Número de ticket del pasajero por el boleto.\n",
    "\n",
    "    *Tipo de dato:* Categórico nominal.\n",
    "\n",
    "- **fare:**\n",
    "Tarifa pagada por el pasajero por su billete.\n",
    "\n",
    "    *Tipo de dato:* Numérico continuo.\n",
    "\n",
    "- **cabin:**\n",
    "Identificación de cabina del pasajero a bordo.\n",
    "\n",
    "    *Tipo de dato:* Categórico nominal.\n",
    "\n",
    "- **embarked:**\n",
    "Puerto donde el pasajero embarcó.\n",
    "*Valores:* \"C\": Cherburgo, \"Q\": Queenstown, \"S\": Southampton\n",
    "\n",
    "    *Tipo de dato:* Categórico nominal.\n",
    "\n",
    "- **boat:**\n",
    "Número de bote que rescató al pasajero luego del hundimiento.\n",
    "\n",
    "    *Tipo de dato:* Categórico nominal.\n",
    "\n",
    "- **body:**\n",
    "Número de cuerpo que se encontró luego del hundimiento.\n",
    "\n",
    "    *Tipo de dato:* Numérico discreto.\n",
    "\n",
    "- **home.dest:**\n",
    "Lugar de destino o lugar de residencia.\n",
    "\n",
    "    *Tipo de dato:* Categórico nominal."
   ]
  },
  {
   "cell_type": "code",
   "execution_count": 108,
   "metadata": {},
   "outputs": [
    {
     "name": "stdout",
     "output_type": "stream",
     "text": [
      "Dimensiones del dataset (filas, columnas): (1309, 13)\n",
      "\n",
      "Información general del dataset:\n",
      "<class 'pandas.core.frame.DataFrame'>\n",
      "RangeIndex: 1309 entries, 0 to 1308\n",
      "Data columns (total 13 columns):\n",
      " #   Column     Non-Null Count  Dtype   \n",
      "---  ------     --------------  -----   \n",
      " 0   pclass     1309 non-null   int64   \n",
      " 1   name       1309 non-null   object  \n",
      " 2   sex        1309 non-null   category\n",
      " 3   age        1046 non-null   float64 \n",
      " 4   sibsp      1309 non-null   int64   \n",
      " 5   parch      1309 non-null   int64   \n",
      " 6   ticket     1309 non-null   object  \n",
      " 7   fare       1308 non-null   float64 \n",
      " 8   cabin      295 non-null    object  \n",
      " 9   embarked   1307 non-null   category\n",
      " 10  boat       486 non-null    object  \n",
      " 11  body       121 non-null    float64 \n",
      " 12  home.dest  745 non-null    object  \n",
      "dtypes: category(2), float64(3), int64(3), object(5)\n",
      "memory usage: 115.4+ KB\n",
      "None\n",
      "\n",
      "Valores nulos por columna:\n",
      "pclass          0\n",
      "name            0\n",
      "sex             0\n",
      "age           263\n",
      "sibsp           0\n",
      "parch           0\n",
      "ticket          0\n",
      "fare            1\n",
      "cabin        1014\n",
      "embarked        2\n",
      "boat          823\n",
      "body         1188\n",
      "home.dest     564\n",
      "dtype: int64\n"
     ]
    }
   ],
   "source": [
    "print(\"Dimensiones del dataset (filas, columnas):\", X_titanic.shape)\n",
    "print(\"\\nInformación general del dataset:\")\n",
    "print(X_titanic.info())\n",
    "\n",
    "print(\"\\nValores nulos por columna:\")\n",
    "print(X_titanic.isnull().sum())"
   ]
  },
  {
   "cell_type": "markdown",
   "metadata": {},
   "source": [
    "El dataset contiene 1,309 filas y 13 columnas, representando información sobre los pasajeros del Titanic. A continuación se detalla la estructura general del dataset, incluyendo el tipo de dato de cada columna y la cantidad de valores nulos.\n",
    "\n",
    "Estructura General del Dataset:\n",
    "- pclass: Tipo entero (int64), sin valores nulos (1,309 valores).\n",
    "- name: Tipo de dato object (cadena de texto), sin valores nulos (1,309 valores).\n",
    "- sex: Tipo categórico (category), sin valores nulos (1,309 valores).\n",
    "- age: Tipo flotante (float64), con 263 valores nulos.\n",
    "- sibsp: Tipo entero (int64), sin valores nulos (1,309 valores).\n",
    "- parch: Tipo entero (int64), sin valores nulos (1,309 valores).\n",
    "- ticket: Tipo object (cadena de texto), sin valores nulos (1,309 valores).\n",
    "- fare: Tipo flotante (float64), con 1 valor nulo.\n",
    "- cabin: Tipo object (cadena de texto), con 1,014 valores nulos, indicando que la mayoría de los pasajeros no tienen un camarote registrado.\n",
    "- embarked: Tipo categórico (category), con 2 valores nulos.\n",
    "- boat: Tipo object (cadena de texto), con 823 valores nulos, ya que muchos pasajeros no fueron rescatados en botes.\n",
    "- body: Tipo flotante (float64), con 1,188 valores nulos, ya que la mayoría de los cuerpos no fueron recuperados.\n",
    "- home.dest: Tipo object (cadena de texto), con 564 valores nulos.\n",
    "\n",
    "Cantidad de Valores Nulos por Columna:\n",
    "- age: 263 valores nulos.\n",
    "- fare: 1 valor nulo.\n",
    "- cabin: 1,014 valores nulos.\n",
    "- embarked: 2 valores nulos.\n",
    "- boat: 823 valores nulos.\n",
    "- body: 1,188 valores nulos.\n",
    "- home.dest: 564 valores nulos."
   ]
  },
  {
   "cell_type": "markdown",
   "metadata": {},
   "source": [
    "### 5.2. Métodos supervisados\n",
    "\n",
    "Los métodos de Machine Learning supervisado son aquellos en los que el modelo aprende a partir de un conjunto de datos etiquetados, es decir, donde las características (variables independientes) y la variable objetivo (variable dependiente) ya están definidas. El objetivo del aprendizaje supervisado es que el modelo pueda predecir la salida (o etiqueta) correcta para nuevas instancias basándose en lo que ha aprendido de los datos de entrenamiento."
   ]
  },
  {
   "cell_type": "markdown",
   "metadata": {},
   "source": [
    "Para utilizar el df Titanic se debe determinar cómo se manejarán los datos nulos:\n",
    "\n",
    " - Identificar qué variables tienen valores nulos\n",
    " - Seleccionar el método que se utilizará para imputar los valores nulos"
   ]
  },
  {
   "cell_type": "code",
   "execution_count": 121,
   "metadata": {},
   "outputs": [
    {
     "name": "stdout",
     "output_type": "stream",
     "text": [
      "Cantidad de elementos nulos en X:\n",
      "pclass         0\n",
      "name           0\n",
      "sex            0\n",
      "age          263\n",
      "sibsp          0\n",
      "parch          0\n",
      "ticket         0\n",
      "fare           1\n",
      "cabin       1014\n",
      "embarked       2\n",
      "dtype: int64\n",
      "Cantidad de elementos nulos en y:\n",
      "0\n"
     ]
    }
   ],
   "source": [
    "# Se quitan las columnas boat, body y home.dest del dataset\n",
    "X_titanic.drop(['boat', 'body', 'home.dest'], axis=1, inplace=True)\n",
    "\n",
    "# Se indentifican las columnas con nulos en X\n",
    "print(f'Cantidad de elementos nulos en X:\\n{X_titanic.isnull().sum()}')\n",
    "\n",
    "# Se identifica los nulos en y\n",
    "print(f'Cantidad de elementos nulos en y:\\n{y_titanic.isnull().sum()}')"
   ]
  },
  {
   "cell_type": "markdown",
   "metadata": {},
   "source": [
    "Se observa que la variable **age (edad)** tiene 263 observaciones nulas, **fare** tiene 1, **cabin (cabina)** tiene 1014 y **embarked** tiene 2. Para solucionar ésto utilizaremos imputación de datos con la moda de la variable, y en algunos casos condiconada con otras variables para lograr mayor acertividad.  \n",
    "\n",
    "- Para *cabin* se utilizará *pclass* y *sex* y se imputará según la moda del grupo.\n",
    "- Para *age* se utilizará *pclass* , *sex*  y *cabin* y se imputará según la moda del grupo.\n",
    "- Para *fare* se utilizará la media de la misma variable."
   ]
  },
  {
   "cell_type": "code",
   "execution_count": 124,
   "metadata": {},
   "outputs": [
    {
     "name": "stdout",
     "output_type": "stream",
     "text": [
      "0\n"
     ]
    }
   ],
   "source": [
    "# reemplazamos con la moda según pclass y sex\n",
    "X_titanic['cabin'] = X_titanic['cabin'].astype('category')\n",
    "# Función para imputar la moda condicionalmente\n",
    "def impute_mode(row):\n",
    "    if pd.isnull(row['cabin']):\n",
    "        mode_value = X_titanic[(X_titanic['pclass'] == row['pclass']) & (X_titanic['sex'] == row['sex'])]['cabin'].mode()\n",
    "        return mode_value[0] if not mode_value.empty else row['cabin']  # Retorna la moda si existe\n",
    "    else:\n",
    "        return row['cabin']\n",
    "# Aplicar la función\n",
    "X_titanic['cabin'] = X_titanic.apply(impute_mode, axis=1)\n",
    "# Comprobar resultados\n",
    "print(X_titanic['cabin'].isnull().sum())"
   ]
  },
  {
   "cell_type": "markdown",
   "metadata": {},
   "source": [
    "De esta forma la variable cabin queda sin observaciones nulas."
   ]
  },
  {
   "cell_type": "code",
   "execution_count": 127,
   "metadata": {},
   "outputs": [
    {
     "name": "stdout",
     "output_type": "stream",
     "text": [
      "16\n"
     ]
    }
   ],
   "source": [
    "# reemplazamos con la moda considerando pclass, sex y cabin\n",
    "X_titanic['age'] = X_titanic['age'].astype('category')\n",
    "# Función para imputar la moda condicionalmente\n",
    "def impute_mode(row):\n",
    "    if pd.isnull(row['age']):\n",
    "        mode_value = X_titanic[(X_titanic['pclass'] == row['pclass']) & (X_titanic['sex'] == row['sex']) & (X_titanic['cabin'] == row['cabin'])]['age'].mode()\n",
    "        return mode_value[0] if not mode_value.empty else row['age']  # Retorna la moda si existe\n",
    "    else:\n",
    "        return row['age']\n",
    "\n",
    "# Aplicar la función\n",
    "X_titanic['age'] = X_titanic.apply(impute_mode, axis=1)\n",
    "# Comprobar resultados\n",
    "print(X_titanic['age'].isnull().sum())"
   ]
  },
  {
   "cell_type": "markdown",
   "metadata": {},
   "source": [
    "Al realizar estos pasos se logra imputar la totalidad de los nulos en *cabin*, sin embargo, en *age* quedan 16 observaciones que no es posible imputar porque no existe una moda para la combinación de valores de las 3 variables en conjunto, por lo tanto en el caso de esas 16 observaciones se imputará con la media de *age* por si sola y queda sin observaciones nulas."
   ]
  },
  {
   "cell_type": "code",
   "execution_count": 130,
   "metadata": {},
   "outputs": [
    {
     "name": "stdout",
     "output_type": "stream",
     "text": [
      "0\n"
     ]
    }
   ],
   "source": [
    "# Calcular la media de la columna 'Age'\n",
    "mean_age = X_titanic['age'].mean()\n",
    "# Imputar los valores faltantes con la media\n",
    "X_titanic.fillna({'age': mean_age}, inplace=True)\n",
    "# Verificar que no haya más valores faltantes en 'Age'\n",
    "print(X_titanic['age'].isnull().sum())\n",
    "\n",
    "# Transformar age a cuatro categorías: Niño, Joven, Adulto y Adulto Mayor\n",
    "X_titanic['age'] = pd.cut(X_titanic['age'], bins=[0, 12, 30, 60, 100], labels=['Nino', 'Joven', 'Adulto', 'Adulto_Mayor'])"
   ]
  },
  {
   "cell_type": "markdown",
   "metadata": {},
   "source": [
    "Para el caso de la variable age se crean 4 categorías: \n",
    "\n",
    "- Niño: De 0 a 12 años (incluye a los niños hasta los 12 años).\n",
    "- Joven: De 13 a 30 años.\n",
    "- Adulto: De 31 a 60 años.\n",
    "- Adulto Mayor: De 61 a 100 años."
   ]
  },
  {
   "cell_type": "code",
   "execution_count": null,
   "metadata": {},
   "outputs": [],
   "source": []
  },
  {
   "cell_type": "code",
   "execution_count": null,
   "metadata": {},
   "outputs": [],
   "source": []
  },
  {
   "cell_type": "code",
   "execution_count": null,
   "metadata": {},
   "outputs": [],
   "source": []
  },
  {
   "cell_type": "code",
   "execution_count": null,
   "metadata": {},
   "outputs": [],
   "source": []
  },
  {
   "cell_type": "code",
   "execution_count": null,
   "metadata": {},
   "outputs": [],
   "source": []
  },
  {
   "cell_type": "code",
   "execution_count": null,
   "metadata": {},
   "outputs": [],
   "source": []
  },
  {
   "cell_type": "code",
   "execution_count": null,
   "metadata": {},
   "outputs": [],
   "source": []
  },
  {
   "cell_type": "code",
   "execution_count": null,
   "metadata": {},
   "outputs": [],
   "source": []
  },
  {
   "cell_type": "code",
   "execution_count": null,
   "metadata": {},
   "outputs": [],
   "source": []
  },
  {
   "cell_type": "code",
   "execution_count": null,
   "metadata": {},
   "outputs": [],
   "source": []
  },
  {
   "cell_type": "code",
   "execution_count": null,
   "metadata": {},
   "outputs": [],
   "source": []
  },
  {
   "cell_type": "markdown",
   "metadata": {},
   "source": [
    "#### 5.2.1 Análisis de Discriminante"
   ]
  },
  {
   "cell_type": "code",
   "execution_count": null,
   "metadata": {},
   "outputs": [],
   "source": []
  }
 ],
 "metadata": {
  "colab": {
   "provenance": []
  },
  "kernelspec": {
   "display_name": "Python 3 (ipykernel)",
   "language": "python",
   "name": "python3"
  },
  "language_info": {
   "codemirror_mode": {
    "name": "ipython",
    "version": 3
   },
   "file_extension": ".py",
   "mimetype": "text/x-python",
   "name": "python",
   "nbconvert_exporter": "python",
   "pygments_lexer": "ipython3",
   "version": "3.11.7"
  }
 },
 "nbformat": 4,
 "nbformat_minor": 4
}
